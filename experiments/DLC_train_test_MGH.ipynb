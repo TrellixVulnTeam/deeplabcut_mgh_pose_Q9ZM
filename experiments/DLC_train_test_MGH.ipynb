{
 "cells": [
  {
   "cell_type": "code",
   "execution_count": 1,
   "metadata": {},
   "outputs": [
    {
     "name": "stdout",
     "output_type": "stream",
     "text": [
      "1.13.1\n"
     ]
    }
   ],
   "source": [
    "import sys\n",
    "sys.path.append('..')\n",
    "import deeplabcut\n",
    "import tensorflow as tf\n",
    "print(tf.__version__)\n",
    "import glob, os\n",
    "\n",
    "base_path = '/media/ssd_storage/work_repos/MGH/bootstrap_round3_2019_08_14_videos/'\n",
    "work_dir = '/media/ssd_storage/work_repos/MGH/deeplabcut_mgh_pose/experiments/'"
   ]
  },
  {
   "cell_type": "code",
   "execution_count": 2,
   "metadata": {},
   "outputs": [
    {
     "name": "stdout",
     "output_type": "stream",
     "text": [
      "Created \"/media/ssd_storage/work_repos/MGH/deeplabcut_mgh_pose/experiments/mgh_pose_dlc_BW46_3-Kalpit-2019-08-30/videos\"\n",
      "Created \"/media/ssd_storage/work_repos/MGH/deeplabcut_mgh_pose/experiments/mgh_pose_dlc_BW46_3-Kalpit-2019-08-30/labeled-data\"\n",
      "Created \"/media/ssd_storage/work_repos/MGH/deeplabcut_mgh_pose/experiments/mgh_pose_dlc_BW46_3-Kalpit-2019-08-30/training-datasets\"\n",
      "Created \"/media/ssd_storage/work_repos/MGH/deeplabcut_mgh_pose/experiments/mgh_pose_dlc_BW46_3-Kalpit-2019-08-30/dlc-models\"\n",
      "Copying the videos\n",
      "/media/ssd_storage/work_repos/MGH/deeplabcut_mgh_pose/experiments/mgh_pose_dlc_BW46_3-Kalpit-2019-08-30/videos/vid_4c6cb293_0167.avi\n",
      "/media/ssd_storage/work_repos/MGH/deeplabcut_mgh_pose/experiments/mgh_pose_dlc_BW46_3-Kalpit-2019-08-30/videos/vid_4c6cb293_0165.avi\n",
      "/media/ssd_storage/work_repos/MGH/deeplabcut_mgh_pose/experiments/mgh_pose_dlc_BW46_3-Kalpit-2019-08-30/videos/vid_4c6cb293_0168.avi\n",
      "/media/ssd_storage/work_repos/MGH/deeplabcut_mgh_pose/experiments/mgh_pose_dlc_BW46_3-Kalpit-2019-08-30/videos/vid_4c6cb293_0166.avi\n",
      "/media/ssd_storage/work_repos/MGH/deeplabcut_mgh_pose/experiments/mgh_pose_dlc_BW46_3-Kalpit-2019-08-30/videos/vid_4c6cb293_0164.avi\n",
      "Generated \"/media/ssd_storage/work_repos/MGH/deeplabcut_mgh_pose/experiments/mgh_pose_dlc_BW46_3-Kalpit-2019-08-30/config.yaml\"\n",
      "\n",
      "A new project with name mgh_pose_dlc_BW46_3-Kalpit-2019-08-30 is created at /media/ssd_storage/work_repos/MGH/deeplabcut_mgh_pose/experiments and a configurable file (config.yaml) is stored there. Change the parameters in this file to adapt to your project's needs.\n",
      " Once you have changed the configuration file, use the function 'extract_frames' to select frames for labeling.\n",
      ". [OPTIONAL] Use the function 'add_new_videos' to add new videos to your project (at any stage).\n",
      "Created \"/media/ssd_storage/work_repos/MGH/deeplabcut_mgh_pose/experiments/mgh_pose_dlc_MG51b_3-Kalpit-2019-08-30/videos\"\n",
      "Created \"/media/ssd_storage/work_repos/MGH/deeplabcut_mgh_pose/experiments/mgh_pose_dlc_MG51b_3-Kalpit-2019-08-30/labeled-data\"\n",
      "Created \"/media/ssd_storage/work_repos/MGH/deeplabcut_mgh_pose/experiments/mgh_pose_dlc_MG51b_3-Kalpit-2019-08-30/training-datasets\"\n",
      "Created \"/media/ssd_storage/work_repos/MGH/deeplabcut_mgh_pose/experiments/mgh_pose_dlc_MG51b_3-Kalpit-2019-08-30/dlc-models\"\n",
      "Copying the videos\n",
      "/media/ssd_storage/work_repos/MGH/deeplabcut_mgh_pose/experiments/mgh_pose_dlc_MG51b_3-Kalpit-2019-08-30/videos/vid_ceb2b945_0221.avi\n",
      "/media/ssd_storage/work_repos/MGH/deeplabcut_mgh_pose/experiments/mgh_pose_dlc_MG51b_3-Kalpit-2019-08-30/videos/vid_ceb2b945_0166.avi\n",
      "/media/ssd_storage/work_repos/MGH/deeplabcut_mgh_pose/experiments/mgh_pose_dlc_MG51b_3-Kalpit-2019-08-30/videos/vid_ceb2b945_0167.avi\n",
      "/media/ssd_storage/work_repos/MGH/deeplabcut_mgh_pose/experiments/mgh_pose_dlc_MG51b_3-Kalpit-2019-08-30/videos/vid_ceb2b945_0165.avi\n",
      "/media/ssd_storage/work_repos/MGH/deeplabcut_mgh_pose/experiments/mgh_pose_dlc_MG51b_3-Kalpit-2019-08-30/videos/vid_ceb2b945_0164.avi\n",
      "Generated \"/media/ssd_storage/work_repos/MGH/deeplabcut_mgh_pose/experiments/mgh_pose_dlc_MG51b_3-Kalpit-2019-08-30/config.yaml\"\n",
      "\n",
      "A new project with name mgh_pose_dlc_MG51b_3-Kalpit-2019-08-30 is created at /media/ssd_storage/work_repos/MGH/deeplabcut_mgh_pose/experiments and a configurable file (config.yaml) is stored there. Change the parameters in this file to adapt to your project's needs.\n",
      " Once you have changed the configuration file, use the function 'extract_frames' to select frames for labeling.\n",
      ". [OPTIONAL] Use the function 'add_new_videos' to add new videos to your project (at any stage).\n",
      "Created \"/media/ssd_storage/work_repos/MGH/deeplabcut_mgh_pose/experiments/mgh_pose_dlc_MG117_3-Kalpit-2019-08-30/videos\"\n",
      "Created \"/media/ssd_storage/work_repos/MGH/deeplabcut_mgh_pose/experiments/mgh_pose_dlc_MG117_3-Kalpit-2019-08-30/labeled-data\"\n",
      "Created \"/media/ssd_storage/work_repos/MGH/deeplabcut_mgh_pose/experiments/mgh_pose_dlc_MG117_3-Kalpit-2019-08-30/training-datasets\"\n",
      "Created \"/media/ssd_storage/work_repos/MGH/deeplabcut_mgh_pose/experiments/mgh_pose_dlc_MG117_3-Kalpit-2019-08-30/dlc-models\"\n",
      "Copying the videos\n",
      "/media/ssd_storage/work_repos/MGH/deeplabcut_mgh_pose/experiments/mgh_pose_dlc_MG117_3-Kalpit-2019-08-30/videos/vid_4b290604_0029.avi\n",
      "/media/ssd_storage/work_repos/MGH/deeplabcut_mgh_pose/experiments/mgh_pose_dlc_MG117_3-Kalpit-2019-08-30/videos/vid_4b290604_0026.avi\n",
      "/media/ssd_storage/work_repos/MGH/deeplabcut_mgh_pose/experiments/mgh_pose_dlc_MG117_3-Kalpit-2019-08-30/videos/vid_4b290604_0075.avi\n",
      "/media/ssd_storage/work_repos/MGH/deeplabcut_mgh_pose/experiments/mgh_pose_dlc_MG117_3-Kalpit-2019-08-30/videos/vid_4b290604_0028.avi\n",
      "/media/ssd_storage/work_repos/MGH/deeplabcut_mgh_pose/experiments/mgh_pose_dlc_MG117_3-Kalpit-2019-08-30/videos/vid_4b290604_0027.avi\n",
      "Generated \"/media/ssd_storage/work_repos/MGH/deeplabcut_mgh_pose/experiments/mgh_pose_dlc_MG117_3-Kalpit-2019-08-30/config.yaml\"\n",
      "\n",
      "A new project with name mgh_pose_dlc_MG117_3-Kalpit-2019-08-30 is created at /media/ssd_storage/work_repos/MGH/deeplabcut_mgh_pose/experiments and a configurable file (config.yaml) is stored there. Change the parameters in this file to adapt to your project's needs.\n",
      " Once you have changed the configuration file, use the function 'extract_frames' to select frames for labeling.\n",
      ". [OPTIONAL] Use the function 'add_new_videos' to add new videos to your project (at any stage).\n",
      "Created \"/media/ssd_storage/work_repos/MGH/deeplabcut_mgh_pose/experiments/mgh_pose_dlc_MG118_3-Kalpit-2019-08-30/videos\"\n",
      "Created \"/media/ssd_storage/work_repos/MGH/deeplabcut_mgh_pose/experiments/mgh_pose_dlc_MG118_3-Kalpit-2019-08-30/labeled-data\"\n",
      "Created \"/media/ssd_storage/work_repos/MGH/deeplabcut_mgh_pose/experiments/mgh_pose_dlc_MG118_3-Kalpit-2019-08-30/training-datasets\"\n",
      "Created \"/media/ssd_storage/work_repos/MGH/deeplabcut_mgh_pose/experiments/mgh_pose_dlc_MG118_3-Kalpit-2019-08-30/dlc-models\"\n",
      "Copying the videos\n",
      "/media/ssd_storage/work_repos/MGH/deeplabcut_mgh_pose/experiments/mgh_pose_dlc_MG118_3-Kalpit-2019-08-30/videos/vid_676ff1c6_0052.avi\n",
      "/media/ssd_storage/work_repos/MGH/deeplabcut_mgh_pose/experiments/mgh_pose_dlc_MG118_3-Kalpit-2019-08-30/videos/vid_676ff1c6_0051.avi\n",
      "/media/ssd_storage/work_repos/MGH/deeplabcut_mgh_pose/experiments/mgh_pose_dlc_MG118_3-Kalpit-2019-08-30/videos/vid_676ff1c6_0064.avi\n",
      "/media/ssd_storage/work_repos/MGH/deeplabcut_mgh_pose/experiments/mgh_pose_dlc_MG118_3-Kalpit-2019-08-30/videos/vid_676ff1c6_0053.avi\n",
      "/media/ssd_storage/work_repos/MGH/deeplabcut_mgh_pose/experiments/mgh_pose_dlc_MG118_3-Kalpit-2019-08-30/videos/vid_676ff1c6_0054.avi\n",
      "Generated \"/media/ssd_storage/work_repos/MGH/deeplabcut_mgh_pose/experiments/mgh_pose_dlc_MG118_3-Kalpit-2019-08-30/config.yaml\"\n",
      "\n",
      "A new project with name mgh_pose_dlc_MG118_3-Kalpit-2019-08-30 is created at /media/ssd_storage/work_repos/MGH/deeplabcut_mgh_pose/experiments and a configurable file (config.yaml) is stored there. Change the parameters in this file to adapt to your project's needs.\n",
      " Once you have changed the configuration file, use the function 'extract_frames' to select frames for labeling.\n",
      ". [OPTIONAL] Use the function 'add_new_videos' to add new videos to your project (at any stage).\n",
      "Created \"/media/ssd_storage/work_repos/MGH/deeplabcut_mgh_pose/experiments/mgh_pose_dlc_MG120b_3-Kalpit-2019-08-30/videos\"\n",
      "Created \"/media/ssd_storage/work_repos/MGH/deeplabcut_mgh_pose/experiments/mgh_pose_dlc_MG120b_3-Kalpit-2019-08-30/labeled-data\"\n",
      "Created \"/media/ssd_storage/work_repos/MGH/deeplabcut_mgh_pose/experiments/mgh_pose_dlc_MG120b_3-Kalpit-2019-08-30/training-datasets\"\n",
      "Created \"/media/ssd_storage/work_repos/MGH/deeplabcut_mgh_pose/experiments/mgh_pose_dlc_MG120b_3-Kalpit-2019-08-30/dlc-models\"\n",
      "Copying the videos\n",
      "/media/ssd_storage/work_repos/MGH/deeplabcut_mgh_pose/experiments/mgh_pose_dlc_MG120b_3-Kalpit-2019-08-30/videos/vid_415bfa06_0181.avi\n",
      "/media/ssd_storage/work_repos/MGH/deeplabcut_mgh_pose/experiments/mgh_pose_dlc_MG120b_3-Kalpit-2019-08-30/videos/vid_415bfa06_0180.avi\n",
      "/media/ssd_storage/work_repos/MGH/deeplabcut_mgh_pose/experiments/mgh_pose_dlc_MG120b_3-Kalpit-2019-08-30/videos/vid_415bfa06_0182.avi\n",
      "/media/ssd_storage/work_repos/MGH/deeplabcut_mgh_pose/experiments/mgh_pose_dlc_MG120b_3-Kalpit-2019-08-30/videos/vid_415bfa06_0200.avi\n",
      "/media/ssd_storage/work_repos/MGH/deeplabcut_mgh_pose/experiments/mgh_pose_dlc_MG120b_3-Kalpit-2019-08-30/videos/vid_415bfa06_0183.avi\n",
      "Generated \"/media/ssd_storage/work_repos/MGH/deeplabcut_mgh_pose/experiments/mgh_pose_dlc_MG120b_3-Kalpit-2019-08-30/config.yaml\"\n",
      "\n",
      "A new project with name mgh_pose_dlc_MG120b_3-Kalpit-2019-08-30 is created at /media/ssd_storage/work_repos/MGH/deeplabcut_mgh_pose/experiments and a configurable file (config.yaml) is stored there. Change the parameters in this file to adapt to your project's needs.\n",
      " Once you have changed the configuration file, use the function 'extract_frames' to select frames for labeling.\n",
      ". [OPTIONAL] Use the function 'add_new_videos' to add new videos to your project (at any stage).\n"
     ]
    }
   ],
   "source": [
    "videos_bw46 = glob.glob(os.path.join(base_path, 'BW46', '*.avi'))\n",
    "videos_mg51b = glob.glob(os.path.join(base_path, 'MG51b', '*.avi'))\n",
    "videos_mg117 = glob.glob(os.path.join(base_path, 'MG117', '*.avi'))\n",
    "videos_mg118 = glob.glob(os.path.join(base_path, 'MG118', '*.avi'))\n",
    "videos_mg120b = glob.glob(os.path.join(base_path, 'MG120b', '*.avi'))\n",
    "\n",
    "config_path_bw46 = deeplabcut.create_new_project(\n",
    "    project='mgh_pose_dlc_BW46_3',\n",
    "    experimenter='Kalpit',\n",
    "    videos=videos_bw46,\n",
    "    working_directory=work_dir,\n",
    "    copy_videos=True\n",
    ")\n",
    "config_path_mg51b = deeplabcut.create_new_project(\n",
    "    project='mgh_pose_dlc_MG51b_3',\n",
    "    experimenter='Kalpit',\n",
    "    videos=videos_mg51b,\n",
    "    working_directory=work_dir,\n",
    "    copy_videos=True\n",
    ")\n",
    "config_path_mg117 = deeplabcut.create_new_project(\n",
    "    project='mgh_pose_dlc_MG117_3',\n",
    "    experimenter='Kalpit',\n",
    "    videos=videos_mg117,\n",
    "    working_directory=work_dir,\n",
    "    copy_videos=True\n",
    ")\n",
    "config_path_mg118 = deeplabcut.create_new_project(\n",
    "    project='mgh_pose_dlc_MG118_3',\n",
    "    experimenter='Kalpit',\n",
    "    videos=videos_mg118,\n",
    "    working_directory=work_dir,\n",
    "    copy_videos=True\n",
    ")\n",
    "config_path_mg120b = deeplabcut.create_new_project(\n",
    "    project='mgh_pose_dlc_MG120b_3',\n",
    "    experimenter='Kalpit',\n",
    "    videos=videos_mg120b,\n",
    "    working_directory=work_dir,\n",
    "    copy_videos=True\n",
    ")"
   ]
  },
  {
   "cell_type": "code",
   "execution_count": 4,
   "metadata": {},
   "outputs": [
    {
     "name": "stdout",
     "output_type": "stream",
     "text": [
      "Config file read successfully.\n",
      "Do you want to extract (perhaps additional) frames for video: /media/ssd_storage/work_repos/MGH/deeplabcut_mgh_pose/experiments/mgh_pose_dlc_BW46_2-Kalpit-2019-08-14/videos/vid_4c6cb293_0167.avi ?\n",
      "yes/noyes\n",
      "Extracting frames based on uniform ...\n",
      "Uniformly extracting of frames from 2.42  seconds to 118.71  seconds.\n",
      "Do you want to extract (perhaps additional) frames for video: /media/ssd_storage/work_repos/MGH/deeplabcut_mgh_pose/experiments/mgh_pose_dlc_BW46_2-Kalpit-2019-08-14/videos/vid_4c6cb293_0165.avi ?\n",
      "yes/nono\n",
      "Do you want to extract (perhaps additional) frames for video: /media/ssd_storage/work_repos/MGH/deeplabcut_mgh_pose/experiments/mgh_pose_dlc_BW46_2-Kalpit-2019-08-14/videos/vid_4c6cb293_0168.avi ?\n",
      "yes/nono\n",
      "Do you want to extract (perhaps additional) frames for video: /media/ssd_storage/work_repos/MGH/deeplabcut_mgh_pose/experiments/mgh_pose_dlc_BW46_2-Kalpit-2019-08-14/videos/vid_4c6cb293_0166.avi ?\n",
      "yes/nono\n",
      "Do you want to extract (perhaps additional) frames for video: /media/ssd_storage/work_repos/MGH/deeplabcut_mgh_pose/experiments/mgh_pose_dlc_BW46_2-Kalpit-2019-08-14/videos/vid_4c6cb293_0164.avi ?\n",
      "yes/nono\n",
      "\n",
      "Frames were selected.\n",
      "You can now label the frames using the function 'label_frames' (if you extracted enough frames for all videos).\n"
     ]
    }
   ],
   "source": [
    "# Extract frames from the videos mentioned in the YAML at config_path and check if they are labeled (I generated\n",
    "# labels by hand as we had already annotated them).\n",
    "config_path_bw46 = os.path.join(work_dir, 'mgh_pose_dlc_BW46_2-Kalpit-2019-08-14', 'config.yaml')\n",
    "config_path_mg51b = os.path.join(work_dir, 'mgh_pose_dlc_MG51b_2-Kalpit-2019-08-14', 'config.yaml')\n",
    "config_path_mg117 = os.path.join(work_dir, 'mgh_pose_dlc_MG117_2-Kalpit-2019-08-14', 'config.yaml')\n",
    "config_path_mg118 = os.path.join(work_dir, 'mgh_pose_dlc_MG118_2-Kalpit-2019-08-14', 'config.yaml')\n",
    "config_path_mg120b = os.path.join(work_dir, 'mgh_pose_dlc_MG120b_2-Kalpit-2019-08-14', 'config.yaml')\n",
    "\n",
    "config_path = config_path_bw46\n",
    "deeplabcut.extract_frames(config_path, 'automatic', 'uniform', crop=False)\n",
    "# deeplabcut.check_labels(config_path)"
   ]
  },
  {
   "cell_type": "code",
   "execution_count": 5,
   "metadata": {},
   "outputs": [
    {
     "name": "stdout",
     "output_type": "stream",
     "text": [
      "/media/ssd_storage/work_repos/MGH/deeplabcut_mgh_pose/experiments/mgh_pose_dlc_BW46_2-Kalpit-2019-08-14/training-datasets/iteration-0/UnaugmentedDataSet_mgh_pose_dlc_BW46_2Aug14  already exists!\n",
      "/media/ssd_storage/work_repos/MGH/deeplabcut_mgh_pose/experiments/mgh_pose_dlc_BW46_2-Kalpit-2019-08-14/dlc-models/iteration-0/mgh_pose_dlc_BW46_2Aug14-trainset98shuffle1  already exists!\n",
      "/media/ssd_storage/work_repos/MGH/deeplabcut_mgh_pose/experiments/mgh_pose_dlc_BW46_2-Kalpit-2019-08-14/dlc-models/iteration-0/mgh_pose_dlc_BW46_2Aug14-trainset98shuffle1//train  already exists!\n",
      "/media/ssd_storage/work_repos/MGH/deeplabcut_mgh_pose/experiments/mgh_pose_dlc_BW46_2-Kalpit-2019-08-14/dlc-models/iteration-0/mgh_pose_dlc_BW46_2Aug14-trainset98shuffle1//test  already exists!\n",
      "The training dataset is successfully created. Use the function 'train_network' to start training. Happy training!\n"
     ]
    }
   ],
   "source": [
    "# Run this function to create the training dataset for different subjects\n",
    "deeplabcut.create_training_dataset(config_path_bw46)\n",
    "#deeplabcut.create_training_dataset(config_path_mg51b)\n",
    "#deeplabcut.create_training_dataset(config_path_mg117)\n",
    "#deeplabcut.create_training_dataset(config_path_mg118)\n",
    "#deeplabcut.create_training_dataset(config_path_mg120b)"
   ]
  },
  {
   "cell_type": "code",
   "execution_count": null,
   "metadata": {},
   "outputs": [],
   "source": [
    "# Train the network for different subjects one by one (the parameters to the train_network are good I think.\n",
    "# You can add something by referring the deeplabcut readme if you want to)\n",
    "config_path = config_path_bw46   # Change this value for different subject training\n",
    "deeplabcut.train_network(config_path,\n",
    "                         shuffle=1,\n",
    "                         trainingsetindex=0,\n",
    "                         max_snapshots_to_keep=5,\n",
    "                         autotune=False,\n",
    "                         displayiters=100,\n",
    "                         saveiters=20000,\n",
    "                         maxiters=800000)"
   ]
  },
  {
   "cell_type": "code",
   "execution_count": 5,
   "metadata": {},
   "outputs": [
    {
     "name": "stdout",
     "output_type": "stream",
     "text": [
      "Using snapshot-800000 for model /media/ssd_storage/work_repos/MGH/deeplabcut_mgh_pose/experiments/mgh_pose_dlc_BW46_2-Kalpit-2019-08-14/dlc-models/iteration-0/mgh_pose_dlc_BW46_2Aug14-trainset98shuffle1\n",
      "INFO:tensorflow:Restoring parameters from /media/ssd_storage/work_repos/MGH/deeplabcut_mgh_pose/experiments/mgh_pose_dlc_BW46_2-Kalpit-2019-08-14/dlc-models/iteration-0/mgh_pose_dlc_BW46_2Aug14-trainset98shuffle1/train/snapshot-800000\n"
     ]
    },
    {
     "name": "stderr",
     "output_type": "stream",
     "text": [
      "INFO:tensorflow:Restoring parameters from /media/ssd_storage/work_repos/MGH/deeplabcut_mgh_pose/experiments/mgh_pose_dlc_BW46_2-Kalpit-2019-08-14/dlc-models/iteration-0/mgh_pose_dlc_BW46_2Aug14-trainset98shuffle1/train/snapshot-800000\n",
      "  0%|          | 0/3591 [00:00<?, ?it/s]"
     ]
    },
    {
     "name": "stdout",
     "output_type": "stream",
     "text": [
      "Starting to analyze %  /media/data_cifs/MGH/videos/BW46/Xxxxxxx~ Xxxxx_e3d4db02-a6ec-43b8-8d71-2dba03ad2185_0168.mp4\n",
      "Loading  /media/data_cifs/MGH/videos/BW46/Xxxxxxx~ Xxxxx_e3d4db02-a6ec-43b8-8d71-2dba03ad2185_0168.mp4\n",
      "Duration of video [s]:  119.7 , recorded with  30.0 fps!\n",
      "Overall # of frames:  3591  found with (before cropping) frame dimensions:  640 480\n",
      "Starting to extract posture\n"
     ]
    },
    {
     "name": "stderr",
     "output_type": "stream",
     "text": [
      "3605it [00:39, 85.39it/s]                           "
     ]
    },
    {
     "name": "stdout",
     "output_type": "stream",
     "text": [
      "Detected frames:  3591\n"
     ]
    },
    {
     "name": "stderr",
     "output_type": "stream",
     "text": [
      "\n"
     ]
    },
    {
     "name": "stdout",
     "output_type": "stream",
     "text": [
      "Saving results in /media/data_cifs/MGH/videos/BW46...\n",
      "Saving csv poses!\n"
     ]
    },
    {
     "name": "stderr",
     "output_type": "stream",
     "text": [
      "\r",
      "  0%|          | 0/3631 [00:00<?, ?it/s]"
     ]
    },
    {
     "name": "stdout",
     "output_type": "stream",
     "text": [
      "Starting to analyze %  /media/data_cifs/MGH/videos/BW46/Xxxxxxx~ Xxxxx_e3d4db02-a6ec-43b8-8d71-2dba03ad2185_0205.mp4\n",
      "Loading  /media/data_cifs/MGH/videos/BW46/Xxxxxxx~ Xxxxx_e3d4db02-a6ec-43b8-8d71-2dba03ad2185_0205.mp4\n",
      "Duration of video [s]:  121.03 , recorded with  30.0 fps!\n",
      "Overall # of frames:  3631  found with (before cropping) frame dimensions:  640 480\n",
      "Starting to extract posture\n"
     ]
    },
    {
     "name": "stderr",
     "output_type": "stream",
     "text": [
      "3636it [00:41, 81.54it/s]                           "
     ]
    },
    {
     "name": "stdout",
     "output_type": "stream",
     "text": [
      "Detected frames:  3631\n"
     ]
    },
    {
     "name": "stderr",
     "output_type": "stream",
     "text": [
      "\n"
     ]
    },
    {
     "name": "stdout",
     "output_type": "stream",
     "text": [
      "Saving results in /media/data_cifs/MGH/videos/BW46...\n",
      "Saving csv poses!\n"
     ]
    },
    {
     "name": "stderr",
     "output_type": "stream",
     "text": [
      "\r",
      "  0%|          | 0/3553 [00:00<?, ?it/s]"
     ]
    },
    {
     "name": "stdout",
     "output_type": "stream",
     "text": [
      "Starting to analyze %  /media/data_cifs/MGH/videos/BW46/Xxxxxxx~ Xxxxx_e3d4db02-a6ec-43b8-8d71-2dba03ad2185_0215.mp4\n",
      "Loading  /media/data_cifs/MGH/videos/BW46/Xxxxxxx~ Xxxxx_e3d4db02-a6ec-43b8-8d71-2dba03ad2185_0215.mp4\n",
      "Duration of video [s]:  118.43 , recorded with  30.0 fps!\n",
      "Overall # of frames:  3553  found with (before cropping) frame dimensions:  640 480\n",
      "Starting to extract posture\n"
     ]
    },
    {
     "name": "stderr",
     "output_type": "stream",
     "text": [
      "3570it [00:38, 86.21it/s]                           "
     ]
    },
    {
     "name": "stdout",
     "output_type": "stream",
     "text": [
      "Detected frames:  3553\n"
     ]
    },
    {
     "name": "stderr",
     "output_type": "stream",
     "text": [
      "\n"
     ]
    },
    {
     "name": "stdout",
     "output_type": "stream",
     "text": [
      "Saving results in /media/data_cifs/MGH/videos/BW46...\n",
      "Saving csv poses!\n"
     ]
    },
    {
     "name": "stderr",
     "output_type": "stream",
     "text": [
      "\r",
      "  0%|          | 0/3516 [00:00<?, ?it/s]"
     ]
    },
    {
     "name": "stdout",
     "output_type": "stream",
     "text": [
      "Starting to analyze %  /media/data_cifs/MGH/videos/BW46/Xxxxxxx~ Xxxxx_e3d4db02-a6ec-43b8-8d71-2dba03ad2185_0241.mp4\n",
      "Loading  /media/data_cifs/MGH/videos/BW46/Xxxxxxx~ Xxxxx_e3d4db02-a6ec-43b8-8d71-2dba03ad2185_0241.mp4\n",
      "Duration of video [s]:  117.2 , recorded with  30.0 fps!\n",
      "Overall # of frames:  3516  found with (before cropping) frame dimensions:  640 480\n",
      "Starting to extract posture\n"
     ]
    },
    {
     "name": "stderr",
     "output_type": "stream",
     "text": [
      "3535it [00:41, 77.92it/s]                           "
     ]
    },
    {
     "name": "stdout",
     "output_type": "stream",
     "text": [
      "Detected frames:  3516\n"
     ]
    },
    {
     "name": "stderr",
     "output_type": "stream",
     "text": [
      "\n"
     ]
    },
    {
     "name": "stdout",
     "output_type": "stream",
     "text": [
      "Saving results in /media/data_cifs/MGH/videos/BW46...\n",
      "Saving csv poses!\n"
     ]
    },
    {
     "name": "stderr",
     "output_type": "stream",
     "text": [
      "\r",
      "  0%|          | 0/3603 [00:00<?, ?it/s]"
     ]
    },
    {
     "name": "stdout",
     "output_type": "stream",
     "text": [
      "Starting to analyze %  /media/data_cifs/MGH/videos/BW46/Xxxxxxx~ Xxxxx_e3d4db02-a6ec-43b8-8d71-2dba03ad2185_0232.mp4\n",
      "Loading  /media/data_cifs/MGH/videos/BW46/Xxxxxxx~ Xxxxx_e3d4db02-a6ec-43b8-8d71-2dba03ad2185_0232.mp4\n",
      "Duration of video [s]:  120.1 , recorded with  30.0 fps!\n",
      "Overall # of frames:  3603  found with (before cropping) frame dimensions:  640 480\n",
      "Starting to extract posture\n"
     ]
    },
    {
     "name": "stderr",
     "output_type": "stream",
     "text": [
      "3636it [00:40, 83.69it/s]                           \n"
     ]
    },
    {
     "name": "stdout",
     "output_type": "stream",
     "text": [
      "Detected frames:  3603\n",
      "Saving results in /media/data_cifs/MGH/videos/BW46...\n",
      "Saving csv poses!\n",
      "Starting to analyze %  /media/data_cifs/MGH/videos/BW46/Xxxxxxx~ Xxxxx_e3d4db02-a6ec-43b8-8d71-2dba03ad2185_0217.mp4\n",
      "Loading  /media/data_cifs/MGH/videos/BW46/Xxxxxxx~ Xxxxx_e3d4db02-a6ec-43b8-8d71-2dba03ad2185_0217.mp4\n"
     ]
    },
    {
     "name": "stderr",
     "output_type": "stream",
     "text": [
      "\r",
      "  0%|          | 0/3489 [00:00<?, ?it/s]"
     ]
    },
    {
     "name": "stdout",
     "output_type": "stream",
     "text": [
      "Duration of video [s]:  116.3 , recorded with  30.0 fps!\n",
      "Overall # of frames:  3489  found with (before cropping) frame dimensions:  640 480\n",
      "Starting to extract posture\n"
     ]
    },
    {
     "name": "stderr",
     "output_type": "stream",
     "text": [
      "3502it [00:38, 87.71it/s]                           "
     ]
    },
    {
     "name": "stdout",
     "output_type": "stream",
     "text": [
      "Detected frames:  3489\n"
     ]
    },
    {
     "name": "stderr",
     "output_type": "stream",
     "text": [
      "\n"
     ]
    },
    {
     "name": "stdout",
     "output_type": "stream",
     "text": [
      "Saving results in /media/data_cifs/MGH/videos/BW46...\n",
      "Saving csv poses!\n"
     ]
    },
    {
     "name": "stderr",
     "output_type": "stream",
     "text": [
      "\r",
      "  0%|          | 0/3619 [00:00<?, ?it/s]"
     ]
    },
    {
     "name": "stdout",
     "output_type": "stream",
     "text": [
      "Starting to analyze %  /media/data_cifs/MGH/videos/BW46/Xxxxxxx~ Xxxxx_e3d4db02-a6ec-43b8-8d71-2dba03ad2185_0236.mp4\n",
      "Loading  /media/data_cifs/MGH/videos/BW46/Xxxxxxx~ Xxxxx_e3d4db02-a6ec-43b8-8d71-2dba03ad2185_0236.mp4\n",
      "Duration of video [s]:  120.63 , recorded with  30.0 fps!\n",
      "Overall # of frames:  3619  found with (before cropping) frame dimensions:  640 480\n",
      "Starting to extract posture\n"
     ]
    },
    {
     "name": "stderr",
     "output_type": "stream",
     "text": [
      "3636it [00:39, 84.10it/s]                           "
     ]
    },
    {
     "name": "stdout",
     "output_type": "stream",
     "text": [
      "Detected frames:  3619\n"
     ]
    },
    {
     "name": "stderr",
     "output_type": "stream",
     "text": [
      "\n"
     ]
    },
    {
     "name": "stdout",
     "output_type": "stream",
     "text": [
      "Saving results in /media/data_cifs/MGH/videos/BW46...\n",
      "Saving csv poses!\n"
     ]
    },
    {
     "name": "stderr",
     "output_type": "stream",
     "text": [
      "\r",
      "  0%|          | 0/3426 [00:00<?, ?it/s]"
     ]
    },
    {
     "name": "stdout",
     "output_type": "stream",
     "text": [
      "Starting to analyze %  /media/data_cifs/MGH/videos/BW46/Xxxxxxx~ Xxxxx_4c6cb293-aaae-4e47-bb1a-34b771393a41_0251.mp4\n",
      "Loading  /media/data_cifs/MGH/videos/BW46/Xxxxxxx~ Xxxxx_4c6cb293-aaae-4e47-bb1a-34b771393a41_0251.mp4\n",
      "Duration of video [s]:  114.2 , recorded with  30.0 fps!\n",
      "Overall # of frames:  3426  found with (before cropping) frame dimensions:  640 480\n",
      "Starting to extract posture\n"
     ]
    },
    {
     "name": "stderr",
     "output_type": "stream",
     "text": [
      "3434it [00:38, 84.47it/s]                           "
     ]
    },
    {
     "name": "stdout",
     "output_type": "stream",
     "text": [
      "Detected frames:  3426\n"
     ]
    },
    {
     "name": "stderr",
     "output_type": "stream",
     "text": [
      "\n"
     ]
    },
    {
     "name": "stdout",
     "output_type": "stream",
     "text": [
      "Saving results in /media/data_cifs/MGH/videos/BW46...\n",
      "Saving csv poses!\n",
      "Starting to analyze %  /media/data_cifs/MGH/videos/BW46/Xxxxxxx~ Xxxxx_4c6cb293-aaae-4e47-bb1a-34b771393a41_0207.mp4\n",
      "Loading  /media/data_cifs/MGH/videos/BW46/Xxxxxxx~ Xxxxx_4c6cb293-aaae-4e47-bb1a-34b771393a41_0207.mp4\n",
      "Duration of video [s]:  120.07 , recorded with  30.0 fps!\n",
      "Overall # of frames:  3602  found with (before cropping) frame dimensions:  640 480\n",
      "Starting to extract posture\n"
     ]
    },
    {
     "name": "stderr",
     "output_type": "stream",
     "text": [
      "3636it [00:40, 83.40it/s]                           \n"
     ]
    },
    {
     "name": "stdout",
     "output_type": "stream",
     "text": [
      "Detected frames:  3602\n",
      "Saving results in /media/data_cifs/MGH/videos/BW46...\n",
      "Saving csv poses!\n"
     ]
    },
    {
     "name": "stderr",
     "output_type": "stream",
     "text": [
      "\r",
      "  0%|          | 0/3595 [00:00<?, ?it/s]"
     ]
    },
    {
     "name": "stdout",
     "output_type": "stream",
     "text": [
      "Starting to analyze %  /media/data_cifs/MGH/videos/BW46/Xxxxxxx~ Xxxxx_e3d4db02-a6ec-43b8-8d71-2dba03ad2185_0233.mp4\n",
      "Loading  /media/data_cifs/MGH/videos/BW46/Xxxxxxx~ Xxxxx_e3d4db02-a6ec-43b8-8d71-2dba03ad2185_0233.mp4\n",
      "Duration of video [s]:  119.83 , recorded with  30.0 fps!\n",
      "Overall # of frames:  3595  found with (before cropping) frame dimensions:  640 480\n",
      "Starting to extract posture\n"
     ]
    },
    {
     "name": "stderr",
     "output_type": "stream",
     "text": [
      "3605it [00:40, 83.70it/s]                           "
     ]
    },
    {
     "name": "stdout",
     "output_type": "stream",
     "text": [
      "Detected frames:  3595\n"
     ]
    },
    {
     "name": "stderr",
     "output_type": "stream",
     "text": [
      "\n"
     ]
    },
    {
     "name": "stdout",
     "output_type": "stream",
     "text": [
      "Saving results in /media/data_cifs/MGH/videos/BW46...\n",
      "Saving csv poses!\n"
     ]
    },
    {
     "name": "stderr",
     "output_type": "stream",
     "text": [
      "\r",
      "  0%|          | 0/3503 [00:00<?, ?it/s]"
     ]
    },
    {
     "name": "stdout",
     "output_type": "stream",
     "text": [
      "Starting to analyze %  /media/data_cifs/MGH/videos/BW46/Xxxxxxx~ Xxxxx_e3d4db02-a6ec-43b8-8d71-2dba03ad2185_0194.mp4\n",
      "Loading  /media/data_cifs/MGH/videos/BW46/Xxxxxxx~ Xxxxx_e3d4db02-a6ec-43b8-8d71-2dba03ad2185_0194.mp4\n",
      "Duration of video [s]:  116.77 , recorded with  30.0 fps!\n",
      "Overall # of frames:  3503  found with (before cropping) frame dimensions:  640 480\n",
      "Starting to extract posture\n"
     ]
    },
    {
     "name": "stderr",
     "output_type": "stream",
     "text": [
      "3535it [00:38, 87.05it/s]                           \n"
     ]
    },
    {
     "name": "stdout",
     "output_type": "stream",
     "text": [
      "Detected frames:  3503\n",
      "Saving results in /media/data_cifs/MGH/videos/BW46...\n",
      "Saving csv poses!\n"
     ]
    },
    {
     "name": "stderr",
     "output_type": "stream",
     "text": [
      "\r",
      "  0%|          | 0/3429 [00:00<?, ?it/s]"
     ]
    },
    {
     "name": "stdout",
     "output_type": "stream",
     "text": [
      "Starting to analyze %  /media/data_cifs/MGH/videos/BW46/Xxxxxxx~ Xxxxx_e3d4db02-a6ec-43b8-8d71-2dba03ad2185_0207.mp4\n",
      "Loading  /media/data_cifs/MGH/videos/BW46/Xxxxxxx~ Xxxxx_e3d4db02-a6ec-43b8-8d71-2dba03ad2185_0207.mp4\n",
      "Duration of video [s]:  114.3 , recorded with  30.0 fps!\n",
      "Overall # of frames:  3429  found with (before cropping) frame dimensions:  640 480\n",
      "Starting to extract posture\n"
     ]
    },
    {
     "name": "stderr",
     "output_type": "stream",
     "text": [
      "3434it [00:38, 85.97it/s]                           "
     ]
    },
    {
     "name": "stdout",
     "output_type": "stream",
     "text": [
      "Detected frames:  3429\n"
     ]
    },
    {
     "name": "stderr",
     "output_type": "stream",
     "text": [
      "\n"
     ]
    },
    {
     "name": "stdout",
     "output_type": "stream",
     "text": [
      "Saving results in /media/data_cifs/MGH/videos/BW46...\n",
      "Saving csv poses!\n"
     ]
    },
    {
     "name": "stderr",
     "output_type": "stream",
     "text": [
      "\r",
      "  0%|          | 0/3596 [00:00<?, ?it/s]"
     ]
    },
    {
     "name": "stdout",
     "output_type": "stream",
     "text": [
      "Starting to analyze %  /media/data_cifs/MGH/videos/BW46/Xxxxxxx~ Xxxxx_e3d4db02-a6ec-43b8-8d71-2dba03ad2185_0218.mp4\n",
      "Loading  /media/data_cifs/MGH/videos/BW46/Xxxxxxx~ Xxxxx_e3d4db02-a6ec-43b8-8d71-2dba03ad2185_0218.mp4\n",
      "Duration of video [s]:  119.87 , recorded with  30.0 fps!\n",
      "Overall # of frames:  3596  found with (before cropping) frame dimensions:  640 480\n",
      "Starting to extract posture\n"
     ]
    },
    {
     "name": "stderr",
     "output_type": "stream",
     "text": [
      "3605it [00:42, 83.31it/s]                           "
     ]
    },
    {
     "name": "stdout",
     "output_type": "stream",
     "text": [
      "Detected frames:  3596\n"
     ]
    },
    {
     "name": "stderr",
     "output_type": "stream",
     "text": [
      "\n"
     ]
    },
    {
     "name": "stdout",
     "output_type": "stream",
     "text": [
      "Saving results in /media/data_cifs/MGH/videos/BW46...\n",
      "Saving csv poses!\n"
     ]
    },
    {
     "name": "stderr",
     "output_type": "stream",
     "text": [
      "\r",
      "  0%|          | 0/3651 [00:00<?, ?it/s]"
     ]
    },
    {
     "name": "stdout",
     "output_type": "stream",
     "text": [
      "Starting to analyze %  /media/data_cifs/MGH/videos/BW46/Xxxxxxx~ Xxxxx_4c6cb293-aaae-4e47-bb1a-34b771393a41_0193.mp4\n",
      "Loading  /media/data_cifs/MGH/videos/BW46/Xxxxxxx~ Xxxxx_4c6cb293-aaae-4e47-bb1a-34b771393a41_0193.mp4\n",
      "Duration of video [s]:  121.7 , recorded with  30.0 fps!\n",
      "Overall # of frames:  3651  found with (before cropping) frame dimensions:  640 480\n",
      "Starting to extract posture\n"
     ]
    },
    {
     "name": "stderr",
     "output_type": "stream",
     "text": [
      "3672it [00:39, 87.25it/s]                           "
     ]
    },
    {
     "name": "stdout",
     "output_type": "stream",
     "text": [
      "Detected frames:  3651\n"
     ]
    },
    {
     "name": "stderr",
     "output_type": "stream",
     "text": [
      "\n"
     ]
    },
    {
     "name": "stdout",
     "output_type": "stream",
     "text": [
      "Saving results in /media/data_cifs/MGH/videos/BW46...\n",
      "Saving csv poses!\n"
     ]
    },
    {
     "name": "stderr",
     "output_type": "stream",
     "text": [
      "\r",
      "  0%|          | 0/3698 [00:00<?, ?it/s]"
     ]
    },
    {
     "name": "stdout",
     "output_type": "stream",
     "text": [
      "Starting to analyze %  /media/data_cifs/MGH/videos/BW46/Xxxxxxx~ Xxxxx_4c6cb293-aaae-4e47-bb1a-34b771393a41_0254.mp4\n",
      "Loading  /media/data_cifs/MGH/videos/BW46/Xxxxxxx~ Xxxxx_4c6cb293-aaae-4e47-bb1a-34b771393a41_0254.mp4\n",
      "Duration of video [s]:  123.27 , recorded with  30.0 fps!\n",
      "Overall # of frames:  3698  found with (before cropping) frame dimensions:  640 480\n",
      "Starting to extract posture\n"
     ]
    },
    {
     "name": "stderr",
     "output_type": "stream",
     "text": [
      "3708it [00:42, 82.27it/s]                          "
     ]
    },
    {
     "name": "stdout",
     "output_type": "stream",
     "text": [
      "Detected frames:  3698\n"
     ]
    },
    {
     "name": "stderr",
     "output_type": "stream",
     "text": [
      "\n"
     ]
    },
    {
     "name": "stdout",
     "output_type": "stream",
     "text": [
      "Saving results in /media/data_cifs/MGH/videos/BW46...\n",
      "Saving csv poses!\n"
     ]
    },
    {
     "name": "stderr",
     "output_type": "stream",
     "text": [
      "\r",
      "  0%|          | 0/3641 [00:00<?, ?it/s]"
     ]
    },
    {
     "name": "stdout",
     "output_type": "stream",
     "text": [
      "Starting to analyze %  /media/data_cifs/MGH/videos/BW46/Xxxxxxx~ Xxxxx_e3d4db02-a6ec-43b8-8d71-2dba03ad2185_0262.mp4\n",
      "Loading  /media/data_cifs/MGH/videos/BW46/Xxxxxxx~ Xxxxx_e3d4db02-a6ec-43b8-8d71-2dba03ad2185_0262.mp4\n",
      "Duration of video [s]:  121.37 , recorded with  30.0 fps!\n",
      "Overall # of frames:  3641  found with (before cropping) frame dimensions:  640 480\n",
      "Starting to extract posture\n"
     ]
    },
    {
     "name": "stderr",
     "output_type": "stream",
     "text": [
      "3672it [00:42, 77.73it/s]                          \n"
     ]
    },
    {
     "name": "stdout",
     "output_type": "stream",
     "text": [
      "Detected frames:  3641\n",
      "Saving results in /media/data_cifs/MGH/videos/BW46...\n",
      "Saving csv poses!\n"
     ]
    },
    {
     "name": "stderr",
     "output_type": "stream",
     "text": [
      "\r",
      "  0%|          | 0/3574 [00:00<?, ?it/s]"
     ]
    },
    {
     "name": "stdout",
     "output_type": "stream",
     "text": [
      "Starting to analyze %  /media/data_cifs/MGH/videos/BW46/Xxxxxxx~ Xxxxx_e3d4db02-a6ec-43b8-8d71-2dba03ad2185_0277.mp4\n",
      "Loading  /media/data_cifs/MGH/videos/BW46/Xxxxxxx~ Xxxxx_e3d4db02-a6ec-43b8-8d71-2dba03ad2185_0277.mp4\n",
      "Duration of video [s]:  119.13 , recorded with  30.0 fps!\n",
      "Overall # of frames:  3574  found with (before cropping) frame dimensions:  640 480\n",
      "Starting to extract posture\n"
     ]
    },
    {
     "name": "stderr",
     "output_type": "stream",
     "text": [
      "3605it [00:39, 76.13it/s]                           \n"
     ]
    },
    {
     "name": "stdout",
     "output_type": "stream",
     "text": [
      "Detected frames:  3574\n",
      "Saving results in /media/data_cifs/MGH/videos/BW46...\n",
      "Saving csv poses!\n"
     ]
    },
    {
     "name": "stderr",
     "output_type": "stream",
     "text": [
      "\r",
      "  0%|          | 0/3612 [00:00<?, ?it/s]"
     ]
    },
    {
     "name": "stdout",
     "output_type": "stream",
     "text": [
      "Starting to analyze %  /media/data_cifs/MGH/videos/BW46/Xxxxxxx~ Xxxxx_e3d4db02-a6ec-43b8-8d71-2dba03ad2185_0210.mp4\n",
      "Loading  /media/data_cifs/MGH/videos/BW46/Xxxxxxx~ Xxxxx_e3d4db02-a6ec-43b8-8d71-2dba03ad2185_0210.mp4\n",
      "Duration of video [s]:  120.4 , recorded with  30.0 fps!\n",
      "Overall # of frames:  3612  found with (before cropping) frame dimensions:  640 480\n",
      "Starting to extract posture\n"
     ]
    },
    {
     "name": "stderr",
     "output_type": "stream",
     "text": [
      "3636it [00:39, 81.58it/s]                           \n"
     ]
    },
    {
     "name": "stdout",
     "output_type": "stream",
     "text": [
      "Detected frames:  3612\n",
      "Saving results in /media/data_cifs/MGH/videos/BW46...\n",
      "Saving csv poses!\n"
     ]
    },
    {
     "name": "stderr",
     "output_type": "stream",
     "text": [
      "\r",
      "  0%|          | 0/3646 [00:00<?, ?it/s]"
     ]
    },
    {
     "name": "stdout",
     "output_type": "stream",
     "text": [
      "Starting to analyze %  /media/data_cifs/MGH/videos/BW46/Xxxxxxx~ Xxxxx_e3d4db02-a6ec-43b8-8d71-2dba03ad2185_0264.mp4\n",
      "Loading  /media/data_cifs/MGH/videos/BW46/Xxxxxxx~ Xxxxx_e3d4db02-a6ec-43b8-8d71-2dba03ad2185_0264.mp4\n",
      "Duration of video [s]:  121.53 , recorded with  30.0 fps!\n",
      "Overall # of frames:  3646  found with (before cropping) frame dimensions:  640 480\n",
      "Starting to extract posture\n"
     ]
    },
    {
     "name": "stderr",
     "output_type": "stream",
     "text": [
      "3672it [00:40, 85.87it/s]                           \n"
     ]
    },
    {
     "name": "stdout",
     "output_type": "stream",
     "text": [
      "Detected frames:  3646\n",
      "Saving results in /media/data_cifs/MGH/videos/BW46...\n",
      "Saving csv poses!\n"
     ]
    },
    {
     "name": "stderr",
     "output_type": "stream",
     "text": [
      "\r",
      "  0%|          | 0/3589 [00:00<?, ?it/s]"
     ]
    },
    {
     "name": "stdout",
     "output_type": "stream",
     "text": [
      "Starting to analyze %  /media/data_cifs/MGH/videos/BW46/Xxxxxxx~ Xxxxx_e3d4db02-a6ec-43b8-8d71-2dba03ad2185_0162.mp4\n",
      "Loading  /media/data_cifs/MGH/videos/BW46/Xxxxxxx~ Xxxxx_e3d4db02-a6ec-43b8-8d71-2dba03ad2185_0162.mp4\n",
      "Duration of video [s]:  119.63 , recorded with  30.0 fps!\n",
      "Overall # of frames:  3589  found with (before cropping) frame dimensions:  640 480\n",
      "Starting to extract posture\n"
     ]
    },
    {
     "name": "stderr",
     "output_type": "stream",
     "text": [
      "3605it [00:39, 74.70it/s]                           "
     ]
    },
    {
     "name": "stdout",
     "output_type": "stream",
     "text": [
      "Detected frames:  3589\n"
     ]
    },
    {
     "name": "stderr",
     "output_type": "stream",
     "text": [
      "\n"
     ]
    },
    {
     "name": "stdout",
     "output_type": "stream",
     "text": [
      "Saving results in /media/data_cifs/MGH/videos/BW46...\n",
      "Saving csv poses!\n"
     ]
    },
    {
     "name": "stderr",
     "output_type": "stream",
     "text": [
      "\r",
      "  0%|          | 0/3659 [00:00<?, ?it/s]"
     ]
    },
    {
     "name": "stdout",
     "output_type": "stream",
     "text": [
      "Starting to analyze %  /media/data_cifs/MGH/videos/BW46/Xxxxxxx~ Xxxxx_e3d4db02-a6ec-43b8-8d71-2dba03ad2185_0189.mp4\n",
      "Loading  /media/data_cifs/MGH/videos/BW46/Xxxxxxx~ Xxxxx_e3d4db02-a6ec-43b8-8d71-2dba03ad2185_0189.mp4\n",
      "Duration of video [s]:  121.97 , recorded with  30.0 fps!\n",
      "Overall # of frames:  3659  found with (before cropping) frame dimensions:  640 480\n",
      "Starting to extract posture\n"
     ]
    },
    {
     "name": "stderr",
     "output_type": "stream",
     "text": [
      "3672it [00:44, 79.67it/s]                           "
     ]
    },
    {
     "name": "stdout",
     "output_type": "stream",
     "text": [
      "Detected frames:  3659\n"
     ]
    },
    {
     "name": "stderr",
     "output_type": "stream",
     "text": [
      "\n"
     ]
    },
    {
     "name": "stdout",
     "output_type": "stream",
     "text": [
      "Saving results in /media/data_cifs/MGH/videos/BW46...\n",
      "Saving csv poses!\n"
     ]
    },
    {
     "name": "stderr",
     "output_type": "stream",
     "text": [
      "\r",
      "  0%|          | 0/3544 [00:00<?, ?it/s]"
     ]
    },
    {
     "name": "stdout",
     "output_type": "stream",
     "text": [
      "Starting to analyze %  /media/data_cifs/MGH/videos/BW46/Xxxxxxx~ Xxxxx_e3d4db02-a6ec-43b8-8d71-2dba03ad2185_0182.mp4\n",
      "Loading  /media/data_cifs/MGH/videos/BW46/Xxxxxxx~ Xxxxx_e3d4db02-a6ec-43b8-8d71-2dba03ad2185_0182.mp4\n",
      "Duration of video [s]:  118.13 , recorded with  30.0 fps!\n",
      "Overall # of frames:  3544  found with (before cropping) frame dimensions:  640 480\n",
      "Starting to extract posture\n"
     ]
    },
    {
     "name": "stderr",
     "output_type": "stream",
     "text": [
      "3570it [00:40, 86.97it/s]                          \n"
     ]
    },
    {
     "name": "stdout",
     "output_type": "stream",
     "text": [
      "Detected frames:  3544\n",
      "Saving results in /media/data_cifs/MGH/videos/BW46...\n",
      "Saving csv poses!\n"
     ]
    },
    {
     "name": "stderr",
     "output_type": "stream",
     "text": [
      "\r",
      "  0%|          | 0/3630 [00:00<?, ?it/s]"
     ]
    },
    {
     "name": "stdout",
     "output_type": "stream",
     "text": [
      "Starting to analyze %  /media/data_cifs/MGH/videos/BW46/Xxxxxxx~ Xxxxx_e3d4db02-a6ec-43b8-8d71-2dba03ad2185_0196.mp4\n",
      "Loading  /media/data_cifs/MGH/videos/BW46/Xxxxxxx~ Xxxxx_e3d4db02-a6ec-43b8-8d71-2dba03ad2185_0196.mp4\n",
      "Duration of video [s]:  121.0 , recorded with  30.0 fps!\n",
      "Overall # of frames:  3630  found with (before cropping) frame dimensions:  640 480\n",
      "Starting to extract posture\n"
     ]
    },
    {
     "name": "stderr",
     "output_type": "stream",
     "text": [
      "3636it [00:39, 83.51it/s]                           "
     ]
    },
    {
     "name": "stdout",
     "output_type": "stream",
     "text": [
      "Detected frames:  3630\n"
     ]
    },
    {
     "name": "stderr",
     "output_type": "stream",
     "text": [
      "\n"
     ]
    },
    {
     "name": "stdout",
     "output_type": "stream",
     "text": [
      "Saving results in /media/data_cifs/MGH/videos/BW46...\n",
      "Saving csv poses!\n"
     ]
    },
    {
     "name": "stderr",
     "output_type": "stream",
     "text": [
      "\r",
      "  0%|          | 0/3584 [00:00<?, ?it/s]"
     ]
    },
    {
     "name": "stdout",
     "output_type": "stream",
     "text": [
      "Starting to analyze %  /media/data_cifs/MGH/videos/BW46/Xxxxxxx~ Xxxxx_e3d4db02-a6ec-43b8-8d71-2dba03ad2185_0239.mp4\n",
      "Loading  /media/data_cifs/MGH/videos/BW46/Xxxxxxx~ Xxxxx_e3d4db02-a6ec-43b8-8d71-2dba03ad2185_0239.mp4\n",
      "Duration of video [s]:  119.47 , recorded with  30.0 fps!\n",
      "Overall # of frames:  3584  found with (before cropping) frame dimensions:  640 480\n",
      "Starting to extract posture\n"
     ]
    },
    {
     "name": "stderr",
     "output_type": "stream",
     "text": [
      "3605it [00:41, 81.07it/s]                           \n"
     ]
    },
    {
     "name": "stdout",
     "output_type": "stream",
     "text": [
      "Detected frames:  3584\n",
      "Saving results in /media/data_cifs/MGH/videos/BW46...\n",
      "Saving csv poses!\n"
     ]
    },
    {
     "name": "stderr",
     "output_type": "stream",
     "text": [
      "\r",
      "  0%|          | 0/3715 [00:00<?, ?it/s]"
     ]
    },
    {
     "name": "stdout",
     "output_type": "stream",
     "text": [
      "Starting to analyze %  /media/data_cifs/MGH/videos/BW46/Xxxxxxx~ Xxxxx_4c6cb293-aaae-4e47-bb1a-34b771393a41_0246.mp4\n",
      "Loading  /media/data_cifs/MGH/videos/BW46/Xxxxxxx~ Xxxxx_4c6cb293-aaae-4e47-bb1a-34b771393a41_0246.mp4\n",
      "Duration of video [s]:  123.83 , recorded with  30.0 fps!\n",
      "Overall # of frames:  3715  found with (before cropping) frame dimensions:  640 480\n",
      "Starting to extract posture\n"
     ]
    },
    {
     "name": "stderr",
     "output_type": "stream",
     "text": [
      "3737it [00:40, 84.95it/s]                           "
     ]
    },
    {
     "name": "stdout",
     "output_type": "stream",
     "text": [
      "Detected frames:  3715\n"
     ]
    },
    {
     "name": "stderr",
     "output_type": "stream",
     "text": [
      "\n"
     ]
    },
    {
     "name": "stdout",
     "output_type": "stream",
     "text": [
      "Saving results in /media/data_cifs/MGH/videos/BW46...\n",
      "Saving csv poses!\n"
     ]
    },
    {
     "name": "stderr",
     "output_type": "stream",
     "text": [
      "\r",
      "  0%|          | 0/3617 [00:00<?, ?it/s]"
     ]
    },
    {
     "name": "stdout",
     "output_type": "stream",
     "text": [
      "Starting to analyze %  /media/data_cifs/MGH/videos/BW46/Xxxxxxx~ Xxxxx_e3d4db02-a6ec-43b8-8d71-2dba03ad2185_0161.mp4\n",
      "Loading  /media/data_cifs/MGH/videos/BW46/Xxxxxxx~ Xxxxx_e3d4db02-a6ec-43b8-8d71-2dba03ad2185_0161.mp4\n",
      "Duration of video [s]:  120.57 , recorded with  30.0 fps!\n",
      "Overall # of frames:  3617  found with (before cropping) frame dimensions:  640 480\n",
      "Starting to extract posture\n"
     ]
    },
    {
     "name": "stderr",
     "output_type": "stream",
     "text": [
      "3636it [00:42, 76.71it/s]                           "
     ]
    },
    {
     "name": "stdout",
     "output_type": "stream",
     "text": [
      "Detected frames:  3617\n"
     ]
    },
    {
     "name": "stderr",
     "output_type": "stream",
     "text": [
      "\n"
     ]
    },
    {
     "name": "stdout",
     "output_type": "stream",
     "text": [
      "Saving results in /media/data_cifs/MGH/videos/BW46...\n",
      "Saving csv poses!\n"
     ]
    },
    {
     "name": "stderr",
     "output_type": "stream",
     "text": [
      "\r",
      "  0%|          | 0/2926 [00:00<?, ?it/s]"
     ]
    },
    {
     "name": "stdout",
     "output_type": "stream",
     "text": [
      "Starting to analyze %  /media/data_cifs/MGH/videos/BW46/Xxxxxxx~ Xxxxx_e3d4db02-a6ec-43b8-8d71-2dba03ad2185_0200.mp4\n",
      "Loading  /media/data_cifs/MGH/videos/BW46/Xxxxxxx~ Xxxxx_e3d4db02-a6ec-43b8-8d71-2dba03ad2185_0200.mp4\n",
      "Duration of video [s]:  97.53 , recorded with  30.0 fps!\n",
      "Overall # of frames:  2926  found with (before cropping) frame dimensions:  640 480\n",
      "Starting to extract posture\n"
     ]
    },
    {
     "name": "stderr",
     "output_type": "stream",
     "text": [
      "2929it [00:34, 97.94it/s]                           "
     ]
    },
    {
     "name": "stdout",
     "output_type": "stream",
     "text": [
      "Detected frames:  2926\n"
     ]
    },
    {
     "name": "stderr",
     "output_type": "stream",
     "text": [
      "\n"
     ]
    },
    {
     "name": "stdout",
     "output_type": "stream",
     "text": [
      "Saving results in /media/data_cifs/MGH/videos/BW46...\n",
      "Saving csv poses!\n"
     ]
    },
    {
     "name": "stderr",
     "output_type": "stream",
     "text": [
      "\r",
      "  0%|          | 0/3862 [00:00<?, ?it/s]"
     ]
    },
    {
     "name": "stdout",
     "output_type": "stream",
     "text": [
      "Starting to analyze %  /media/data_cifs/MGH/videos/BW46/Xxxxxxx~ Xxxxx_4c6cb293-aaae-4e47-bb1a-34b771393a41_0249.mp4\n",
      "Loading  /media/data_cifs/MGH/videos/BW46/Xxxxxxx~ Xxxxx_4c6cb293-aaae-4e47-bb1a-34b771393a41_0249.mp4\n",
      "Duration of video [s]:  128.73 , recorded with  30.0 fps!\n",
      "Overall # of frames:  3862  found with (before cropping) frame dimensions:  640 480\n",
      "Starting to extract posture\n"
     ]
    },
    {
     "name": "stderr",
     "output_type": "stream",
     "text": [
      "3876it [00:42, 81.23it/s]                           "
     ]
    },
    {
     "name": "stdout",
     "output_type": "stream",
     "text": [
      "Detected frames:  3862\n"
     ]
    },
    {
     "name": "stderr",
     "output_type": "stream",
     "text": [
      "\n"
     ]
    },
    {
     "name": "stdout",
     "output_type": "stream",
     "text": [
      "Saving results in /media/data_cifs/MGH/videos/BW46...\n",
      "Saving csv poses!\n"
     ]
    },
    {
     "name": "stderr",
     "output_type": "stream",
     "text": [
      "\r",
      "  0%|          | 0/3539 [00:00<?, ?it/s]"
     ]
    },
    {
     "name": "stdout",
     "output_type": "stream",
     "text": [
      "Starting to analyze %  /media/data_cifs/MGH/videos/BW46/Xxxxxxx~ Xxxxx_e3d4db02-a6ec-43b8-8d71-2dba03ad2185_0188.mp4\n",
      "Loading  /media/data_cifs/MGH/videos/BW46/Xxxxxxx~ Xxxxx_e3d4db02-a6ec-43b8-8d71-2dba03ad2185_0188.mp4\n",
      "Duration of video [s]:  117.97 , recorded with  30.0 fps!\n",
      "Overall # of frames:  3539  found with (before cropping) frame dimensions:  640 480\n",
      "Starting to extract posture\n"
     ]
    },
    {
     "name": "stderr",
     "output_type": "stream",
     "text": [
      "3570it [00:38, 89.01it/s]                           \n"
     ]
    },
    {
     "name": "stdout",
     "output_type": "stream",
     "text": [
      "Detected frames:  3539\n",
      "Saving results in /media/data_cifs/MGH/videos/BW46...\n",
      "Saving csv poses!\n"
     ]
    },
    {
     "name": "stderr",
     "output_type": "stream",
     "text": [
      "\r",
      "  0%|          | 0/3597 [00:00<?, ?it/s]"
     ]
    },
    {
     "name": "stdout",
     "output_type": "stream",
     "text": [
      "Starting to analyze %  /media/data_cifs/MGH/videos/BW46/Xxxxxxx~ Xxxxx_e3d4db02-a6ec-43b8-8d71-2dba03ad2185_0220.mp4\n",
      "Loading  /media/data_cifs/MGH/videos/BW46/Xxxxxxx~ Xxxxx_e3d4db02-a6ec-43b8-8d71-2dba03ad2185_0220.mp4\n",
      "Duration of video [s]:  119.9 , recorded with  30.0 fps!\n",
      "Overall # of frames:  3597  found with (before cropping) frame dimensions:  640 480\n",
      "Starting to extract posture\n"
     ]
    },
    {
     "name": "stderr",
     "output_type": "stream",
     "text": [
      "3605it [00:41, 83.49it/s]                           "
     ]
    },
    {
     "name": "stdout",
     "output_type": "stream",
     "text": [
      "Detected frames:  3597\n"
     ]
    },
    {
     "name": "stderr",
     "output_type": "stream",
     "text": [
      "\n"
     ]
    },
    {
     "name": "stdout",
     "output_type": "stream",
     "text": [
      "Saving results in /media/data_cifs/MGH/videos/BW46...\n",
      "Saving csv poses!\n"
     ]
    },
    {
     "name": "stderr",
     "output_type": "stream",
     "text": [
      "\r",
      "  0%|          | 0/3722 [00:00<?, ?it/s]"
     ]
    },
    {
     "name": "stdout",
     "output_type": "stream",
     "text": [
      "Starting to analyze %  /media/data_cifs/MGH/videos/BW46/Xxxxxxx~ Xxxxx_e3d4db02-a6ec-43b8-8d71-2dba03ad2185_0240.mp4\n",
      "Loading  /media/data_cifs/MGH/videos/BW46/Xxxxxxx~ Xxxxx_e3d4db02-a6ec-43b8-8d71-2dba03ad2185_0240.mp4\n",
      "Duration of video [s]:  124.07 , recorded with  30.0 fps!\n",
      "Overall # of frames:  3722  found with (before cropping) frame dimensions:  640 480\n",
      "Starting to extract posture\n"
     ]
    },
    {
     "name": "stderr",
     "output_type": "stream",
     "text": [
      "3737it [00:43, 82.87it/s]                           "
     ]
    },
    {
     "name": "stdout",
     "output_type": "stream",
     "text": [
      "Detected frames:  3722\n"
     ]
    },
    {
     "name": "stderr",
     "output_type": "stream",
     "text": [
      "\n"
     ]
    },
    {
     "name": "stdout",
     "output_type": "stream",
     "text": [
      "Saving results in /media/data_cifs/MGH/videos/BW46...\n",
      "Saving csv poses!\n"
     ]
    },
    {
     "name": "stderr",
     "output_type": "stream",
     "text": [
      "\r",
      "  0%|          | 0/3593 [00:00<?, ?it/s]"
     ]
    },
    {
     "name": "stdout",
     "output_type": "stream",
     "text": [
      "Starting to analyze %  /media/data_cifs/MGH/videos/BW46/Xxxxxxx~ Xxxxx_e3d4db02-a6ec-43b8-8d71-2dba03ad2185_0224.mp4\n",
      "Loading  /media/data_cifs/MGH/videos/BW46/Xxxxxxx~ Xxxxx_e3d4db02-a6ec-43b8-8d71-2dba03ad2185_0224.mp4\n",
      "Duration of video [s]:  119.77 , recorded with  30.0 fps!\n",
      "Overall # of frames:  3593  found with (before cropping) frame dimensions:  640 480\n",
      "Starting to extract posture\n"
     ]
    },
    {
     "name": "stderr",
     "output_type": "stream",
     "text": [
      "3605it [00:39, 84.80it/s]                           "
     ]
    },
    {
     "name": "stdout",
     "output_type": "stream",
     "text": [
      "Detected frames:  3593\n"
     ]
    },
    {
     "name": "stderr",
     "output_type": "stream",
     "text": [
      "\n"
     ]
    },
    {
     "name": "stdout",
     "output_type": "stream",
     "text": [
      "Saving results in /media/data_cifs/MGH/videos/BW46...\n",
      "Saving csv poses!\n"
     ]
    },
    {
     "name": "stderr",
     "output_type": "stream",
     "text": [
      "\r",
      "  0%|          | 0/3668 [00:00<?, ?it/s]"
     ]
    },
    {
     "name": "stdout",
     "output_type": "stream",
     "text": [
      "Starting to analyze %  /media/data_cifs/MGH/videos/BW46/Xxxxxxx~ Xxxxx_e3d4db02-a6ec-43b8-8d71-2dba03ad2185_0197.mp4\n",
      "Loading  /media/data_cifs/MGH/videos/BW46/Xxxxxxx~ Xxxxx_e3d4db02-a6ec-43b8-8d71-2dba03ad2185_0197.mp4\n",
      "Duration of video [s]:  122.27 , recorded with  30.0 fps!\n",
      "Overall # of frames:  3668  found with (before cropping) frame dimensions:  640 480\n",
      "Starting to extract posture\n"
     ]
    },
    {
     "name": "stderr",
     "output_type": "stream",
     "text": [
      "3672it [00:40, 85.69it/s]                           "
     ]
    },
    {
     "name": "stdout",
     "output_type": "stream",
     "text": [
      "Detected frames:  3668\n"
     ]
    },
    {
     "name": "stderr",
     "output_type": "stream",
     "text": [
      "\n"
     ]
    },
    {
     "name": "stdout",
     "output_type": "stream",
     "text": [
      "Saving results in /media/data_cifs/MGH/videos/BW46...\n",
      "Saving csv poses!\n"
     ]
    },
    {
     "name": "stderr",
     "output_type": "stream",
     "text": [
      "\r",
      "  0%|          | 0/3585 [00:00<?, ?it/s]"
     ]
    },
    {
     "name": "stdout",
     "output_type": "stream",
     "text": [
      "Starting to analyze %  /media/data_cifs/MGH/videos/BW46/Xxxxxxx~ Xxxxx_e3d4db02-a6ec-43b8-8d71-2dba03ad2185_0221.mp4\n",
      "Loading  /media/data_cifs/MGH/videos/BW46/Xxxxxxx~ Xxxxx_e3d4db02-a6ec-43b8-8d71-2dba03ad2185_0221.mp4\n",
      "Duration of video [s]:  119.5 , recorded with  30.0 fps!\n",
      "Overall # of frames:  3585  found with (before cropping) frame dimensions:  640 480\n",
      "Starting to extract posture\n"
     ]
    },
    {
     "name": "stderr",
     "output_type": "stream",
     "text": [
      "3605it [00:42, 84.49it/s]                           "
     ]
    },
    {
     "name": "stdout",
     "output_type": "stream",
     "text": [
      "Detected frames:  3585\n"
     ]
    },
    {
     "name": "stderr",
     "output_type": "stream",
     "text": [
      "\n"
     ]
    },
    {
     "name": "stdout",
     "output_type": "stream",
     "text": [
      "Saving results in /media/data_cifs/MGH/videos/BW46...\n",
      "Saving csv poses!\n",
      "Starting to analyze %  /media/data_cifs/MGH/videos/BW46/Xxxxxxx~ Xxxxx_e3d4db02-a6ec-43b8-8d71-2dba03ad2185_0159.mp4\n",
      "Loading  /media/data_cifs/MGH/videos/BW46/Xxxxxxx~ Xxxxx_e3d4db02-a6ec-43b8-8d71-2dba03ad2185_0159.mp4\n"
     ]
    },
    {
     "name": "stderr",
     "output_type": "stream",
     "text": [
      "\r",
      "  0%|          | 0/3626 [00:00<?, ?it/s]"
     ]
    },
    {
     "name": "stdout",
     "output_type": "stream",
     "text": [
      "Duration of video [s]:  120.87 , recorded with  30.0 fps!\n",
      "Overall # of frames:  3626  found with (before cropping) frame dimensions:  640 480\n",
      "Starting to extract posture\n"
     ]
    },
    {
     "name": "stderr",
     "output_type": "stream",
     "text": [
      "3636it [00:42, 84.70it/s]                          "
     ]
    },
    {
     "name": "stdout",
     "output_type": "stream",
     "text": [
      "Detected frames:  3626\n"
     ]
    },
    {
     "name": "stderr",
     "output_type": "stream",
     "text": [
      "\n"
     ]
    },
    {
     "name": "stdout",
     "output_type": "stream",
     "text": [
      "Saving results in /media/data_cifs/MGH/videos/BW46...\n",
      "Saving csv poses!\n"
     ]
    },
    {
     "name": "stderr",
     "output_type": "stream",
     "text": [
      "\r",
      "  0%|          | 0/3610 [00:00<?, ?it/s]"
     ]
    },
    {
     "name": "stdout",
     "output_type": "stream",
     "text": [
      "Starting to analyze %  /media/data_cifs/MGH/videos/BW46/Xxxxxxx~ Xxxxx_e3d4db02-a6ec-43b8-8d71-2dba03ad2185_0278.mp4\n",
      "Loading  /media/data_cifs/MGH/videos/BW46/Xxxxxxx~ Xxxxx_e3d4db02-a6ec-43b8-8d71-2dba03ad2185_0278.mp4\n",
      "Duration of video [s]:  120.33 , recorded with  30.0 fps!\n",
      "Overall # of frames:  3610  found with (before cropping) frame dimensions:  640 480\n",
      "Starting to extract posture\n"
     ]
    },
    {
     "name": "stderr",
     "output_type": "stream",
     "text": [
      "3636it [00:39, 82.94it/s]                           \n"
     ]
    },
    {
     "name": "stdout",
     "output_type": "stream",
     "text": [
      "Detected frames:  3610\n",
      "Saving results in /media/data_cifs/MGH/videos/BW46...\n",
      "Saving csv poses!\n"
     ]
    },
    {
     "name": "stderr",
     "output_type": "stream",
     "text": [
      "\r",
      "  0%|          | 0/3512 [00:00<?, ?it/s]"
     ]
    },
    {
     "name": "stdout",
     "output_type": "stream",
     "text": [
      "Starting to analyze %  /media/data_cifs/MGH/videos/BW46/Xxxxxxx~ Xxxxx_e3d4db02-a6ec-43b8-8d71-2dba03ad2185_0273.mp4\n",
      "Loading  /media/data_cifs/MGH/videos/BW46/Xxxxxxx~ Xxxxx_e3d4db02-a6ec-43b8-8d71-2dba03ad2185_0273.mp4\n",
      "Duration of video [s]:  117.07 , recorded with  30.0 fps!\n",
      "Overall # of frames:  3512  found with (before cropping) frame dimensions:  640 480\n",
      "Starting to extract posture\n"
     ]
    },
    {
     "name": "stderr",
     "output_type": "stream",
     "text": [
      "3535it [00:39, 86.46it/s]                           \n"
     ]
    },
    {
     "name": "stdout",
     "output_type": "stream",
     "text": [
      "Detected frames:  3512\n",
      "Saving results in /media/data_cifs/MGH/videos/BW46...\n",
      "Saving csv poses!\n"
     ]
    },
    {
     "name": "stderr",
     "output_type": "stream",
     "text": [
      "\r",
      "  0%|          | 0/3578 [00:00<?, ?it/s]"
     ]
    },
    {
     "name": "stdout",
     "output_type": "stream",
     "text": [
      "Starting to analyze %  /media/data_cifs/MGH/videos/BW46/Xxxxxxx~ Xxxxx_e3d4db02-a6ec-43b8-8d71-2dba03ad2185_0292.mp4\n",
      "Loading  /media/data_cifs/MGH/videos/BW46/Xxxxxxx~ Xxxxx_e3d4db02-a6ec-43b8-8d71-2dba03ad2185_0292.mp4\n",
      "Duration of video [s]:  119.27 , recorded with  30.0 fps!\n",
      "Overall # of frames:  3578  found with (before cropping) frame dimensions:  640 480\n",
      "Starting to extract posture\n"
     ]
    },
    {
     "name": "stderr",
     "output_type": "stream",
     "text": [
      "3605it [00:38, 75.39it/s]                           \n"
     ]
    },
    {
     "name": "stdout",
     "output_type": "stream",
     "text": [
      "Detected frames:  3578\n",
      "Saving results in /media/data_cifs/MGH/videos/BW46...\n",
      "Saving csv poses!\n"
     ]
    },
    {
     "name": "stderr",
     "output_type": "stream",
     "text": [
      "\r",
      "  0%|          | 0/3668 [00:00<?, ?it/s]"
     ]
    },
    {
     "name": "stdout",
     "output_type": "stream",
     "text": [
      "Starting to analyze %  /media/data_cifs/MGH/videos/BW46/Xxxxxxx~ Xxxxx_e3d4db02-a6ec-43b8-8d71-2dba03ad2185_0212.mp4\n",
      "Loading  /media/data_cifs/MGH/videos/BW46/Xxxxxxx~ Xxxxx_e3d4db02-a6ec-43b8-8d71-2dba03ad2185_0212.mp4\n",
      "Duration of video [s]:  122.27 , recorded with  30.0 fps!\n",
      "Overall # of frames:  3668  found with (before cropping) frame dimensions:  640 480\n",
      "Starting to extract posture\n"
     ]
    },
    {
     "name": "stderr",
     "output_type": "stream",
     "text": [
      "3672it [00:40, 82.48it/s]                           "
     ]
    },
    {
     "name": "stdout",
     "output_type": "stream",
     "text": [
      "Detected frames:  3668\n"
     ]
    },
    {
     "name": "stderr",
     "output_type": "stream",
     "text": [
      "\n"
     ]
    },
    {
     "name": "stdout",
     "output_type": "stream",
     "text": [
      "Saving results in /media/data_cifs/MGH/videos/BW46...\n",
      "Saving csv poses!\n"
     ]
    },
    {
     "name": "stderr",
     "output_type": "stream",
     "text": [
      "\r",
      "  0%|          | 0/3592 [00:00<?, ?it/s]"
     ]
    },
    {
     "name": "stdout",
     "output_type": "stream",
     "text": [
      "Starting to analyze %  /media/data_cifs/MGH/videos/BW46/Xxxxxxx~ Xxxxx_e3d4db02-a6ec-43b8-8d71-2dba03ad2185_0164.mp4\n",
      "Loading  /media/data_cifs/MGH/videos/BW46/Xxxxxxx~ Xxxxx_e3d4db02-a6ec-43b8-8d71-2dba03ad2185_0164.mp4\n",
      "Duration of video [s]:  119.73 , recorded with  30.0 fps!\n",
      "Overall # of frames:  3592  found with (before cropping) frame dimensions:  640 480\n",
      "Starting to extract posture\n"
     ]
    },
    {
     "name": "stderr",
     "output_type": "stream",
     "text": [
      "3605it [00:40, 83.13it/s]                           "
     ]
    },
    {
     "name": "stdout",
     "output_type": "stream",
     "text": [
      "Detected frames:  3592\n"
     ]
    },
    {
     "name": "stderr",
     "output_type": "stream",
     "text": [
      "\n"
     ]
    },
    {
     "name": "stdout",
     "output_type": "stream",
     "text": [
      "Saving results in /media/data_cifs/MGH/videos/BW46...\n",
      "Saving csv poses!\n"
     ]
    },
    {
     "name": "stderr",
     "output_type": "stream",
     "text": [
      "\r",
      "  0%|          | 0/3603 [00:00<?, ?it/s]"
     ]
    },
    {
     "name": "stdout",
     "output_type": "stream",
     "text": [
      "Starting to analyze %  /media/data_cifs/MGH/videos/BW46/Xxxxxxx~ Xxxxx_e3d4db02-a6ec-43b8-8d71-2dba03ad2185_0254.mp4\n",
      "Loading  /media/data_cifs/MGH/videos/BW46/Xxxxxxx~ Xxxxx_e3d4db02-a6ec-43b8-8d71-2dba03ad2185_0254.mp4\n",
      "Duration of video [s]:  120.1 , recorded with  30.0 fps!\n",
      "Overall # of frames:  3603  found with (before cropping) frame dimensions:  640 480\n",
      "Starting to extract posture\n"
     ]
    },
    {
     "name": "stderr",
     "output_type": "stream",
     "text": [
      "3636it [00:40, 80.51it/s]                          \n"
     ]
    },
    {
     "name": "stdout",
     "output_type": "stream",
     "text": [
      "Detected frames:  3603\n",
      "Saving results in /media/data_cifs/MGH/videos/BW46...\n",
      "Saving csv poses!\n"
     ]
    },
    {
     "name": "stderr",
     "output_type": "stream",
     "text": [
      "\r",
      "  0%|          | 0/3672 [00:00<?, ?it/s]"
     ]
    },
    {
     "name": "stdout",
     "output_type": "stream",
     "text": [
      "Starting to analyze %  /media/data_cifs/MGH/videos/BW46/Xxxxxxx~ Xxxxx_e3d4db02-a6ec-43b8-8d71-2dba03ad2185_0165.mp4\n",
      "Loading  /media/data_cifs/MGH/videos/BW46/Xxxxxxx~ Xxxxx_e3d4db02-a6ec-43b8-8d71-2dba03ad2185_0165.mp4\n",
      "Duration of video [s]:  122.4 , recorded with  30.0 fps!\n",
      "Overall # of frames:  3672  found with (before cropping) frame dimensions:  640 480\n",
      "Starting to extract posture\n"
     ]
    },
    {
     "name": "stderr",
     "output_type": "stream",
     "text": [
      "3708it [00:41, 81.04it/s]                           \n"
     ]
    },
    {
     "name": "stdout",
     "output_type": "stream",
     "text": [
      "Detected frames:  3672\n",
      "Saving results in /media/data_cifs/MGH/videos/BW46...\n",
      "Saving csv poses!\n"
     ]
    },
    {
     "name": "stderr",
     "output_type": "stream",
     "text": [
      "\r",
      "  0%|          | 0/3573 [00:00<?, ?it/s]"
     ]
    },
    {
     "name": "stdout",
     "output_type": "stream",
     "text": [
      "Starting to analyze %  /media/data_cifs/MGH/videos/BW46/Xxxxxxx~ Xxxxx_e3d4db02-a6ec-43b8-8d71-2dba03ad2185_0287.mp4\n",
      "Loading  /media/data_cifs/MGH/videos/BW46/Xxxxxxx~ Xxxxx_e3d4db02-a6ec-43b8-8d71-2dba03ad2185_0287.mp4\n",
      "Duration of video [s]:  119.1 , recorded with  30.0 fps!\n",
      "Overall # of frames:  3573  found with (before cropping) frame dimensions:  640 480\n",
      "Starting to extract posture\n"
     ]
    },
    {
     "name": "stderr",
     "output_type": "stream",
     "text": [
      "3605it [00:39, 80.05it/s]                           \n"
     ]
    },
    {
     "name": "stdout",
     "output_type": "stream",
     "text": [
      "Detected frames:  3573\n",
      "Saving results in /media/data_cifs/MGH/videos/BW46...\n",
      "Saving csv poses!\n"
     ]
    },
    {
     "name": "stderr",
     "output_type": "stream",
     "text": [
      "\r",
      "  0%|          | 0/3673 [00:00<?, ?it/s]"
     ]
    },
    {
     "name": "stdout",
     "output_type": "stream",
     "text": [
      "Starting to analyze %  /media/data_cifs/MGH/videos/BW46/Xxxxxxx~ Xxxxx_4c6cb293-aaae-4e47-bb1a-34b771393a41_0208.mp4\n",
      "Loading  /media/data_cifs/MGH/videos/BW46/Xxxxxxx~ Xxxxx_4c6cb293-aaae-4e47-bb1a-34b771393a41_0208.mp4\n",
      "Duration of video [s]:  122.43 , recorded with  30.0 fps!\n",
      "Overall # of frames:  3673  found with (before cropping) frame dimensions:  640 480\n",
      "Starting to extract posture\n"
     ]
    },
    {
     "name": "stderr",
     "output_type": "stream",
     "text": [
      "3708it [00:42, 83.75it/s]                           \n"
     ]
    },
    {
     "name": "stdout",
     "output_type": "stream",
     "text": [
      "Detected frames:  3673\n",
      "Saving results in /media/data_cifs/MGH/videos/BW46...\n",
      "Saving csv poses!\n"
     ]
    },
    {
     "name": "stderr",
     "output_type": "stream",
     "text": [
      "\r",
      "  0%|          | 0/3596 [00:00<?, ?it/s]"
     ]
    },
    {
     "name": "stdout",
     "output_type": "stream",
     "text": [
      "Starting to analyze %  /media/data_cifs/MGH/videos/BW46/Xxxxxxx~ Xxxxx_4c6cb293-aaae-4e47-bb1a-34b771393a41_0213.mp4\n",
      "Loading  /media/data_cifs/MGH/videos/BW46/Xxxxxxx~ Xxxxx_4c6cb293-aaae-4e47-bb1a-34b771393a41_0213.mp4\n",
      "Duration of video [s]:  119.87 , recorded with  30.0 fps!\n",
      "Overall # of frames:  3596  found with (before cropping) frame dimensions:  640 480\n",
      "Starting to extract posture\n"
     ]
    },
    {
     "name": "stderr",
     "output_type": "stream",
     "text": [
      "3605it [00:38, 84.65it/s]                           "
     ]
    },
    {
     "name": "stdout",
     "output_type": "stream",
     "text": [
      "Detected frames:  3596\n"
     ]
    },
    {
     "name": "stderr",
     "output_type": "stream",
     "text": [
      "\n"
     ]
    },
    {
     "name": "stdout",
     "output_type": "stream",
     "text": [
      "Saving results in /media/data_cifs/MGH/videos/BW46...\n",
      "Saving csv poses!\n"
     ]
    },
    {
     "name": "stderr",
     "output_type": "stream",
     "text": [
      "\r",
      "  0%|          | 0/3613 [00:00<?, ?it/s]"
     ]
    },
    {
     "name": "stdout",
     "output_type": "stream",
     "text": [
      "Starting to analyze %  /media/data_cifs/MGH/videos/BW46/Xxxxxxx~ Xxxxx_e3d4db02-a6ec-43b8-8d71-2dba03ad2185_0184.mp4\n",
      "Loading  /media/data_cifs/MGH/videos/BW46/Xxxxxxx~ Xxxxx_e3d4db02-a6ec-43b8-8d71-2dba03ad2185_0184.mp4\n",
      "Duration of video [s]:  120.43 , recorded with  30.0 fps!\n",
      "Overall # of frames:  3613  found with (before cropping) frame dimensions:  640 480\n",
      "Starting to extract posture\n"
     ]
    },
    {
     "name": "stderr",
     "output_type": "stream",
     "text": [
      "3636it [00:40, 83.15it/s]                           \n"
     ]
    },
    {
     "name": "stdout",
     "output_type": "stream",
     "text": [
      "Detected frames:  3613\n",
      "Saving results in /media/data_cifs/MGH/videos/BW46...\n",
      "Saving csv poses!\n"
     ]
    },
    {
     "name": "stderr",
     "output_type": "stream",
     "text": [
      "\r",
      "  0%|          | 0/3538 [00:00<?, ?it/s]"
     ]
    },
    {
     "name": "stdout",
     "output_type": "stream",
     "text": [
      "Starting to analyze %  /media/data_cifs/MGH/videos/BW46/Xxxxxxx~ Xxxxx_e3d4db02-a6ec-43b8-8d71-2dba03ad2185_0251.mp4\n",
      "Loading  /media/data_cifs/MGH/videos/BW46/Xxxxxxx~ Xxxxx_e3d4db02-a6ec-43b8-8d71-2dba03ad2185_0251.mp4\n",
      "Duration of video [s]:  117.93 , recorded with  30.0 fps!\n",
      "Overall # of frames:  3538  found with (before cropping) frame dimensions:  640 480\n",
      "Starting to extract posture\n"
     ]
    },
    {
     "name": "stderr",
     "output_type": "stream",
     "text": [
      "3570it [00:40, 88.63it/s]                           \n"
     ]
    },
    {
     "name": "stdout",
     "output_type": "stream",
     "text": [
      "Detected frames:  3538\n",
      "Saving results in /media/data_cifs/MGH/videos/BW46...\n",
      "Saving csv poses!\n"
     ]
    },
    {
     "name": "stderr",
     "output_type": "stream",
     "text": [
      "\r",
      "  0%|          | 0/3619 [00:00<?, ?it/s]"
     ]
    },
    {
     "name": "stdout",
     "output_type": "stream",
     "text": [
      "Starting to analyze %  /media/data_cifs/MGH/videos/BW46/Xxxxxxx~ Xxxxx_e3d4db02-a6ec-43b8-8d71-2dba03ad2185_0250.mp4\n",
      "Loading  /media/data_cifs/MGH/videos/BW46/Xxxxxxx~ Xxxxx_e3d4db02-a6ec-43b8-8d71-2dba03ad2185_0250.mp4\n",
      "Duration of video [s]:  120.63 , recorded with  30.0 fps!\n",
      "Overall # of frames:  3619  found with (before cropping) frame dimensions:  640 480\n",
      "Starting to extract posture\n"
     ]
    },
    {
     "name": "stderr",
     "output_type": "stream",
     "text": [
      "3636it [00:41, 78.67it/s]                          "
     ]
    },
    {
     "name": "stdout",
     "output_type": "stream",
     "text": [
      "Detected frames:  3619\n"
     ]
    },
    {
     "name": "stderr",
     "output_type": "stream",
     "text": [
      "\n"
     ]
    },
    {
     "name": "stdout",
     "output_type": "stream",
     "text": [
      "Saving results in /media/data_cifs/MGH/videos/BW46...\n",
      "Saving csv poses!\n"
     ]
    },
    {
     "name": "stderr",
     "output_type": "stream",
     "text": [
      "\r",
      "  0%|          | 0/3651 [00:00<?, ?it/s]"
     ]
    },
    {
     "name": "stdout",
     "output_type": "stream",
     "text": [
      "Starting to analyze %  /media/data_cifs/MGH/videos/BW46/Xxxxxxx~ Xxxxx_4c6cb293-aaae-4e47-bb1a-34b771393a41_0191.mp4\n",
      "Loading  /media/data_cifs/MGH/videos/BW46/Xxxxxxx~ Xxxxx_4c6cb293-aaae-4e47-bb1a-34b771393a41_0191.mp4\n",
      "Duration of video [s]:  121.7 , recorded with  30.0 fps!\n",
      "Overall # of frames:  3651  found with (before cropping) frame dimensions:  640 480\n",
      "Starting to extract posture\n"
     ]
    },
    {
     "name": "stderr",
     "output_type": "stream",
     "text": [
      "3672it [00:40, 82.02it/s]                           "
     ]
    },
    {
     "name": "stdout",
     "output_type": "stream",
     "text": [
      "Detected frames:  3651\n"
     ]
    },
    {
     "name": "stderr",
     "output_type": "stream",
     "text": [
      "\n"
     ]
    },
    {
     "name": "stdout",
     "output_type": "stream",
     "text": [
      "Saving results in /media/data_cifs/MGH/videos/BW46...\n",
      "Saving csv poses!\n"
     ]
    },
    {
     "name": "stderr",
     "output_type": "stream",
     "text": [
      "\r",
      "  0%|          | 0/3610 [00:00<?, ?it/s]"
     ]
    },
    {
     "name": "stdout",
     "output_type": "stream",
     "text": [
      "Starting to analyze %  /media/data_cifs/MGH/videos/BW46/Xxxxxxx~ Xxxxx_4c6cb293-aaae-4e47-bb1a-34b771393a41_0200.mp4\n",
      "Loading  /media/data_cifs/MGH/videos/BW46/Xxxxxxx~ Xxxxx_4c6cb293-aaae-4e47-bb1a-34b771393a41_0200.mp4\n",
      "Duration of video [s]:  120.33 , recorded with  30.0 fps!\n",
      "Overall # of frames:  3610  found with (before cropping) frame dimensions:  640 480\n",
      "Starting to extract posture\n"
     ]
    },
    {
     "name": "stderr",
     "output_type": "stream",
     "text": [
      "3636it [00:41, 82.69it/s]                          \n"
     ]
    },
    {
     "name": "stdout",
     "output_type": "stream",
     "text": [
      "Detected frames:  3610\n",
      "Saving results in /media/data_cifs/MGH/videos/BW46...\n",
      "Saving csv poses!\n"
     ]
    },
    {
     "name": "stderr",
     "output_type": "stream",
     "text": [
      "\r",
      "  0%|          | 0/3495 [00:00<?, ?it/s]"
     ]
    },
    {
     "name": "stdout",
     "output_type": "stream",
     "text": [
      "Starting to analyze %  /media/data_cifs/MGH/videos/BW46/Xxxxxxx~ Xxxxx_e3d4db02-a6ec-43b8-8d71-2dba03ad2185_0274.mp4\n",
      "Loading  /media/data_cifs/MGH/videos/BW46/Xxxxxxx~ Xxxxx_e3d4db02-a6ec-43b8-8d71-2dba03ad2185_0274.mp4\n",
      "Duration of video [s]:  116.5 , recorded with  30.0 fps!\n",
      "Overall # of frames:  3495  found with (before cropping) frame dimensions:  640 480\n",
      "Starting to extract posture\n"
     ]
    },
    {
     "name": "stderr",
     "output_type": "stream",
     "text": [
      "3502it [00:38, 85.23it/s]                          "
     ]
    },
    {
     "name": "stdout",
     "output_type": "stream",
     "text": [
      "Detected frames:  3495\n"
     ]
    },
    {
     "name": "stderr",
     "output_type": "stream",
     "text": [
      "\n"
     ]
    },
    {
     "name": "stdout",
     "output_type": "stream",
     "text": [
      "Saving results in /media/data_cifs/MGH/videos/BW46...\n",
      "Saving csv poses!\n"
     ]
    },
    {
     "name": "stderr",
     "output_type": "stream",
     "text": [
      "\r",
      "  0%|          | 0/3574 [00:00<?, ?it/s]"
     ]
    },
    {
     "name": "stdout",
     "output_type": "stream",
     "text": [
      "Starting to analyze %  /media/data_cifs/MGH/videos/BW46/Xxxxxxx~ Xxxxx_e3d4db02-a6ec-43b8-8d71-2dba03ad2185_0255.mp4\n",
      "Loading  /media/data_cifs/MGH/videos/BW46/Xxxxxxx~ Xxxxx_e3d4db02-a6ec-43b8-8d71-2dba03ad2185_0255.mp4\n",
      "Duration of video [s]:  119.13 , recorded with  30.0 fps!\n",
      "Overall # of frames:  3574  found with (before cropping) frame dimensions:  640 480\n",
      "Starting to extract posture\n"
     ]
    },
    {
     "name": "stderr",
     "output_type": "stream",
     "text": [
      "3605it [00:39, 82.66it/s]                           \n"
     ]
    },
    {
     "name": "stdout",
     "output_type": "stream",
     "text": [
      "Detected frames:  3574\n",
      "Saving results in /media/data_cifs/MGH/videos/BW46...\n",
      "Saving csv poses!\n"
     ]
    },
    {
     "name": "stderr",
     "output_type": "stream",
     "text": [
      "\r",
      "  0%|          | 0/3629 [00:00<?, ?it/s]"
     ]
    },
    {
     "name": "stdout",
     "output_type": "stream",
     "text": [
      "Starting to analyze %  /media/data_cifs/MGH/videos/BW46/Xxxxxxx~ Xxxxx_e3d4db02-a6ec-43b8-8d71-2dba03ad2185_0175.mp4\n",
      "Loading  /media/data_cifs/MGH/videos/BW46/Xxxxxxx~ Xxxxx_e3d4db02-a6ec-43b8-8d71-2dba03ad2185_0175.mp4\n",
      "Duration of video [s]:  120.97 , recorded with  30.0 fps!\n",
      "Overall # of frames:  3629  found with (before cropping) frame dimensions:  640 480\n",
      "Starting to extract posture\n"
     ]
    },
    {
     "name": "stderr",
     "output_type": "stream",
     "text": [
      "3636it [00:39, 84.29it/s]                           "
     ]
    },
    {
     "name": "stdout",
     "output_type": "stream",
     "text": [
      "Detected frames:  3629\n"
     ]
    },
    {
     "name": "stderr",
     "output_type": "stream",
     "text": [
      "\n"
     ]
    },
    {
     "name": "stdout",
     "output_type": "stream",
     "text": [
      "Saving results in /media/data_cifs/MGH/videos/BW46...\n",
      "Saving csv poses!\n"
     ]
    },
    {
     "name": "stderr",
     "output_type": "stream",
     "text": [
      "\r",
      "  0%|          | 0/3553 [00:00<?, ?it/s]"
     ]
    },
    {
     "name": "stdout",
     "output_type": "stream",
     "text": [
      "Starting to analyze %  /media/data_cifs/MGH/videos/BW46/Xxxxxxx~ Xxxxx_4c6cb293-aaae-4e47-bb1a-34b771393a41_0197.mp4\n",
      "Loading  /media/data_cifs/MGH/videos/BW46/Xxxxxxx~ Xxxxx_4c6cb293-aaae-4e47-bb1a-34b771393a41_0197.mp4\n",
      "Duration of video [s]:  118.43 , recorded with  30.0 fps!\n",
      "Overall # of frames:  3553  found with (before cropping) frame dimensions:  640 480\n",
      "Starting to extract posture\n"
     ]
    },
    {
     "name": "stderr",
     "output_type": "stream",
     "text": [
      "3570it [00:37, 87.36it/s]                           "
     ]
    },
    {
     "name": "stdout",
     "output_type": "stream",
     "text": [
      "Detected frames:  3553\n"
     ]
    },
    {
     "name": "stderr",
     "output_type": "stream",
     "text": [
      "\n"
     ]
    },
    {
     "name": "stdout",
     "output_type": "stream",
     "text": [
      "Saving results in /media/data_cifs/MGH/videos/BW46...\n",
      "Saving csv poses!\n"
     ]
    },
    {
     "name": "stderr",
     "output_type": "stream",
     "text": [
      "\r",
      "  0%|          | 0/3610 [00:00<?, ?it/s]"
     ]
    },
    {
     "name": "stdout",
     "output_type": "stream",
     "text": [
      "Starting to analyze %  /media/data_cifs/MGH/videos/BW46/Xxxxxxx~ Xxxxx_e3d4db02-a6ec-43b8-8d71-2dba03ad2185_0259.mp4\n",
      "Loading  /media/data_cifs/MGH/videos/BW46/Xxxxxxx~ Xxxxx_e3d4db02-a6ec-43b8-8d71-2dba03ad2185_0259.mp4\n",
      "Duration of video [s]:  120.33 , recorded with  30.0 fps!\n",
      "Overall # of frames:  3610  found with (before cropping) frame dimensions:  640 480\n",
      "Starting to extract posture\n"
     ]
    },
    {
     "name": "stderr",
     "output_type": "stream",
     "text": [
      "3636it [00:40, 83.30it/s]                          \n"
     ]
    },
    {
     "name": "stdout",
     "output_type": "stream",
     "text": [
      "Detected frames:  3610\n",
      "Saving results in /media/data_cifs/MGH/videos/BW46...\n",
      "Saving csv poses!\n"
     ]
    },
    {
     "name": "stderr",
     "output_type": "stream",
     "text": [
      "\r",
      "  0%|          | 0/3548 [00:00<?, ?it/s]"
     ]
    },
    {
     "name": "stdout",
     "output_type": "stream",
     "text": [
      "Starting to analyze %  /media/data_cifs/MGH/videos/BW46/Xxxxxxx~ Xxxxx_e3d4db02-a6ec-43b8-8d71-2dba03ad2185_0267.mp4\n",
      "Loading  /media/data_cifs/MGH/videos/BW46/Xxxxxxx~ Xxxxx_e3d4db02-a6ec-43b8-8d71-2dba03ad2185_0267.mp4\n",
      "Duration of video [s]:  118.27 , recorded with  30.0 fps!\n",
      "Overall # of frames:  3548  found with (before cropping) frame dimensions:  640 480\n",
      "Starting to extract posture\n"
     ]
    },
    {
     "name": "stderr",
     "output_type": "stream",
     "text": [
      "3570it [00:41, 85.84it/s]                          "
     ]
    },
    {
     "name": "stdout",
     "output_type": "stream",
     "text": [
      "Detected frames:  3548\n"
     ]
    },
    {
     "name": "stderr",
     "output_type": "stream",
     "text": [
      "\n"
     ]
    },
    {
     "name": "stdout",
     "output_type": "stream",
     "text": [
      "Saving results in /media/data_cifs/MGH/videos/BW46...\n",
      "Saving csv poses!\n"
     ]
    },
    {
     "name": "stderr",
     "output_type": "stream",
     "text": [
      "\r",
      "  0%|          | 0/3586 [00:00<?, ?it/s]"
     ]
    },
    {
     "name": "stdout",
     "output_type": "stream",
     "text": [
      "Starting to analyze %  /media/data_cifs/MGH/videos/BW46/Xxxxxxx~ Xxxxx_4c6cb293-aaae-4e47-bb1a-34b771393a41_0211.mp4\n",
      "Loading  /media/data_cifs/MGH/videos/BW46/Xxxxxxx~ Xxxxx_4c6cb293-aaae-4e47-bb1a-34b771393a41_0211.mp4\n",
      "Duration of video [s]:  119.53 , recorded with  30.0 fps!\n",
      "Overall # of frames:  3586  found with (before cropping) frame dimensions:  640 480\n",
      "Starting to extract posture\n"
     ]
    },
    {
     "name": "stderr",
     "output_type": "stream",
     "text": [
      "3605it [00:40, 82.01it/s]                           "
     ]
    },
    {
     "name": "stdout",
     "output_type": "stream",
     "text": [
      "Detected frames:  3586\n"
     ]
    },
    {
     "name": "stderr",
     "output_type": "stream",
     "text": [
      "\n"
     ]
    },
    {
     "name": "stdout",
     "output_type": "stream",
     "text": [
      "Saving results in /media/data_cifs/MGH/videos/BW46...\n",
      "Saving csv poses!\n"
     ]
    },
    {
     "name": "stderr",
     "output_type": "stream",
     "text": [
      "\r",
      "  0%|          | 0/3604 [00:00<?, ?it/s]"
     ]
    },
    {
     "name": "stdout",
     "output_type": "stream",
     "text": [
      "Starting to analyze %  /media/data_cifs/MGH/videos/BW46/Xxxxxxx~ Xxxxx_e3d4db02-a6ec-43b8-8d71-2dba03ad2185_0301.mp4\n",
      "Loading  /media/data_cifs/MGH/videos/BW46/Xxxxxxx~ Xxxxx_e3d4db02-a6ec-43b8-8d71-2dba03ad2185_0301.mp4\n",
      "Duration of video [s]:  120.13 , recorded with  30.0 fps!\n",
      "Overall # of frames:  3604  found with (before cropping) frame dimensions:  640 480\n",
      "Starting to extract posture\n"
     ]
    },
    {
     "name": "stderr",
     "output_type": "stream",
     "text": [
      "3636it [00:40, 67.01it/s]                           \n"
     ]
    },
    {
     "name": "stdout",
     "output_type": "stream",
     "text": [
      "Detected frames:  3604\n",
      "Saving results in /media/data_cifs/MGH/videos/BW46...\n",
      "Saving csv poses!\n"
     ]
    },
    {
     "name": "stderr",
     "output_type": "stream",
     "text": [
      "\r",
      "  0%|          | 0/3604 [00:00<?, ?it/s]"
     ]
    },
    {
     "name": "stdout",
     "output_type": "stream",
     "text": [
      "Starting to analyze %  /media/data_cifs/MGH/videos/BW46/Xxxxxxx~ Xxxxx_e3d4db02-a6ec-43b8-8d71-2dba03ad2185_0256.mp4\n",
      "Loading  /media/data_cifs/MGH/videos/BW46/Xxxxxxx~ Xxxxx_e3d4db02-a6ec-43b8-8d71-2dba03ad2185_0256.mp4\n",
      "Duration of video [s]:  120.13 , recorded with  30.0 fps!\n",
      "Overall # of frames:  3604  found with (before cropping) frame dimensions:  640 480\n",
      "Starting to extract posture\n"
     ]
    },
    {
     "name": "stderr",
     "output_type": "stream",
     "text": [
      "3636it [00:40, 82.51it/s]                          \n"
     ]
    },
    {
     "name": "stdout",
     "output_type": "stream",
     "text": [
      "Detected frames:  3604\n",
      "Saving results in /media/data_cifs/MGH/videos/BW46...\n",
      "Saving csv poses!\n"
     ]
    },
    {
     "name": "stderr",
     "output_type": "stream",
     "text": [
      "\r",
      "  0%|          | 0/3605 [00:00<?, ?it/s]"
     ]
    },
    {
     "name": "stdout",
     "output_type": "stream",
     "text": [
      "Starting to analyze %  /media/data_cifs/MGH/videos/BW46/Xxxxxxx~ Xxxxx_e3d4db02-a6ec-43b8-8d71-2dba03ad2185_0183.mp4\n",
      "Loading  /media/data_cifs/MGH/videos/BW46/Xxxxxxx~ Xxxxx_e3d4db02-a6ec-43b8-8d71-2dba03ad2185_0183.mp4\n",
      "Duration of video [s]:  120.17 , recorded with  30.0 fps!\n",
      "Overall # of frames:  3605  found with (before cropping) frame dimensions:  640 480\n",
      "Starting to extract posture\n"
     ]
    },
    {
     "name": "stderr",
     "output_type": "stream",
     "text": [
      "3636it [00:40, 83.44it/s]                           \n"
     ]
    },
    {
     "name": "stdout",
     "output_type": "stream",
     "text": [
      "Detected frames:  3605\n",
      "Saving results in /media/data_cifs/MGH/videos/BW46...\n",
      "Saving csv poses!\n"
     ]
    },
    {
     "name": "stderr",
     "output_type": "stream",
     "text": [
      "\r",
      "  0%|          | 0/3611 [00:00<?, ?it/s]"
     ]
    },
    {
     "name": "stdout",
     "output_type": "stream",
     "text": [
      "Starting to analyze %  /media/data_cifs/MGH/videos/BW46/Xxxxxxx~ Xxxxx_4c6cb293-aaae-4e47-bb1a-34b771393a41_0203.mp4\n",
      "Loading  /media/data_cifs/MGH/videos/BW46/Xxxxxxx~ Xxxxx_4c6cb293-aaae-4e47-bb1a-34b771393a41_0203.mp4\n",
      "Duration of video [s]:  120.37 , recorded with  30.0 fps!\n",
      "Overall # of frames:  3611  found with (before cropping) frame dimensions:  640 480\n",
      "Starting to extract posture\n"
     ]
    },
    {
     "name": "stderr",
     "output_type": "stream",
     "text": [
      "3636it [00:40, 84.54it/s]                           \n"
     ]
    },
    {
     "name": "stdout",
     "output_type": "stream",
     "text": [
      "Detected frames:  3611\n",
      "Saving results in /media/data_cifs/MGH/videos/BW46...\n",
      "Saving csv poses!\n"
     ]
    },
    {
     "name": "stderr",
     "output_type": "stream",
     "text": [
      "\r",
      "  0%|          | 0/3630 [00:00<?, ?it/s]"
     ]
    },
    {
     "name": "stdout",
     "output_type": "stream",
     "text": [
      "Starting to analyze %  /media/data_cifs/MGH/videos/BW46/Xxxxxxx~ Xxxxx_4c6cb293-aaae-4e47-bb1a-34b771393a41_0209.mp4\n",
      "Loading  /media/data_cifs/MGH/videos/BW46/Xxxxxxx~ Xxxxx_4c6cb293-aaae-4e47-bb1a-34b771393a41_0209.mp4\n",
      "Duration of video [s]:  121.0 , recorded with  30.0 fps!\n",
      "Overall # of frames:  3630  found with (before cropping) frame dimensions:  640 480\n",
      "Starting to extract posture\n"
     ]
    },
    {
     "name": "stderr",
     "output_type": "stream",
     "text": [
      "3636it [00:40, 78.47it/s]                           "
     ]
    },
    {
     "name": "stdout",
     "output_type": "stream",
     "text": [
      "Detected frames:  3630\n"
     ]
    },
    {
     "name": "stderr",
     "output_type": "stream",
     "text": [
      "\n"
     ]
    },
    {
     "name": "stdout",
     "output_type": "stream",
     "text": [
      "Saving results in /media/data_cifs/MGH/videos/BW46...\n",
      "Saving csv poses!\n"
     ]
    },
    {
     "name": "stderr",
     "output_type": "stream",
     "text": [
      "\r",
      "  0%|          | 0/3601 [00:00<?, ?it/s]"
     ]
    },
    {
     "name": "stdout",
     "output_type": "stream",
     "text": [
      "Starting to analyze %  /media/data_cifs/MGH/videos/BW46/Xxxxxxx~ Xxxxx_e3d4db02-a6ec-43b8-8d71-2dba03ad2185_0231.mp4\n",
      "Loading  /media/data_cifs/MGH/videos/BW46/Xxxxxxx~ Xxxxx_e3d4db02-a6ec-43b8-8d71-2dba03ad2185_0231.mp4\n",
      "Duration of video [s]:  120.03 , recorded with  30.0 fps!\n",
      "Overall # of frames:  3601  found with (before cropping) frame dimensions:  640 480\n",
      "Starting to extract posture\n"
     ]
    },
    {
     "name": "stderr",
     "output_type": "stream",
     "text": [
      "3636it [00:40, 84.97it/s]                           \n"
     ]
    },
    {
     "name": "stdout",
     "output_type": "stream",
     "text": [
      "Detected frames:  3601\n",
      "Saving results in /media/data_cifs/MGH/videos/BW46...\n",
      "Saving csv poses!\n"
     ]
    },
    {
     "name": "stderr",
     "output_type": "stream",
     "text": [
      "\r",
      "  0%|          | 0/3692 [00:00<?, ?it/s]"
     ]
    },
    {
     "name": "stdout",
     "output_type": "stream",
     "text": [
      "Starting to analyze %  /media/data_cifs/MGH/videos/BW46/Xxxxxxx~ Xxxxx_e3d4db02-a6ec-43b8-8d71-2dba03ad2185_0193.mp4\n",
      "Loading  /media/data_cifs/MGH/videos/BW46/Xxxxxxx~ Xxxxx_e3d4db02-a6ec-43b8-8d71-2dba03ad2185_0193.mp4\n",
      "Duration of video [s]:  123.07 , recorded with  30.0 fps!\n",
      "Overall # of frames:  3692  found with (before cropping) frame dimensions:  640 480\n",
      "Starting to extract posture\n"
     ]
    },
    {
     "name": "stderr",
     "output_type": "stream",
     "text": [
      "3708it [00:40, 81.52it/s]                           "
     ]
    },
    {
     "name": "stdout",
     "output_type": "stream",
     "text": [
      "Detected frames:  3692\n"
     ]
    },
    {
     "name": "stderr",
     "output_type": "stream",
     "text": [
      "\n"
     ]
    },
    {
     "name": "stdout",
     "output_type": "stream",
     "text": [
      "Saving results in /media/data_cifs/MGH/videos/BW46...\n",
      "Saving csv poses!\n"
     ]
    },
    {
     "name": "stderr",
     "output_type": "stream",
     "text": [
      "\r",
      "  0%|          | 0/3619 [00:00<?, ?it/s]"
     ]
    },
    {
     "name": "stdout",
     "output_type": "stream",
     "text": [
      "Starting to analyze %  /media/data_cifs/MGH/videos/BW46/Xxxxxxx~ Xxxxx_e3d4db02-a6ec-43b8-8d71-2dba03ad2185_0268.mp4\n",
      "Loading  /media/data_cifs/MGH/videos/BW46/Xxxxxxx~ Xxxxx_e3d4db02-a6ec-43b8-8d71-2dba03ad2185_0268.mp4\n",
      "Duration of video [s]:  120.63 , recorded with  30.0 fps!\n",
      "Overall # of frames:  3619  found with (before cropping) frame dimensions:  640 480\n",
      "Starting to extract posture\n"
     ]
    },
    {
     "name": "stderr",
     "output_type": "stream",
     "text": [
      "3636it [00:41, 81.14it/s]                          "
     ]
    },
    {
     "name": "stdout",
     "output_type": "stream",
     "text": [
      "Detected frames:  3619\n"
     ]
    },
    {
     "name": "stderr",
     "output_type": "stream",
     "text": [
      "\n"
     ]
    },
    {
     "name": "stdout",
     "output_type": "stream",
     "text": [
      "Saving results in /media/data_cifs/MGH/videos/BW46...\n",
      "Saving csv poses!\n"
     ]
    },
    {
     "name": "stderr",
     "output_type": "stream",
     "text": [
      "\r",
      "  0%|          | 0/3615 [00:00<?, ?it/s]"
     ]
    },
    {
     "name": "stdout",
     "output_type": "stream",
     "text": [
      "Starting to analyze %  /media/data_cifs/MGH/videos/BW46/Xxxxxxx~ Xxxxx_4c6cb293-aaae-4e47-bb1a-34b771393a41_0195.mp4\n",
      "Loading  /media/data_cifs/MGH/videos/BW46/Xxxxxxx~ Xxxxx_4c6cb293-aaae-4e47-bb1a-34b771393a41_0195.mp4\n",
      "Duration of video [s]:  120.5 , recorded with  30.0 fps!\n",
      "Overall # of frames:  3615  found with (before cropping) frame dimensions:  640 480\n",
      "Starting to extract posture\n"
     ]
    },
    {
     "name": "stderr",
     "output_type": "stream",
     "text": [
      "3636it [00:40, 83.38it/s]                           \n"
     ]
    },
    {
     "name": "stdout",
     "output_type": "stream",
     "text": [
      "Detected frames:  3615\n",
      "Saving results in /media/data_cifs/MGH/videos/BW46...\n",
      "Saving csv poses!\n"
     ]
    },
    {
     "name": "stderr",
     "output_type": "stream",
     "text": [
      "\r",
      "  0%|          | 0/3575 [00:00<?, ?it/s]"
     ]
    },
    {
     "name": "stdout",
     "output_type": "stream",
     "text": [
      "Starting to analyze %  /media/data_cifs/MGH/videos/BW46/Xxxxxxx~ Xxxxx_e3d4db02-a6ec-43b8-8d71-2dba03ad2185_0283.mp4\n",
      "Loading  /media/data_cifs/MGH/videos/BW46/Xxxxxxx~ Xxxxx_e3d4db02-a6ec-43b8-8d71-2dba03ad2185_0283.mp4\n",
      "Duration of video [s]:  119.17 , recorded with  30.0 fps!\n",
      "Overall # of frames:  3575  found with (before cropping) frame dimensions:  640 480\n",
      "Starting to extract posture\n"
     ]
    },
    {
     "name": "stderr",
     "output_type": "stream",
     "text": [
      "3605it [00:39, 83.79it/s]                           \n"
     ]
    },
    {
     "name": "stdout",
     "output_type": "stream",
     "text": [
      "Detected frames:  3575\n",
      "Saving results in /media/data_cifs/MGH/videos/BW46...\n",
      "Saving csv poses!\n"
     ]
    },
    {
     "name": "stderr",
     "output_type": "stream",
     "text": [
      "\r",
      "  0%|          | 0/3582 [00:00<?, ?it/s]"
     ]
    },
    {
     "name": "stdout",
     "output_type": "stream",
     "text": [
      "Starting to analyze %  /media/data_cifs/MGH/videos/BW46/Xxxxxxx~ Xxxxx_4c6cb293-aaae-4e47-bb1a-34b771393a41_0201.mp4\n",
      "Loading  /media/data_cifs/MGH/videos/BW46/Xxxxxxx~ Xxxxx_4c6cb293-aaae-4e47-bb1a-34b771393a41_0201.mp4\n",
      "Duration of video [s]:  119.4 , recorded with  30.0 fps!\n",
      "Overall # of frames:  3582  found with (before cropping) frame dimensions:  640 480\n",
      "Starting to extract posture\n"
     ]
    },
    {
     "name": "stderr",
     "output_type": "stream",
     "text": [
      "3605it [00:40, 81.89it/s]                           \n"
     ]
    },
    {
     "name": "stdout",
     "output_type": "stream",
     "text": [
      "Detected frames:  3582\n",
      "Saving results in /media/data_cifs/MGH/videos/BW46...\n",
      "Saving csv poses!\n",
      "Starting to analyze %  /media/data_cifs/MGH/videos/BW46/Xxxxxxx~ Xxxxx_4c6cb293-aaae-4e47-bb1a-34b771393a41_0253.mp4\n",
      "Loading  /media/data_cifs/MGH/videos/BW46/Xxxxxxx~ Xxxxx_4c6cb293-aaae-4e47-bb1a-34b771393a41_0253.mp4\n"
     ]
    },
    {
     "name": "stderr",
     "output_type": "stream",
     "text": [
      "\r",
      "  0%|          | 0/3101 [00:00<?, ?it/s]"
     ]
    },
    {
     "name": "stdout",
     "output_type": "stream",
     "text": [
      "Duration of video [s]:  103.37 , recorded with  30.0 fps!\n",
      "Overall # of frames:  3101  found with (before cropping) frame dimensions:  640 480\n",
      "Starting to extract posture\n"
     ]
    },
    {
     "name": "stderr",
     "output_type": "stream",
     "text": [
      "3131it [00:34, 97.61it/s]                           \n"
     ]
    },
    {
     "name": "stdout",
     "output_type": "stream",
     "text": [
      "Detected frames:  3101\n",
      "Saving results in /media/data_cifs/MGH/videos/BW46...\n",
      "Saving csv poses!\n"
     ]
    },
    {
     "name": "stderr",
     "output_type": "stream",
     "text": [
      "\r",
      "  0%|          | 0/3593 [00:00<?, ?it/s]"
     ]
    },
    {
     "name": "stdout",
     "output_type": "stream",
     "text": [
      "Starting to analyze %  /media/data_cifs/MGH/videos/BW46/Xxxxxxx~ Xxxxx_e3d4db02-a6ec-43b8-8d71-2dba03ad2185_0257.mp4\n",
      "Loading  /media/data_cifs/MGH/videos/BW46/Xxxxxxx~ Xxxxx_e3d4db02-a6ec-43b8-8d71-2dba03ad2185_0257.mp4\n",
      "Duration of video [s]:  119.77 , recorded with  30.0 fps!\n",
      "Overall # of frames:  3593  found with (before cropping) frame dimensions:  640 480\n",
      "Starting to extract posture\n"
     ]
    },
    {
     "name": "stderr",
     "output_type": "stream",
     "text": [
      "3605it [00:40, 78.54it/s]                           "
     ]
    },
    {
     "name": "stdout",
     "output_type": "stream",
     "text": [
      "Detected frames:  3593\n"
     ]
    },
    {
     "name": "stderr",
     "output_type": "stream",
     "text": [
      "\n"
     ]
    },
    {
     "name": "stdout",
     "output_type": "stream",
     "text": [
      "Saving results in /media/data_cifs/MGH/videos/BW46...\n",
      "Saving csv poses!\n"
     ]
    },
    {
     "name": "stderr",
     "output_type": "stream",
     "text": [
      "\r",
      "  0%|          | 0/3611 [00:00<?, ?it/s]"
     ]
    },
    {
     "name": "stdout",
     "output_type": "stream",
     "text": [
      "Starting to analyze %  /media/data_cifs/MGH/videos/BW46/Xxxxxxx~ Xxxxx_e3d4db02-a6ec-43b8-8d71-2dba03ad2185_0226.mp4\n",
      "Loading  /media/data_cifs/MGH/videos/BW46/Xxxxxxx~ Xxxxx_e3d4db02-a6ec-43b8-8d71-2dba03ad2185_0226.mp4\n",
      "Duration of video [s]:  120.37 , recorded with  30.0 fps!\n",
      "Overall # of frames:  3611  found with (before cropping) frame dimensions:  640 480\n",
      "Starting to extract posture\n"
     ]
    },
    {
     "name": "stderr",
     "output_type": "stream",
     "text": [
      "3636it [00:39, 82.99it/s]                           \n"
     ]
    },
    {
     "name": "stdout",
     "output_type": "stream",
     "text": [
      "Detected frames:  3611\n",
      "Saving results in /media/data_cifs/MGH/videos/BW46...\n",
      "Saving csv poses!\n"
     ]
    },
    {
     "name": "stderr",
     "output_type": "stream",
     "text": [
      "\r",
      "  0%|          | 0/3599 [00:00<?, ?it/s]"
     ]
    },
    {
     "name": "stdout",
     "output_type": "stream",
     "text": [
      "Starting to analyze %  /media/data_cifs/MGH/videos/BW46/Xxxxxxx~ Xxxxx_e3d4db02-a6ec-43b8-8d71-2dba03ad2185_0208.mp4\n",
      "Loading  /media/data_cifs/MGH/videos/BW46/Xxxxxxx~ Xxxxx_e3d4db02-a6ec-43b8-8d71-2dba03ad2185_0208.mp4\n",
      "Duration of video [s]:  119.97 , recorded with  30.0 fps!\n",
      "Overall # of frames:  3599  found with (before cropping) frame dimensions:  640 480\n",
      "Starting to extract posture\n"
     ]
    },
    {
     "name": "stderr",
     "output_type": "stream",
     "text": [
      "3605it [00:40, 70.88it/s]                           "
     ]
    },
    {
     "name": "stdout",
     "output_type": "stream",
     "text": [
      "Detected frames:  3599\n"
     ]
    },
    {
     "name": "stderr",
     "output_type": "stream",
     "text": [
      "\n"
     ]
    },
    {
     "name": "stdout",
     "output_type": "stream",
     "text": [
      "Saving results in /media/data_cifs/MGH/videos/BW46...\n",
      "Saving csv poses!\n",
      "Starting to analyze %  /media/data_cifs/MGH/videos/BW46/Xxxxxxx~ Xxxxx_e3d4db02-a6ec-43b8-8d71-2dba03ad2185_0228.mp4\n",
      "Loading  /media/data_cifs/MGH/videos/BW46/Xxxxxxx~ Xxxxx_e3d4db02-a6ec-43b8-8d71-2dba03ad2185_0228.mp4\n"
     ]
    },
    {
     "name": "stderr",
     "output_type": "stream",
     "text": [
      "\r",
      "  0%|          | 0/3562 [00:00<?, ?it/s]"
     ]
    },
    {
     "name": "stdout",
     "output_type": "stream",
     "text": [
      "Duration of video [s]:  118.73 , recorded with  30.0 fps!\n",
      "Overall # of frames:  3562  found with (before cropping) frame dimensions:  640 480\n",
      "Starting to extract posture\n"
     ]
    },
    {
     "name": "stderr",
     "output_type": "stream",
     "text": [
      "3570it [00:39, 89.64it/s]                           "
     ]
    },
    {
     "name": "stdout",
     "output_type": "stream",
     "text": [
      "Detected frames:  3562\n"
     ]
    },
    {
     "name": "stderr",
     "output_type": "stream",
     "text": [
      "\n"
     ]
    },
    {
     "name": "stdout",
     "output_type": "stream",
     "text": [
      "Saving results in /media/data_cifs/MGH/videos/BW46...\n",
      "Saving csv poses!\n"
     ]
    },
    {
     "name": "stderr",
     "output_type": "stream",
     "text": [
      "\r",
      "  0%|          | 0/3732 [00:00<?, ?it/s]"
     ]
    },
    {
     "name": "stdout",
     "output_type": "stream",
     "text": [
      "Starting to analyze %  /media/data_cifs/MGH/videos/BW46/Xxxxxxx~ Xxxxx_e3d4db02-a6ec-43b8-8d71-2dba03ad2185_0195.mp4\n",
      "Loading  /media/data_cifs/MGH/videos/BW46/Xxxxxxx~ Xxxxx_e3d4db02-a6ec-43b8-8d71-2dba03ad2185_0195.mp4\n",
      "Duration of video [s]:  124.4 , recorded with  30.0 fps!\n",
      "Overall # of frames:  3732  found with (before cropping) frame dimensions:  640 480\n",
      "Starting to extract posture\n"
     ]
    },
    {
     "name": "stderr",
     "output_type": "stream",
     "text": [
      "3737it [00:40, 85.61it/s]                           "
     ]
    },
    {
     "name": "stdout",
     "output_type": "stream",
     "text": [
      "Detected frames:  3732\n"
     ]
    },
    {
     "name": "stderr",
     "output_type": "stream",
     "text": [
      "\n"
     ]
    },
    {
     "name": "stdout",
     "output_type": "stream",
     "text": [
      "Saving results in /media/data_cifs/MGH/videos/BW46...\n",
      "Saving csv poses!\n"
     ]
    },
    {
     "name": "stderr",
     "output_type": "stream",
     "text": [
      "\r",
      "  0%|          | 0/3604 [00:00<?, ?it/s]"
     ]
    },
    {
     "name": "stdout",
     "output_type": "stream",
     "text": [
      "Starting to analyze %  /media/data_cifs/MGH/videos/BW46/Xxxxxxx~ Xxxxx_e3d4db02-a6ec-43b8-8d71-2dba03ad2185_0300.mp4\n",
      "Loading  /media/data_cifs/MGH/videos/BW46/Xxxxxxx~ Xxxxx_e3d4db02-a6ec-43b8-8d71-2dba03ad2185_0300.mp4\n",
      "Duration of video [s]:  120.13 , recorded with  30.0 fps!\n",
      "Overall # of frames:  3604  found with (before cropping) frame dimensions:  640 480\n",
      "Starting to extract posture\n"
     ]
    },
    {
     "name": "stderr",
     "output_type": "stream",
     "text": [
      "3636it [00:39, 70.62it/s]                           \n"
     ]
    },
    {
     "name": "stdout",
     "output_type": "stream",
     "text": [
      "Detected frames:  3604\n",
      "Saving results in /media/data_cifs/MGH/videos/BW46...\n",
      "Saving csv poses!\n"
     ]
    },
    {
     "name": "stderr",
     "output_type": "stream",
     "text": [
      "\r",
      "  0%|          | 0/3610 [00:00<?, ?it/s]"
     ]
    },
    {
     "name": "stdout",
     "output_type": "stream",
     "text": [
      "Starting to analyze %  /media/data_cifs/MGH/videos/BW46/Xxxxxxx~ Xxxxx_e3d4db02-a6ec-43b8-8d71-2dba03ad2185_0234.mp4\n",
      "Loading  /media/data_cifs/MGH/videos/BW46/Xxxxxxx~ Xxxxx_e3d4db02-a6ec-43b8-8d71-2dba03ad2185_0234.mp4\n",
      "Duration of video [s]:  120.33 , recorded with  30.0 fps!\n",
      "Overall # of frames:  3610  found with (before cropping) frame dimensions:  640 480\n",
      "Starting to extract posture\n"
     ]
    },
    {
     "name": "stderr",
     "output_type": "stream",
     "text": [
      "3636it [00:43, 83.82it/s]                           \n"
     ]
    },
    {
     "name": "stdout",
     "output_type": "stream",
     "text": [
      "Detected frames:  3610\n",
      "Saving results in /media/data_cifs/MGH/videos/BW46...\n",
      "Saving csv poses!\n"
     ]
    },
    {
     "name": "stderr",
     "output_type": "stream",
     "text": [
      "\r",
      "  0%|          | 0/3571 [00:00<?, ?it/s]"
     ]
    },
    {
     "name": "stdout",
     "output_type": "stream",
     "text": [
      "Starting to analyze %  /media/data_cifs/MGH/videos/BW46/Xxxxxxx~ Xxxxx_e3d4db02-a6ec-43b8-8d71-2dba03ad2185_0192.mp4\n",
      "Loading  /media/data_cifs/MGH/videos/BW46/Xxxxxxx~ Xxxxx_e3d4db02-a6ec-43b8-8d71-2dba03ad2185_0192.mp4\n",
      "Duration of video [s]:  119.03 , recorded with  30.0 fps!\n",
      "Overall # of frames:  3571  found with (before cropping) frame dimensions:  640 480\n",
      "Starting to extract posture\n"
     ]
    },
    {
     "name": "stderr",
     "output_type": "stream",
     "text": [
      "3605it [00:44, 84.58it/s]                          \n"
     ]
    },
    {
     "name": "stdout",
     "output_type": "stream",
     "text": [
      "Detected frames:  3571\n",
      "Saving results in /media/data_cifs/MGH/videos/BW46...\n",
      "Saving csv poses!\n"
     ]
    },
    {
     "name": "stderr",
     "output_type": "stream",
     "text": [
      "\r",
      "  0%|          | 0/3707 [00:00<?, ?it/s]"
     ]
    },
    {
     "name": "stdout",
     "output_type": "stream",
     "text": [
      "Starting to analyze %  /media/data_cifs/MGH/videos/BW46/Xxxxxxx~ Xxxxx_e3d4db02-a6ec-43b8-8d71-2dba03ad2185_0216.mp4\n",
      "Loading  /media/data_cifs/MGH/videos/BW46/Xxxxxxx~ Xxxxx_e3d4db02-a6ec-43b8-8d71-2dba03ad2185_0216.mp4\n",
      "Duration of video [s]:  123.57 , recorded with  30.0 fps!\n",
      "Overall # of frames:  3707  found with (before cropping) frame dimensions:  640 480\n",
      "Starting to extract posture\n"
     ]
    },
    {
     "name": "stderr",
     "output_type": "stream",
     "text": [
      "3737it [00:41, 84.92it/s]                           \n"
     ]
    },
    {
     "name": "stdout",
     "output_type": "stream",
     "text": [
      "Detected frames:  3707\n",
      "Saving results in /media/data_cifs/MGH/videos/BW46...\n",
      "Saving csv poses!\n"
     ]
    },
    {
     "name": "stderr",
     "output_type": "stream",
     "text": [
      "\r",
      "  0%|          | 0/3576 [00:00<?, ?it/s]"
     ]
    },
    {
     "name": "stdout",
     "output_type": "stream",
     "text": [
      "Starting to analyze %  /media/data_cifs/MGH/videos/BW46/Xxxxxxx~ Xxxxx_e3d4db02-a6ec-43b8-8d71-2dba03ad2185_0288.mp4\n",
      "Loading  /media/data_cifs/MGH/videos/BW46/Xxxxxxx~ Xxxxx_e3d4db02-a6ec-43b8-8d71-2dba03ad2185_0288.mp4\n",
      "Duration of video [s]:  119.2 , recorded with  30.0 fps!\n",
      "Overall # of frames:  3576  found with (before cropping) frame dimensions:  640 480\n",
      "Starting to extract posture\n"
     ]
    },
    {
     "name": "stderr",
     "output_type": "stream",
     "text": [
      "3605it [00:39, 85.18it/s]                           \n"
     ]
    },
    {
     "name": "stdout",
     "output_type": "stream",
     "text": [
      "Detected frames:  3576\n",
      "Saving results in /media/data_cifs/MGH/videos/BW46...\n",
      "Saving csv poses!\n"
     ]
    },
    {
     "name": "stderr",
     "output_type": "stream",
     "text": [
      "\r",
      "  0%|          | 0/3641 [00:00<?, ?it/s]"
     ]
    },
    {
     "name": "stdout",
     "output_type": "stream",
     "text": [
      "Starting to analyze %  /media/data_cifs/MGH/videos/BW46/Xxxxxxx~ Xxxxx_e3d4db02-a6ec-43b8-8d71-2dba03ad2185_0286.mp4\n",
      "Loading  /media/data_cifs/MGH/videos/BW46/Xxxxxxx~ Xxxxx_e3d4db02-a6ec-43b8-8d71-2dba03ad2185_0286.mp4\n",
      "Duration of video [s]:  121.37 , recorded with  30.0 fps!\n",
      "Overall # of frames:  3641  found with (before cropping) frame dimensions:  640 480\n",
      "Starting to extract posture\n"
     ]
    },
    {
     "name": "stderr",
     "output_type": "stream",
     "text": [
      "3672it [00:40, 79.94it/s]                           \n"
     ]
    },
    {
     "name": "stdout",
     "output_type": "stream",
     "text": [
      "Detected frames:  3641\n",
      "Saving results in /media/data_cifs/MGH/videos/BW46...\n",
      "Saving csv poses!\n"
     ]
    },
    {
     "name": "stderr",
     "output_type": "stream",
     "text": [
      "\r",
      "  0%|          | 0/3584 [00:00<?, ?it/s]"
     ]
    },
    {
     "name": "stdout",
     "output_type": "stream",
     "text": [
      "Starting to analyze %  /media/data_cifs/MGH/videos/BW46/Xxxxxxx~ Xxxxx_e3d4db02-a6ec-43b8-8d71-2dba03ad2185_0247.mp4\n",
      "Loading  /media/data_cifs/MGH/videos/BW46/Xxxxxxx~ Xxxxx_e3d4db02-a6ec-43b8-8d71-2dba03ad2185_0247.mp4\n",
      "Duration of video [s]:  119.47 , recorded with  30.0 fps!\n",
      "Overall # of frames:  3584  found with (before cropping) frame dimensions:  640 480\n",
      "Starting to extract posture\n"
     ]
    },
    {
     "name": "stderr",
     "output_type": "stream",
     "text": [
      "3605it [00:39, 84.47it/s]                           \n"
     ]
    },
    {
     "name": "stdout",
     "output_type": "stream",
     "text": [
      "Detected frames:  3584\n",
      "Saving results in /media/data_cifs/MGH/videos/BW46...\n",
      "Saving csv poses!\n"
     ]
    },
    {
     "name": "stderr",
     "output_type": "stream",
     "text": [
      "\r",
      "  0%|          | 0/3612 [00:00<?, ?it/s]"
     ]
    },
    {
     "name": "stdout",
     "output_type": "stream",
     "text": [
      "Starting to analyze %  /media/data_cifs/MGH/videos/BW46/Xxxxxxx~ Xxxxx_e3d4db02-a6ec-43b8-8d71-2dba03ad2185_0180.mp4\n",
      "Loading  /media/data_cifs/MGH/videos/BW46/Xxxxxxx~ Xxxxx_e3d4db02-a6ec-43b8-8d71-2dba03ad2185_0180.mp4\n",
      "Duration of video [s]:  120.4 , recorded with  30.0 fps!\n",
      "Overall # of frames:  3612  found with (before cropping) frame dimensions:  640 480\n",
      "Starting to extract posture\n"
     ]
    },
    {
     "name": "stderr",
     "output_type": "stream",
     "text": [
      "3636it [00:40, 83.93it/s]                           \n"
     ]
    },
    {
     "name": "stdout",
     "output_type": "stream",
     "text": [
      "Detected frames:  3612\n",
      "Saving results in /media/data_cifs/MGH/videos/BW46...\n",
      "Saving csv poses!\n"
     ]
    },
    {
     "name": "stderr",
     "output_type": "stream",
     "text": [
      "\r",
      "  0%|          | 0/3600 [00:00<?, ?it/s]"
     ]
    },
    {
     "name": "stdout",
     "output_type": "stream",
     "text": [
      "Starting to analyze %  /media/data_cifs/MGH/videos/BW46/Xxxxxxx~ Xxxxx_e3d4db02-a6ec-43b8-8d71-2dba03ad2185_0252.mp4\n",
      "Loading  /media/data_cifs/MGH/videos/BW46/Xxxxxxx~ Xxxxx_e3d4db02-a6ec-43b8-8d71-2dba03ad2185_0252.mp4\n",
      "Duration of video [s]:  120.0 , recorded with  30.0 fps!\n",
      "Overall # of frames:  3600  found with (before cropping) frame dimensions:  640 480\n",
      "Starting to extract posture\n"
     ]
    },
    {
     "name": "stderr",
     "output_type": "stream",
     "text": [
      "3636it [00:41, 82.33it/s]                          \n"
     ]
    },
    {
     "name": "stdout",
     "output_type": "stream",
     "text": [
      "Detected frames:  3600\n",
      "Saving results in /media/data_cifs/MGH/videos/BW46...\n",
      "Saving csv poses!\n"
     ]
    },
    {
     "name": "stderr",
     "output_type": "stream",
     "text": [
      "\r",
      "  0%|          | 0/3592 [00:00<?, ?it/s]"
     ]
    },
    {
     "name": "stdout",
     "output_type": "stream",
     "text": [
      "Starting to analyze %  /media/data_cifs/MGH/videos/BW46/Xxxxxxx~ Xxxxx_e3d4db02-a6ec-43b8-8d71-2dba03ad2185_0191.mp4\n",
      "Loading  /media/data_cifs/MGH/videos/BW46/Xxxxxxx~ Xxxxx_e3d4db02-a6ec-43b8-8d71-2dba03ad2185_0191.mp4\n",
      "Duration of video [s]:  119.73 , recorded with  30.0 fps!\n",
      "Overall # of frames:  3592  found with (before cropping) frame dimensions:  640 480\n",
      "Starting to extract posture\n"
     ]
    },
    {
     "name": "stderr",
     "output_type": "stream",
     "text": [
      "3605it [00:39, 79.12it/s]                           "
     ]
    },
    {
     "name": "stdout",
     "output_type": "stream",
     "text": [
      "Detected frames:  3592\n"
     ]
    },
    {
     "name": "stderr",
     "output_type": "stream",
     "text": [
      "\n"
     ]
    },
    {
     "name": "stdout",
     "output_type": "stream",
     "text": [
      "Saving results in /media/data_cifs/MGH/videos/BW46...\n",
      "Saving csv poses!\n"
     ]
    },
    {
     "name": "stderr",
     "output_type": "stream",
     "text": [
      "\r",
      "  0%|          | 0/3667 [00:00<?, ?it/s]"
     ]
    },
    {
     "name": "stdout",
     "output_type": "stream",
     "text": [
      "Starting to analyze %  /media/data_cifs/MGH/videos/BW46/Xxxxxxx~ Xxxxx_e3d4db02-a6ec-43b8-8d71-2dba03ad2185_0187.mp4\n",
      "Loading  /media/data_cifs/MGH/videos/BW46/Xxxxxxx~ Xxxxx_e3d4db02-a6ec-43b8-8d71-2dba03ad2185_0187.mp4\n",
      "Duration of video [s]:  122.23 , recorded with  30.0 fps!\n",
      "Overall # of frames:  3667  found with (before cropping) frame dimensions:  640 480\n",
      "Starting to extract posture\n"
     ]
    },
    {
     "name": "stderr",
     "output_type": "stream",
     "text": [
      "3672it [00:40, 86.41it/s]                           "
     ]
    },
    {
     "name": "stdout",
     "output_type": "stream",
     "text": [
      "Detected frames:  3667\n"
     ]
    },
    {
     "name": "stderr",
     "output_type": "stream",
     "text": [
      "\n"
     ]
    },
    {
     "name": "stdout",
     "output_type": "stream",
     "text": [
      "Saving results in /media/data_cifs/MGH/videos/BW46...\n",
      "Saving csv poses!\n"
     ]
    },
    {
     "name": "stderr",
     "output_type": "stream",
     "text": [
      "\r",
      "  0%|          | 0/3549 [00:00<?, ?it/s]"
     ]
    },
    {
     "name": "stdout",
     "output_type": "stream",
     "text": [
      "Starting to analyze %  /media/data_cifs/MGH/videos/BW46/Xxxxxxx~ Xxxxx_e3d4db02-a6ec-43b8-8d71-2dba03ad2185_0238.mp4\n",
      "Loading  /media/data_cifs/MGH/videos/BW46/Xxxxxxx~ Xxxxx_e3d4db02-a6ec-43b8-8d71-2dba03ad2185_0238.mp4\n",
      "Duration of video [s]:  118.3 , recorded with  30.0 fps!\n",
      "Overall # of frames:  3549  found with (before cropping) frame dimensions:  640 480\n",
      "Starting to extract posture\n"
     ]
    },
    {
     "name": "stderr",
     "output_type": "stream",
     "text": [
      "3570it [00:39, 87.87it/s]                           "
     ]
    },
    {
     "name": "stdout",
     "output_type": "stream",
     "text": [
      "Detected frames:  3549\n"
     ]
    },
    {
     "name": "stderr",
     "output_type": "stream",
     "text": [
      "\n"
     ]
    },
    {
     "name": "stdout",
     "output_type": "stream",
     "text": [
      "Saving results in /media/data_cifs/MGH/videos/BW46...\n",
      "Saving csv poses!\n"
     ]
    },
    {
     "name": "stderr",
     "output_type": "stream",
     "text": [
      "\r",
      "  0%|          | 0/3642 [00:00<?, ?it/s]"
     ]
    },
    {
     "name": "stdout",
     "output_type": "stream",
     "text": [
      "Starting to analyze %  /media/data_cifs/MGH/videos/BW46/Xxxxxxx~ Xxxxx_e3d4db02-a6ec-43b8-8d71-2dba03ad2185_0214.mp4\n",
      "Loading  /media/data_cifs/MGH/videos/BW46/Xxxxxxx~ Xxxxx_e3d4db02-a6ec-43b8-8d71-2dba03ad2185_0214.mp4\n",
      "Duration of video [s]:  121.4 , recorded with  30.0 fps!\n",
      "Overall # of frames:  3642  found with (before cropping) frame dimensions:  640 480\n",
      "Starting to extract posture\n"
     ]
    },
    {
     "name": "stderr",
     "output_type": "stream",
     "text": [
      "3672it [00:41, 85.19it/s]                           \n"
     ]
    },
    {
     "name": "stdout",
     "output_type": "stream",
     "text": [
      "Detected frames:  3642\n",
      "Saving results in /media/data_cifs/MGH/videos/BW46...\n",
      "Saving csv poses!\n"
     ]
    },
    {
     "name": "stderr",
     "output_type": "stream",
     "text": [
      "\r",
      "  0%|          | 0/3571 [00:00<?, ?it/s]"
     ]
    },
    {
     "name": "stdout",
     "output_type": "stream",
     "text": [
      "Starting to analyze %  /media/data_cifs/MGH/videos/BW46/Xxxxxxx~ Xxxxx_e3d4db02-a6ec-43b8-8d71-2dba03ad2185_0284.mp4\n",
      "Loading  /media/data_cifs/MGH/videos/BW46/Xxxxxxx~ Xxxxx_e3d4db02-a6ec-43b8-8d71-2dba03ad2185_0284.mp4\n",
      "Duration of video [s]:  119.03 , recorded with  30.0 fps!\n",
      "Overall # of frames:  3571  found with (before cropping) frame dimensions:  640 480\n",
      "Starting to extract posture\n"
     ]
    },
    {
     "name": "stderr",
     "output_type": "stream",
     "text": [
      "3605it [00:40, 79.06it/s]                           \n"
     ]
    },
    {
     "name": "stdout",
     "output_type": "stream",
     "text": [
      "Detected frames:  3571\n",
      "Saving results in /media/data_cifs/MGH/videos/BW46...\n",
      "Saving csv poses!\n"
     ]
    },
    {
     "name": "stderr",
     "output_type": "stream",
     "text": [
      "\r",
      "  0%|          | 0/3601 [00:00<?, ?it/s]"
     ]
    },
    {
     "name": "stdout",
     "output_type": "stream",
     "text": [
      "Starting to analyze %  /media/data_cifs/MGH/videos/BW46/Xxxxxxx~ Xxxxx_e3d4db02-a6ec-43b8-8d71-2dba03ad2185_0222.mp4\n",
      "Loading  /media/data_cifs/MGH/videos/BW46/Xxxxxxx~ Xxxxx_e3d4db02-a6ec-43b8-8d71-2dba03ad2185_0222.mp4\n",
      "Duration of video [s]:  120.03 , recorded with  30.0 fps!\n",
      "Overall # of frames:  3601  found with (before cropping) frame dimensions:  640 480\n",
      "Starting to extract posture\n"
     ]
    },
    {
     "name": "stderr",
     "output_type": "stream",
     "text": [
      "3636it [00:40, 83.36it/s]                           \n"
     ]
    },
    {
     "name": "stdout",
     "output_type": "stream",
     "text": [
      "Detected frames:  3601\n",
      "Saving results in /media/data_cifs/MGH/videos/BW46...\n",
      "Saving csv poses!\n"
     ]
    },
    {
     "name": "stderr",
     "output_type": "stream",
     "text": [
      "\r",
      "  0%|          | 0/3605 [00:00<?, ?it/s]"
     ]
    },
    {
     "name": "stdout",
     "output_type": "stream",
     "text": [
      "Starting to analyze %  /media/data_cifs/MGH/videos/BW46/Xxxxxxx~ Xxxxx_e3d4db02-a6ec-43b8-8d71-2dba03ad2185_0299.mp4\n",
      "Loading  /media/data_cifs/MGH/videos/BW46/Xxxxxxx~ Xxxxx_e3d4db02-a6ec-43b8-8d71-2dba03ad2185_0299.mp4\n",
      "Duration of video [s]:  120.17 , recorded with  30.0 fps!\n",
      "Overall # of frames:  3605  found with (before cropping) frame dimensions:  640 480\n",
      "Starting to extract posture\n"
     ]
    },
    {
     "name": "stderr",
     "output_type": "stream",
     "text": [
      "3636it [00:43, 81.20it/s]                          \n"
     ]
    },
    {
     "name": "stdout",
     "output_type": "stream",
     "text": [
      "Detected frames:  3605\n",
      "Saving results in /media/data_cifs/MGH/videos/BW46...\n",
      "Saving csv poses!\n"
     ]
    },
    {
     "name": "stderr",
     "output_type": "stream",
     "text": [
      "\r",
      "  0%|          | 0/3601 [00:00<?, ?it/s]"
     ]
    },
    {
     "name": "stdout",
     "output_type": "stream",
     "text": [
      "Starting to analyze %  /media/data_cifs/MGH/videos/BW46/Xxxxxxx~ Xxxxx_e3d4db02-a6ec-43b8-8d71-2dba03ad2185_0298.mp4\n",
      "Loading  /media/data_cifs/MGH/videos/BW46/Xxxxxxx~ Xxxxx_e3d4db02-a6ec-43b8-8d71-2dba03ad2185_0298.mp4\n",
      "Duration of video [s]:  120.03 , recorded with  30.0 fps!\n",
      "Overall # of frames:  3601  found with (before cropping) frame dimensions:  640 480\n",
      "Starting to extract posture\n"
     ]
    },
    {
     "name": "stderr",
     "output_type": "stream",
     "text": [
      "3636it [00:40, 77.01it/s]                           \n"
     ]
    },
    {
     "name": "stdout",
     "output_type": "stream",
     "text": [
      "Detected frames:  3601\n",
      "Saving results in /media/data_cifs/MGH/videos/BW46...\n",
      "Saving csv poses!\n"
     ]
    },
    {
     "name": "stderr",
     "output_type": "stream",
     "text": [
      "\r",
      "  0%|          | 0/3586 [00:00<?, ?it/s]"
     ]
    },
    {
     "name": "stdout",
     "output_type": "stream",
     "text": [
      "Starting to analyze %  /media/data_cifs/MGH/videos/BW46/Xxxxxxx~ Xxxxx_e3d4db02-a6ec-43b8-8d71-2dba03ad2185_0248.mp4\n",
      "Loading  /media/data_cifs/MGH/videos/BW46/Xxxxxxx~ Xxxxx_e3d4db02-a6ec-43b8-8d71-2dba03ad2185_0248.mp4\n",
      "Duration of video [s]:  119.53 , recorded with  30.0 fps!\n",
      "Overall # of frames:  3586  found with (before cropping) frame dimensions:  640 480\n",
      "Starting to extract posture\n"
     ]
    },
    {
     "name": "stderr",
     "output_type": "stream",
     "text": [
      "3605it [00:40, 84.24it/s]                           "
     ]
    },
    {
     "name": "stdout",
     "output_type": "stream",
     "text": [
      "Detected frames:  3586\n"
     ]
    },
    {
     "name": "stderr",
     "output_type": "stream",
     "text": [
      "\n"
     ]
    },
    {
     "name": "stdout",
     "output_type": "stream",
     "text": [
      "Saving results in /media/data_cifs/MGH/videos/BW46...\n",
      "Saving csv poses!\n",
      "Starting to analyze %  /media/data_cifs/MGH/videos/BW46/Xxxxxxx~ Xxxxx_e3d4db02-a6ec-43b8-8d71-2dba03ad2185_0245.mp4\n",
      "Loading  /media/data_cifs/MGH/videos/BW46/Xxxxxxx~ Xxxxx_e3d4db02-a6ec-43b8-8d71-2dba03ad2185_0245.mp4\n"
     ]
    },
    {
     "name": "stderr",
     "output_type": "stream",
     "text": [
      "\r",
      "  0%|          | 0/3549 [00:00<?, ?it/s]"
     ]
    },
    {
     "name": "stdout",
     "output_type": "stream",
     "text": [
      "Duration of video [s]:  118.3 , recorded with  30.0 fps!\n",
      "Overall # of frames:  3549  found with (before cropping) frame dimensions:  640 480\n",
      "Starting to extract posture\n"
     ]
    },
    {
     "name": "stderr",
     "output_type": "stream",
     "text": [
      "3570it [00:53, 84.76it/s]                          "
     ]
    },
    {
     "name": "stdout",
     "output_type": "stream",
     "text": [
      "Detected frames:  3549\n"
     ]
    },
    {
     "name": "stderr",
     "output_type": "stream",
     "text": [
      "\n"
     ]
    },
    {
     "name": "stdout",
     "output_type": "stream",
     "text": [
      "Saving results in /media/data_cifs/MGH/videos/BW46...\n",
      "Saving csv poses!\n"
     ]
    },
    {
     "name": "stderr",
     "output_type": "stream",
     "text": [
      "\r",
      "  0%|          | 0/3499 [00:00<?, ?it/s]"
     ]
    },
    {
     "name": "stdout",
     "output_type": "stream",
     "text": [
      "Starting to analyze %  /media/data_cifs/MGH/videos/BW46/Xxxxxxx~ Xxxxx_4c6cb293-aaae-4e47-bb1a-34b771393a41_0247.mp4\n",
      "Loading  /media/data_cifs/MGH/videos/BW46/Xxxxxxx~ Xxxxx_4c6cb293-aaae-4e47-bb1a-34b771393a41_0247.mp4\n",
      "Duration of video [s]:  116.63 , recorded with  30.0 fps!\n",
      "Overall # of frames:  3499  found with (before cropping) frame dimensions:  640 480\n",
      "Starting to extract posture\n"
     ]
    },
    {
     "name": "stderr",
     "output_type": "stream",
     "text": [
      "3502it [00:38, 87.48it/s]                           "
     ]
    },
    {
     "name": "stdout",
     "output_type": "stream",
     "text": [
      "Detected frames:  3499\n"
     ]
    },
    {
     "name": "stderr",
     "output_type": "stream",
     "text": [
      "\n"
     ]
    },
    {
     "name": "stdout",
     "output_type": "stream",
     "text": [
      "Saving results in /media/data_cifs/MGH/videos/BW46...\n",
      "Saving csv poses!\n"
     ]
    },
    {
     "name": "stderr",
     "output_type": "stream",
     "text": [
      "\r",
      "  0%|          | 0/4814 [00:00<?, ?it/s]"
     ]
    },
    {
     "name": "stdout",
     "output_type": "stream",
     "text": [
      "Starting to analyze %  /media/data_cifs/MGH/videos/BW46/Xxxxxxx~ Xxxxx_e3d4db02-a6ec-43b8-8d71-2dba03ad2185_0223.mp4\n",
      "Loading  /media/data_cifs/MGH/videos/BW46/Xxxxxxx~ Xxxxx_e3d4db02-a6ec-43b8-8d71-2dba03ad2185_0223.mp4\n",
      "Duration of video [s]:  160.47 , recorded with  30.0 fps!\n",
      "Overall # of frames:  4814  found with (before cropping) frame dimensions:  640 480\n",
      "Starting to extract posture\n"
     ]
    },
    {
     "name": "stderr",
     "output_type": "stream",
     "text": [
      "4848it [00:55, 85.74it/s]                          \n"
     ]
    },
    {
     "name": "stdout",
     "output_type": "stream",
     "text": [
      "Detected frames:  4814\n",
      "Saving results in /media/data_cifs/MGH/videos/BW46...\n",
      "Saving csv poses!\n"
     ]
    },
    {
     "name": "stderr",
     "output_type": "stream",
     "text": [
      "\r",
      "  0%|          | 0/3613 [00:00<?, ?it/s]"
     ]
    },
    {
     "name": "stdout",
     "output_type": "stream",
     "text": [
      "Starting to analyze %  /media/data_cifs/MGH/videos/BW46/Xxxxxxx~ Xxxxx_e3d4db02-a6ec-43b8-8d71-2dba03ad2185_0178.mp4\n",
      "Loading  /media/data_cifs/MGH/videos/BW46/Xxxxxxx~ Xxxxx_e3d4db02-a6ec-43b8-8d71-2dba03ad2185_0178.mp4\n",
      "Duration of video [s]:  120.43 , recorded with  30.0 fps!\n",
      "Overall # of frames:  3613  found with (before cropping) frame dimensions:  640 480\n",
      "Starting to extract posture\n"
     ]
    },
    {
     "name": "stderr",
     "output_type": "stream",
     "text": [
      "3636it [00:39, 82.10it/s]                           \n"
     ]
    },
    {
     "name": "stdout",
     "output_type": "stream",
     "text": [
      "Detected frames:  3613\n",
      "Saving results in /media/data_cifs/MGH/videos/BW46...\n",
      "Saving csv poses!\n"
     ]
    },
    {
     "name": "stderr",
     "output_type": "stream",
     "text": [
      "\r",
      "  0%|          | 0/3576 [00:00<?, ?it/s]"
     ]
    },
    {
     "name": "stdout",
     "output_type": "stream",
     "text": [
      "Starting to analyze %  /media/data_cifs/MGH/videos/BW46/Xxxxxxx~ Xxxxx_e3d4db02-a6ec-43b8-8d71-2dba03ad2185_0290.mp4\n",
      "Loading  /media/data_cifs/MGH/videos/BW46/Xxxxxxx~ Xxxxx_e3d4db02-a6ec-43b8-8d71-2dba03ad2185_0290.mp4\n",
      "Duration of video [s]:  119.2 , recorded with  30.0 fps!\n",
      "Overall # of frames:  3576  found with (before cropping) frame dimensions:  640 480\n",
      "Starting to extract posture\n"
     ]
    },
    {
     "name": "stderr",
     "output_type": "stream",
     "text": [
      "3605it [00:39, 86.13it/s]                           \n"
     ]
    },
    {
     "name": "stdout",
     "output_type": "stream",
     "text": [
      "Detected frames:  3576\n",
      "Saving results in /media/data_cifs/MGH/videos/BW46...\n",
      "Saving csv poses!\n"
     ]
    },
    {
     "name": "stderr",
     "output_type": "stream",
     "text": [
      "\r",
      "  0%|          | 0/3641 [00:00<?, ?it/s]"
     ]
    },
    {
     "name": "stdout",
     "output_type": "stream",
     "text": [
      "Starting to analyze %  /media/data_cifs/MGH/videos/BW46/Xxxxxxx~ Xxxxx_e3d4db02-a6ec-43b8-8d71-2dba03ad2185_0282.mp4\n",
      "Loading  /media/data_cifs/MGH/videos/BW46/Xxxxxxx~ Xxxxx_e3d4db02-a6ec-43b8-8d71-2dba03ad2185_0282.mp4\n",
      "Duration of video [s]:  121.37 , recorded with  30.0 fps!\n",
      "Overall # of frames:  3641  found with (before cropping) frame dimensions:  640 480\n",
      "Starting to extract posture\n"
     ]
    },
    {
     "name": "stderr",
     "output_type": "stream",
     "text": [
      "3672it [00:39, 79.16it/s]                           \n"
     ]
    },
    {
     "name": "stdout",
     "output_type": "stream",
     "text": [
      "Detected frames:  3641\n",
      "Saving results in /media/data_cifs/MGH/videos/BW46...\n",
      "Saving csv poses!\n"
     ]
    },
    {
     "name": "stderr",
     "output_type": "stream",
     "text": [
      "\r",
      "  0%|          | 0/3605 [00:00<?, ?it/s]"
     ]
    },
    {
     "name": "stdout",
     "output_type": "stream",
     "text": [
      "Starting to analyze %  /media/data_cifs/MGH/videos/BW46/Xxxxxxx~ Xxxxx_e3d4db02-a6ec-43b8-8d71-2dba03ad2185_0296.mp4\n",
      "Loading  /media/data_cifs/MGH/videos/BW46/Xxxxxxx~ Xxxxx_e3d4db02-a6ec-43b8-8d71-2dba03ad2185_0296.mp4\n",
      "Duration of video [s]:  120.17 , recorded with  30.0 fps!\n",
      "Overall # of frames:  3605  found with (before cropping) frame dimensions:  640 480\n",
      "Starting to extract posture\n"
     ]
    },
    {
     "name": "stderr",
     "output_type": "stream",
     "text": [
      "3636it [00:38, 85.05it/s]                           \n"
     ]
    },
    {
     "name": "stdout",
     "output_type": "stream",
     "text": [
      "Detected frames:  3605\n",
      "Saving results in /media/data_cifs/MGH/videos/BW46...\n",
      "Saving csv poses!\n",
      "Starting to analyze %  /media/data_cifs/MGH/videos/BW46/Xxxxxxx~ Xxxxx_e3d4db02-a6ec-43b8-8d71-2dba03ad2185_0279.mp4\n",
      "Loading  /media/data_cifs/MGH/videos/BW46/Xxxxxxx~ Xxxxx_e3d4db02-a6ec-43b8-8d71-2dba03ad2185_0279.mp4\n"
     ]
    },
    {
     "name": "stderr",
     "output_type": "stream",
     "text": [
      "\r",
      "  0%|          | 0/3610 [00:00<?, ?it/s]"
     ]
    },
    {
     "name": "stdout",
     "output_type": "stream",
     "text": [
      "Duration of video [s]:  120.33 , recorded with  30.0 fps!\n",
      "Overall # of frames:  3610  found with (before cropping) frame dimensions:  640 480\n",
      "Starting to extract posture\n"
     ]
    },
    {
     "name": "stderr",
     "output_type": "stream",
     "text": [
      "3636it [00:46, 83.95it/s]                           \n"
     ]
    },
    {
     "name": "stdout",
     "output_type": "stream",
     "text": [
      "Detected frames:  3610\n",
      "Saving results in /media/data_cifs/MGH/videos/BW46...\n",
      "Saving csv poses!\n"
     ]
    },
    {
     "name": "stderr",
     "output_type": "stream",
     "text": [
      "\r",
      "  0%|          | 0/3579 [00:00<?, ?it/s]"
     ]
    },
    {
     "name": "stdout",
     "output_type": "stream",
     "text": [
      "Starting to analyze %  /media/data_cifs/MGH/videos/BW46/Xxxxxxx~ Xxxxx_e3d4db02-a6ec-43b8-8d71-2dba03ad2185_0171.mp4\n",
      "Loading  /media/data_cifs/MGH/videos/BW46/Xxxxxxx~ Xxxxx_e3d4db02-a6ec-43b8-8d71-2dba03ad2185_0171.mp4\n",
      "Duration of video [s]:  119.3 , recorded with  30.0 fps!\n",
      "Overall # of frames:  3579  found with (before cropping) frame dimensions:  640 480\n",
      "Starting to extract posture\n"
     ]
    },
    {
     "name": "stderr",
     "output_type": "stream",
     "text": [
      "3605it [00:38, 85.76it/s]                           \n"
     ]
    },
    {
     "name": "stdout",
     "output_type": "stream",
     "text": [
      "Detected frames:  3579\n",
      "Saving results in /media/data_cifs/MGH/videos/BW46...\n",
      "Saving csv poses!\n"
     ]
    },
    {
     "name": "stderr",
     "output_type": "stream",
     "text": [
      "\r",
      "  0%|          | 0/3490 [00:00<?, ?it/s]"
     ]
    },
    {
     "name": "stdout",
     "output_type": "stream",
     "text": [
      "Starting to analyze %  /media/data_cifs/MGH/videos/BW46/Xxxxxxx~ Xxxxx_4c6cb293-aaae-4e47-bb1a-34b771393a41_0255.mp4\n",
      "Loading  /media/data_cifs/MGH/videos/BW46/Xxxxxxx~ Xxxxx_4c6cb293-aaae-4e47-bb1a-34b771393a41_0255.mp4\n",
      "Duration of video [s]:  116.33 , recorded with  30.0 fps!\n",
      "Overall # of frames:  3490  found with (before cropping) frame dimensions:  640 480\n",
      "Starting to extract posture\n"
     ]
    },
    {
     "name": "stderr",
     "output_type": "stream",
     "text": [
      "3502it [00:38, 88.02it/s]                           "
     ]
    },
    {
     "name": "stdout",
     "output_type": "stream",
     "text": [
      "Detected frames:  3490\n"
     ]
    },
    {
     "name": "stderr",
     "output_type": "stream",
     "text": [
      "\n"
     ]
    },
    {
     "name": "stdout",
     "output_type": "stream",
     "text": [
      "Saving results in /media/data_cifs/MGH/videos/BW46...\n",
      "Saving csv poses!\n",
      "Starting to analyze %  /media/data_cifs/MGH/videos/BW46/Xxxxxxx~ Xxxxx_4c6cb293-aaae-4e47-bb1a-34b771393a41_0252.mp4\n",
      "Loading  /media/data_cifs/MGH/videos/BW46/Xxxxxxx~ Xxxxx_4c6cb293-aaae-4e47-bb1a-34b771393a41_0252.mp4\n"
     ]
    },
    {
     "name": "stderr",
     "output_type": "stream",
     "text": [
      "\r",
      "  0%|          | 0/4111 [00:00<?, ?it/s]"
     ]
    },
    {
     "name": "stdout",
     "output_type": "stream",
     "text": [
      "Duration of video [s]:  137.03 , recorded with  30.0 fps!\n",
      "Overall # of frames:  4111  found with (before cropping) frame dimensions:  640 480\n",
      "Starting to extract posture\n"
     ]
    },
    {
     "name": "stderr",
     "output_type": "stream",
     "text": [
      "4141it [00:53, 82.88it/s]                           \n"
     ]
    },
    {
     "name": "stdout",
     "output_type": "stream",
     "text": [
      "Detected frames:  4111\n",
      "Saving results in /media/data_cifs/MGH/videos/BW46...\n",
      "Saving csv poses!\n"
     ]
    },
    {
     "name": "stderr",
     "output_type": "stream",
     "text": [
      "\r",
      "  0%|          | 0/3513 [00:00<?, ?it/s]"
     ]
    },
    {
     "name": "stdout",
     "output_type": "stream",
     "text": [
      "Starting to analyze %  /media/data_cifs/MGH/videos/BW46/Xxxxxxx~ Xxxxx_e3d4db02-a6ec-43b8-8d71-2dba03ad2185_0263.mp4\n",
      "Loading  /media/data_cifs/MGH/videos/BW46/Xxxxxxx~ Xxxxx_e3d4db02-a6ec-43b8-8d71-2dba03ad2185_0263.mp4\n",
      "Duration of video [s]:  117.1 , recorded with  30.0 fps!\n",
      "Overall # of frames:  3513  found with (before cropping) frame dimensions:  640 480\n",
      "Starting to extract posture\n"
     ]
    },
    {
     "name": "stderr",
     "output_type": "stream",
     "text": [
      "3535it [00:38, 87.93it/s]                           "
     ]
    },
    {
     "name": "stdout",
     "output_type": "stream",
     "text": [
      "Detected frames:  3513\n"
     ]
    },
    {
     "name": "stderr",
     "output_type": "stream",
     "text": [
      "\n"
     ]
    },
    {
     "name": "stdout",
     "output_type": "stream",
     "text": [
      "Saving results in /media/data_cifs/MGH/videos/BW46...\n",
      "Saving csv poses!\n"
     ]
    },
    {
     "name": "stderr",
     "output_type": "stream",
     "text": [
      "\r",
      "  0%|          | 0/3386 [00:00<?, ?it/s]"
     ]
    },
    {
     "name": "stdout",
     "output_type": "stream",
     "text": [
      "Starting to analyze %  /media/data_cifs/MGH/videos/BW46/Xxxxxxx~ Xxxxx_e3d4db02-a6ec-43b8-8d71-2dba03ad2185_0198.mp4\n",
      "Loading  /media/data_cifs/MGH/videos/BW46/Xxxxxxx~ Xxxxx_e3d4db02-a6ec-43b8-8d71-2dba03ad2185_0198.mp4\n",
      "Duration of video [s]:  112.87 , recorded with  30.0 fps!\n",
      "Overall # of frames:  3386  found with (before cropping) frame dimensions:  640 480\n",
      "Starting to extract posture\n"
     ]
    },
    {
     "name": "stderr",
     "output_type": "stream",
     "text": [
      "3399it [00:36, 93.71it/s]                           "
     ]
    },
    {
     "name": "stdout",
     "output_type": "stream",
     "text": [
      "Detected frames:  3386\n"
     ]
    },
    {
     "name": "stderr",
     "output_type": "stream",
     "text": [
      "\n"
     ]
    },
    {
     "name": "stdout",
     "output_type": "stream",
     "text": [
      "Saving results in /media/data_cifs/MGH/videos/BW46...\n",
      "Saving csv poses!\n",
      "Starting to analyze %  /media/data_cifs/MGH/videos/BW46/Xxxxxxx~ Xxxxx_e3d4db02-a6ec-43b8-8d71-2dba03ad2185_0172.mp4\n",
      "Loading  /media/data_cifs/MGH/videos/BW46/Xxxxxxx~ Xxxxx_e3d4db02-a6ec-43b8-8d71-2dba03ad2185_0172.mp4\n"
     ]
    },
    {
     "name": "stderr",
     "output_type": "stream",
     "text": [
      "\r",
      "  0%|          | 0/3612 [00:00<?, ?it/s]"
     ]
    },
    {
     "name": "stdout",
     "output_type": "stream",
     "text": [
      "Duration of video [s]:  120.4 , recorded with  30.0 fps!\n",
      "Overall # of frames:  3612  found with (before cropping) frame dimensions:  640 480\n",
      "Starting to extract posture\n"
     ]
    },
    {
     "name": "stderr",
     "output_type": "stream",
     "text": [
      "3636it [00:41, 76.10it/s]                           \n"
     ]
    },
    {
     "name": "stdout",
     "output_type": "stream",
     "text": [
      "Detected frames:  3612\n",
      "Saving results in /media/data_cifs/MGH/videos/BW46...\n",
      "Saving csv poses!\n"
     ]
    },
    {
     "name": "stderr",
     "output_type": "stream",
     "text": [
      "\r",
      "  0%|          | 0/3638 [00:00<?, ?it/s]"
     ]
    },
    {
     "name": "stdout",
     "output_type": "stream",
     "text": [
      "Starting to analyze %  /media/data_cifs/MGH/videos/BW46/Xxxxxxx~ Xxxxx_e3d4db02-a6ec-43b8-8d71-2dba03ad2185_0261.mp4\n",
      "Loading  /media/data_cifs/MGH/videos/BW46/Xxxxxxx~ Xxxxx_e3d4db02-a6ec-43b8-8d71-2dba03ad2185_0261.mp4\n",
      "Duration of video [s]:  121.27 , recorded with  30.0 fps!\n",
      "Overall # of frames:  3638  found with (before cropping) frame dimensions:  640 480\n",
      "Starting to extract posture\n"
     ]
    },
    {
     "name": "stderr",
     "output_type": "stream",
     "text": [
      "3672it [00:41, 87.17it/s]                           \n"
     ]
    },
    {
     "name": "stdout",
     "output_type": "stream",
     "text": [
      "Detected frames:  3638\n",
      "Saving results in /media/data_cifs/MGH/videos/BW46...\n",
      "Saving csv poses!\n"
     ]
    },
    {
     "name": "stderr",
     "output_type": "stream",
     "text": [
      "\r",
      "  0%|          | 0/3533 [00:00<?, ?it/s]"
     ]
    },
    {
     "name": "stdout",
     "output_type": "stream",
     "text": [
      "Starting to analyze %  /media/data_cifs/MGH/videos/BW46/Xxxxxxx~ Xxxxx_e3d4db02-a6ec-43b8-8d71-2dba03ad2185_0204.mp4\n",
      "Loading  /media/data_cifs/MGH/videos/BW46/Xxxxxxx~ Xxxxx_e3d4db02-a6ec-43b8-8d71-2dba03ad2185_0204.mp4\n",
      "Duration of video [s]:  117.77 , recorded with  30.0 fps!\n",
      "Overall # of frames:  3533  found with (before cropping) frame dimensions:  640 480\n",
      "Starting to extract posture\n"
     ]
    },
    {
     "name": "stderr",
     "output_type": "stream",
     "text": [
      "3535it [00:37, 86.57it/s]                           "
     ]
    },
    {
     "name": "stdout",
     "output_type": "stream",
     "text": [
      "Detected frames:  3533\n"
     ]
    },
    {
     "name": "stderr",
     "output_type": "stream",
     "text": [
      "\n"
     ]
    },
    {
     "name": "stdout",
     "output_type": "stream",
     "text": [
      "Saving results in /media/data_cifs/MGH/videos/BW46...\n",
      "Saving csv poses!\n"
     ]
    },
    {
     "name": "stderr",
     "output_type": "stream",
     "text": [
      "\r",
      "  0%|          | 0/3614 [00:00<?, ?it/s]"
     ]
    },
    {
     "name": "stdout",
     "output_type": "stream",
     "text": [
      "Starting to analyze %  /media/data_cifs/MGH/videos/BW46/Xxxxxxx~ Xxxxx_e3d4db02-a6ec-43b8-8d71-2dba03ad2185_0225.mp4\n",
      "Loading  /media/data_cifs/MGH/videos/BW46/Xxxxxxx~ Xxxxx_e3d4db02-a6ec-43b8-8d71-2dba03ad2185_0225.mp4\n",
      "Duration of video [s]:  120.47 , recorded with  30.0 fps!\n",
      "Overall # of frames:  3614  found with (before cropping) frame dimensions:  640 480\n",
      "Starting to extract posture\n"
     ]
    },
    {
     "name": "stderr",
     "output_type": "stream",
     "text": [
      "3636it [00:39, 85.77it/s]                           \n"
     ]
    },
    {
     "name": "stdout",
     "output_type": "stream",
     "text": [
      "Detected frames:  3614\n",
      "Saving results in /media/data_cifs/MGH/videos/BW46...\n",
      "Saving csv poses!\n"
     ]
    },
    {
     "name": "stderr",
     "output_type": "stream",
     "text": [
      "\r",
      "  0%|          | 0/3641 [00:00<?, ?it/s]"
     ]
    },
    {
     "name": "stdout",
     "output_type": "stream",
     "text": [
      "Starting to analyze %  /media/data_cifs/MGH/videos/BW46/Xxxxxxx~ Xxxxx_e3d4db02-a6ec-43b8-8d71-2dba03ad2185_0201.mp4\n",
      "Loading  /media/data_cifs/MGH/videos/BW46/Xxxxxxx~ Xxxxx_e3d4db02-a6ec-43b8-8d71-2dba03ad2185_0201.mp4\n",
      "Duration of video [s]:  121.37 , recorded with  30.0 fps!\n",
      "Overall # of frames:  3641  found with (before cropping) frame dimensions:  640 480\n",
      "Starting to extract posture\n"
     ]
    },
    {
     "name": "stderr",
     "output_type": "stream",
     "text": [
      "3672it [00:39, 87.26it/s]                           \n"
     ]
    },
    {
     "name": "stdout",
     "output_type": "stream",
     "text": [
      "Detected frames:  3641\n",
      "Saving results in /media/data_cifs/MGH/videos/BW46...\n",
      "Saving csv poses!\n"
     ]
    },
    {
     "name": "stderr",
     "output_type": "stream",
     "text": [
      "\r",
      "  0%|          | 0/3670 [00:00<?, ?it/s]"
     ]
    },
    {
     "name": "stdout",
     "output_type": "stream",
     "text": [
      "Starting to analyze %  /media/data_cifs/MGH/videos/BW46/Xxxxxxx~ Xxxxx_e3d4db02-a6ec-43b8-8d71-2dba03ad2185_0203.mp4\n",
      "Loading  /media/data_cifs/MGH/videos/BW46/Xxxxxxx~ Xxxxx_e3d4db02-a6ec-43b8-8d71-2dba03ad2185_0203.mp4\n",
      "Duration of video [s]:  122.33 , recorded with  30.0 fps!\n",
      "Overall # of frames:  3670  found with (before cropping) frame dimensions:  640 480\n",
      "Starting to extract posture\n"
     ]
    },
    {
     "name": "stderr",
     "output_type": "stream",
     "text": [
      "3672it [00:41, 84.94it/s]                           "
     ]
    },
    {
     "name": "stdout",
     "output_type": "stream",
     "text": [
      "Detected frames:  3670\n"
     ]
    },
    {
     "name": "stderr",
     "output_type": "stream",
     "text": [
      "\n"
     ]
    },
    {
     "name": "stdout",
     "output_type": "stream",
     "text": [
      "Saving results in /media/data_cifs/MGH/videos/BW46...\n",
      "Saving csv poses!\n"
     ]
    },
    {
     "name": "stderr",
     "output_type": "stream",
     "text": [
      "\r",
      "  0%|          | 0/3582 [00:00<?, ?it/s]"
     ]
    },
    {
     "name": "stdout",
     "output_type": "stream",
     "text": [
      "Starting to analyze %  /media/data_cifs/MGH/videos/BW46/Xxxxxxx~ Xxxxx_e3d4db02-a6ec-43b8-8d71-2dba03ad2185_0174.mp4\n",
      "Loading  /media/data_cifs/MGH/videos/BW46/Xxxxxxx~ Xxxxx_e3d4db02-a6ec-43b8-8d71-2dba03ad2185_0174.mp4\n",
      "Duration of video [s]:  119.4 , recorded with  30.0 fps!\n",
      "Overall # of frames:  3582  found with (before cropping) frame dimensions:  640 480\n",
      "Starting to extract posture\n"
     ]
    },
    {
     "name": "stderr",
     "output_type": "stream",
     "text": [
      "3605it [00:46, 83.45it/s]                           \n"
     ]
    },
    {
     "name": "stdout",
     "output_type": "stream",
     "text": [
      "Detected frames:  3582\n",
      "Saving results in /media/data_cifs/MGH/videos/BW46...\n",
      "Saving csv poses!\n"
     ]
    },
    {
     "name": "stderr",
     "output_type": "stream",
     "text": [
      "\r",
      "  0%|          | 0/3601 [00:00<?, ?it/s]"
     ]
    },
    {
     "name": "stdout",
     "output_type": "stream",
     "text": [
      "Starting to analyze %  /media/data_cifs/MGH/videos/BW46/Xxxxxxx~ Xxxxx_e3d4db02-a6ec-43b8-8d71-2dba03ad2185_0258.mp4\n",
      "Loading  /media/data_cifs/MGH/videos/BW46/Xxxxxxx~ Xxxxx_e3d4db02-a6ec-43b8-8d71-2dba03ad2185_0258.mp4\n",
      "Duration of video [s]:  120.03 , recorded with  30.0 fps!\n",
      "Overall # of frames:  3601  found with (before cropping) frame dimensions:  640 480\n",
      "Starting to extract posture\n"
     ]
    },
    {
     "name": "stderr",
     "output_type": "stream",
     "text": [
      "3636it [00:40, 84.26it/s]                          \n"
     ]
    },
    {
     "name": "stdout",
     "output_type": "stream",
     "text": [
      "Detected frames:  3601\n",
      "Saving results in /media/data_cifs/MGH/videos/BW46...\n",
      "Saving csv poses!\n"
     ]
    },
    {
     "name": "stderr",
     "output_type": "stream",
     "text": [
      "\r",
      "  0%|          | 0/3669 [00:00<?, ?it/s]"
     ]
    },
    {
     "name": "stdout",
     "output_type": "stream",
     "text": [
      "Starting to analyze %  /media/data_cifs/MGH/videos/BW46/Xxxxxxx~ Xxxxx_e3d4db02-a6ec-43b8-8d71-2dba03ad2185_0294.mp4\n",
      "Loading  /media/data_cifs/MGH/videos/BW46/Xxxxxxx~ Xxxxx_e3d4db02-a6ec-43b8-8d71-2dba03ad2185_0294.mp4\n",
      "Duration of video [s]:  122.3 , recorded with  30.0 fps!\n",
      "Overall # of frames:  3669  found with (before cropping) frame dimensions:  640 480\n",
      "Starting to extract posture\n"
     ]
    },
    {
     "name": "stderr",
     "output_type": "stream",
     "text": [
      "3672it [00:40, 86.21it/s]                           "
     ]
    },
    {
     "name": "stdout",
     "output_type": "stream",
     "text": [
      "Detected frames:  3669\n"
     ]
    },
    {
     "name": "stderr",
     "output_type": "stream",
     "text": [
      "\n"
     ]
    },
    {
     "name": "stdout",
     "output_type": "stream",
     "text": [
      "Saving results in /media/data_cifs/MGH/videos/BW46...\n",
      "Saving csv poses!\n"
     ]
    },
    {
     "name": "stderr",
     "output_type": "stream",
     "text": [
      "\r",
      "  0%|          | 0/3587 [00:00<?, ?it/s]"
     ]
    },
    {
     "name": "stdout",
     "output_type": "stream",
     "text": [
      "Starting to analyze %  /media/data_cifs/MGH/videos/BW46/Xxxxxxx~ Xxxxx_4c6cb293-aaae-4e47-bb1a-34b771393a41_0198.mp4\n",
      "Loading  /media/data_cifs/MGH/videos/BW46/Xxxxxxx~ Xxxxx_4c6cb293-aaae-4e47-bb1a-34b771393a41_0198.mp4\n",
      "Duration of video [s]:  119.57 , recorded with  30.0 fps!\n",
      "Overall # of frames:  3587  found with (before cropping) frame dimensions:  640 480\n",
      "Starting to extract posture\n"
     ]
    },
    {
     "name": "stderr",
     "output_type": "stream",
     "text": [
      "3605it [00:39, 84.24it/s]                           "
     ]
    },
    {
     "name": "stdout",
     "output_type": "stream",
     "text": [
      "Detected frames:  3587\n"
     ]
    },
    {
     "name": "stderr",
     "output_type": "stream",
     "text": [
      "\n"
     ]
    },
    {
     "name": "stdout",
     "output_type": "stream",
     "text": [
      "Saving results in /media/data_cifs/MGH/videos/BW46...\n",
      "Saving csv poses!\n"
     ]
    },
    {
     "name": "stderr",
     "output_type": "stream",
     "text": [
      "\r",
      "  0%|          | 0/3588 [00:00<?, ?it/s]"
     ]
    },
    {
     "name": "stdout",
     "output_type": "stream",
     "text": [
      "Starting to analyze %  /media/data_cifs/MGH/videos/BW46/Xxxxxxx~ Xxxxx_e3d4db02-a6ec-43b8-8d71-2dba03ad2185_0167.mp4\n",
      "Loading  /media/data_cifs/MGH/videos/BW46/Xxxxxxx~ Xxxxx_e3d4db02-a6ec-43b8-8d71-2dba03ad2185_0167.mp4\n",
      "Duration of video [s]:  119.6 , recorded with  30.0 fps!\n",
      "Overall # of frames:  3588  found with (before cropping) frame dimensions:  640 480\n",
      "Starting to extract posture\n"
     ]
    },
    {
     "name": "stderr",
     "output_type": "stream",
     "text": [
      "3605it [00:39, 82.44it/s]                           "
     ]
    },
    {
     "name": "stdout",
     "output_type": "stream",
     "text": [
      "Detected frames:  3588\n"
     ]
    },
    {
     "name": "stderr",
     "output_type": "stream",
     "text": [
      "\n"
     ]
    },
    {
     "name": "stdout",
     "output_type": "stream",
     "text": [
      "Saving results in /media/data_cifs/MGH/videos/BW46...\n",
      "Saving csv poses!\n"
     ]
    },
    {
     "name": "stderr",
     "output_type": "stream",
     "text": [
      "\r",
      "  0%|          | 0/3614 [00:00<?, ?it/s]"
     ]
    },
    {
     "name": "stdout",
     "output_type": "stream",
     "text": [
      "Starting to analyze %  /media/data_cifs/MGH/videos/BW46/Xxxxxxx~ Xxxxx_e3d4db02-a6ec-43b8-8d71-2dba03ad2185_0276.mp4\n",
      "Loading  /media/data_cifs/MGH/videos/BW46/Xxxxxxx~ Xxxxx_e3d4db02-a6ec-43b8-8d71-2dba03ad2185_0276.mp4\n",
      "Duration of video [s]:  120.47 , recorded with  30.0 fps!\n",
      "Overall # of frames:  3614  found with (before cropping) frame dimensions:  640 480\n",
      "Starting to extract posture\n"
     ]
    },
    {
     "name": "stderr",
     "output_type": "stream",
     "text": [
      "3636it [00:40, 85.94it/s]                           \n"
     ]
    },
    {
     "name": "stdout",
     "output_type": "stream",
     "text": [
      "Detected frames:  3614\n",
      "Saving results in /media/data_cifs/MGH/videos/BW46...\n",
      "Saving csv poses!\n"
     ]
    },
    {
     "name": "stderr",
     "output_type": "stream",
     "text": [
      "\r",
      "  0%|          | 0/3604 [00:00<?, ?it/s]"
     ]
    },
    {
     "name": "stdout",
     "output_type": "stream",
     "text": [
      "Starting to analyze %  /media/data_cifs/MGH/videos/BW46/Xxxxxxx~ Xxxxx_e3d4db02-a6ec-43b8-8d71-2dba03ad2185_0260.mp4\n",
      "Loading  /media/data_cifs/MGH/videos/BW46/Xxxxxxx~ Xxxxx_e3d4db02-a6ec-43b8-8d71-2dba03ad2185_0260.mp4\n",
      "Duration of video [s]:  120.13 , recorded with  30.0 fps!\n",
      "Overall # of frames:  3604  found with (before cropping) frame dimensions:  640 480\n",
      "Starting to extract posture\n"
     ]
    },
    {
     "name": "stderr",
     "output_type": "stream",
     "text": [
      "3636it [00:40, 84.62it/s]                           \n"
     ]
    },
    {
     "name": "stdout",
     "output_type": "stream",
     "text": [
      "Detected frames:  3604\n",
      "Saving results in /media/data_cifs/MGH/videos/BW46...\n",
      "Saving csv poses!\n"
     ]
    },
    {
     "name": "stderr",
     "output_type": "stream",
     "text": [
      "\r",
      "  0%|          | 0/3679 [00:00<?, ?it/s]"
     ]
    },
    {
     "name": "stdout",
     "output_type": "stream",
     "text": [
      "Starting to analyze %  /media/data_cifs/MGH/videos/BW46/Xxxxxxx~ Xxxxx_e3d4db02-a6ec-43b8-8d71-2dba03ad2185_0272.mp4\n",
      "Loading  /media/data_cifs/MGH/videos/BW46/Xxxxxxx~ Xxxxx_e3d4db02-a6ec-43b8-8d71-2dba03ad2185_0272.mp4\n",
      "Duration of video [s]:  122.63 , recorded with  30.0 fps!\n",
      "Overall # of frames:  3679  found with (before cropping) frame dimensions:  640 480\n",
      "Starting to extract posture\n"
     ]
    },
    {
     "name": "stderr",
     "output_type": "stream",
     "text": [
      "3708it [00:42, 71.97it/s]                          \n"
     ]
    },
    {
     "name": "stdout",
     "output_type": "stream",
     "text": [
      "Detected frames:  3679\n",
      "Saving results in /media/data_cifs/MGH/videos/BW46...\n",
      "Saving csv poses!\n",
      "Starting to analyze %  /media/data_cifs/MGH/videos/BW46/Xxxxxxx~ Xxxxx_e3d4db02-a6ec-43b8-8d71-2dba03ad2185_0275.mp4\n",
      "Loading  /media/data_cifs/MGH/videos/BW46/Xxxxxxx~ Xxxxx_e3d4db02-a6ec-43b8-8d71-2dba03ad2185_0275.mp4\n"
     ]
    },
    {
     "name": "stderr",
     "output_type": "stream",
     "text": [
      "\r",
      "  0%|          | 0/3584 [00:00<?, ?it/s]"
     ]
    },
    {
     "name": "stdout",
     "output_type": "stream",
     "text": [
      "Duration of video [s]:  119.47 , recorded with  30.0 fps!\n",
      "Overall # of frames:  3584  found with (before cropping) frame dimensions:  640 480\n",
      "Starting to extract posture\n"
     ]
    },
    {
     "name": "stderr",
     "output_type": "stream",
     "text": [
      "3605it [00:53, 80.11it/s]                          \n"
     ]
    },
    {
     "name": "stdout",
     "output_type": "stream",
     "text": [
      "Detected frames:  3584\n",
      "Saving results in /media/data_cifs/MGH/videos/BW46...\n",
      "Saving csv poses!\n"
     ]
    },
    {
     "name": "stderr",
     "output_type": "stream",
     "text": [
      "\r",
      "  0%|          | 0/3574 [00:00<?, ?it/s]"
     ]
    },
    {
     "name": "stdout",
     "output_type": "stream",
     "text": [
      "Starting to analyze %  /media/data_cifs/MGH/videos/BW46/Xxxxxxx~ Xxxxx_e3d4db02-a6ec-43b8-8d71-2dba03ad2185_0242.mp4\n",
      "Loading  /media/data_cifs/MGH/videos/BW46/Xxxxxxx~ Xxxxx_e3d4db02-a6ec-43b8-8d71-2dba03ad2185_0242.mp4\n",
      "Duration of video [s]:  119.13 , recorded with  30.0 fps!\n",
      "Overall # of frames:  3574  found with (before cropping) frame dimensions:  640 480\n",
      "Starting to extract posture\n"
     ]
    },
    {
     "name": "stderr",
     "output_type": "stream",
     "text": [
      "3605it [00:39, 82.41it/s]                           \n"
     ]
    },
    {
     "name": "stdout",
     "output_type": "stream",
     "text": [
      "Detected frames:  3574\n",
      "Saving results in /media/data_cifs/MGH/videos/BW46...\n",
      "Saving csv poses!\n"
     ]
    },
    {
     "name": "stderr",
     "output_type": "stream",
     "text": [
      "\r",
      "  0%|          | 0/3517 [00:00<?, ?it/s]"
     ]
    },
    {
     "name": "stdout",
     "output_type": "stream",
     "text": [
      "Starting to analyze %  /media/data_cifs/MGH/videos/BW46/Xxxxxxx~ Xxxxx_4c6cb293-aaae-4e47-bb1a-34b771393a41_0194.mp4\n",
      "Loading  /media/data_cifs/MGH/videos/BW46/Xxxxxxx~ Xxxxx_4c6cb293-aaae-4e47-bb1a-34b771393a41_0194.mp4\n",
      "Duration of video [s]:  117.23 , recorded with  30.0 fps!\n",
      "Overall # of frames:  3517  found with (before cropping) frame dimensions:  640 480\n",
      "Starting to extract posture\n"
     ]
    },
    {
     "name": "stderr",
     "output_type": "stream",
     "text": [
      "3535it [00:38, 89.49it/s]                           "
     ]
    },
    {
     "name": "stdout",
     "output_type": "stream",
     "text": [
      "Detected frames:  3517\n"
     ]
    },
    {
     "name": "stderr",
     "output_type": "stream",
     "text": [
      "\n"
     ]
    },
    {
     "name": "stdout",
     "output_type": "stream",
     "text": [
      "Saving results in /media/data_cifs/MGH/videos/BW46...\n",
      "Saving csv poses!\n"
     ]
    },
    {
     "name": "stderr",
     "output_type": "stream",
     "text": [
      "\r",
      "  0%|          | 0/3570 [00:00<?, ?it/s]"
     ]
    },
    {
     "name": "stdout",
     "output_type": "stream",
     "text": [
      "Starting to analyze %  /media/data_cifs/MGH/videos/BW46/Xxxxxxx~ Xxxxx_e3d4db02-a6ec-43b8-8d71-2dba03ad2185_0202.mp4\n",
      "Loading  /media/data_cifs/MGH/videos/BW46/Xxxxxxx~ Xxxxx_e3d4db02-a6ec-43b8-8d71-2dba03ad2185_0202.mp4\n",
      "Duration of video [s]:  119.0 , recorded with  30.0 fps!\n",
      "Overall # of frames:  3570  found with (before cropping) frame dimensions:  640 480\n",
      "Starting to extract posture\n"
     ]
    },
    {
     "name": "stderr",
     "output_type": "stream",
     "text": [
      "3605it [00:47, 84.40it/s]                           \n"
     ]
    },
    {
     "name": "stdout",
     "output_type": "stream",
     "text": [
      "Detected frames:  3570\n",
      "Saving results in /media/data_cifs/MGH/videos/BW46...\n",
      "Saving csv poses!\n"
     ]
    },
    {
     "name": "stderr",
     "output_type": "stream",
     "text": [
      "\r",
      "  0%|          | 0/3689 [00:00<?, ?it/s]"
     ]
    },
    {
     "name": "stdout",
     "output_type": "stream",
     "text": [
      "Starting to analyze %  /media/data_cifs/MGH/videos/BW46/Xxxxxxx~ Xxxxx_e3d4db02-a6ec-43b8-8d71-2dba03ad2185_0235.mp4\n",
      "Loading  /media/data_cifs/MGH/videos/BW46/Xxxxxxx~ Xxxxx_e3d4db02-a6ec-43b8-8d71-2dba03ad2185_0235.mp4\n",
      "Duration of video [s]:  122.97 , recorded with  30.0 fps!\n",
      "Overall # of frames:  3689  found with (before cropping) frame dimensions:  640 480\n",
      "Starting to extract posture\n"
     ]
    },
    {
     "name": "stderr",
     "output_type": "stream",
     "text": [
      "3708it [00:39, 71.65it/s]                           "
     ]
    },
    {
     "name": "stdout",
     "output_type": "stream",
     "text": [
      "Detected frames:  3689\n"
     ]
    },
    {
     "name": "stderr",
     "output_type": "stream",
     "text": [
      "\n"
     ]
    },
    {
     "name": "stdout",
     "output_type": "stream",
     "text": [
      "Saving results in /media/data_cifs/MGH/videos/BW46...\n",
      "Saving csv poses!\n"
     ]
    },
    {
     "name": "stderr",
     "output_type": "stream",
     "text": [
      "\r",
      "  0%|          | 0/3596 [00:00<?, ?it/s]"
     ]
    },
    {
     "name": "stdout",
     "output_type": "stream",
     "text": [
      "Starting to analyze %  /media/data_cifs/MGH/videos/BW46/Xxxxxxx~ Xxxxx_4c6cb293-aaae-4e47-bb1a-34b771393a41_0199.mp4\n",
      "Loading  /media/data_cifs/MGH/videos/BW46/Xxxxxxx~ Xxxxx_4c6cb293-aaae-4e47-bb1a-34b771393a41_0199.mp4\n",
      "Duration of video [s]:  119.87 , recorded with  30.0 fps!\n",
      "Overall # of frames:  3596  found with (before cropping) frame dimensions:  640 480\n",
      "Starting to extract posture\n"
     ]
    },
    {
     "name": "stderr",
     "output_type": "stream",
     "text": [
      "3605it [00:39, 86.56it/s]                           "
     ]
    },
    {
     "name": "stdout",
     "output_type": "stream",
     "text": [
      "Detected frames:  3596\n"
     ]
    },
    {
     "name": "stderr",
     "output_type": "stream",
     "text": [
      "\n"
     ]
    },
    {
     "name": "stdout",
     "output_type": "stream",
     "text": [
      "Saving results in /media/data_cifs/MGH/videos/BW46...\n",
      "Saving csv poses!\n"
     ]
    },
    {
     "name": "stderr",
     "output_type": "stream",
     "text": [
      "\r",
      "  0%|          | 0/3599 [00:00<?, ?it/s]"
     ]
    },
    {
     "name": "stdout",
     "output_type": "stream",
     "text": [
      "Starting to analyze %  /media/data_cifs/MGH/videos/BW46/Xxxxxxx~ Xxxxx_e3d4db02-a6ec-43b8-8d71-2dba03ad2185_0243.mp4\n",
      "Loading  /media/data_cifs/MGH/videos/BW46/Xxxxxxx~ Xxxxx_e3d4db02-a6ec-43b8-8d71-2dba03ad2185_0243.mp4\n",
      "Duration of video [s]:  119.97 , recorded with  30.0 fps!\n",
      "Overall # of frames:  3599  found with (before cropping) frame dimensions:  640 480\n",
      "Starting to extract posture\n"
     ]
    },
    {
     "name": "stderr",
     "output_type": "stream",
     "text": [
      "3605it [00:39, 83.55it/s]                           "
     ]
    },
    {
     "name": "stdout",
     "output_type": "stream",
     "text": [
      "Detected frames:  3599\n"
     ]
    },
    {
     "name": "stderr",
     "output_type": "stream",
     "text": [
      "\n"
     ]
    },
    {
     "name": "stdout",
     "output_type": "stream",
     "text": [
      "Saving results in /media/data_cifs/MGH/videos/BW46...\n",
      "Saving csv poses!\n"
     ]
    },
    {
     "name": "stderr",
     "output_type": "stream",
     "text": [
      "\r",
      "  0%|          | 0/3730 [00:00<?, ?it/s]"
     ]
    },
    {
     "name": "stdout",
     "output_type": "stream",
     "text": [
      "Starting to analyze %  /media/data_cifs/MGH/videos/BW46/Xxxxxxx~ Xxxxx_e3d4db02-a6ec-43b8-8d71-2dba03ad2185_0206.mp4\n",
      "Loading  /media/data_cifs/MGH/videos/BW46/Xxxxxxx~ Xxxxx_e3d4db02-a6ec-43b8-8d71-2dba03ad2185_0206.mp4\n",
      "Duration of video [s]:  124.33 , recorded with  30.0 fps!\n",
      "Overall # of frames:  3730  found with (before cropping) frame dimensions:  640 480\n",
      "Starting to extract posture\n"
     ]
    },
    {
     "name": "stderr",
     "output_type": "stream",
     "text": [
      "3737it [00:41, 84.57it/s]                           "
     ]
    },
    {
     "name": "stdout",
     "output_type": "stream",
     "text": [
      "Detected frames:  3730\n"
     ]
    },
    {
     "name": "stderr",
     "output_type": "stream",
     "text": [
      "\n"
     ]
    },
    {
     "name": "stdout",
     "output_type": "stream",
     "text": [
      "Saving results in /media/data_cifs/MGH/videos/BW46...\n",
      "Saving csv poses!\n",
      "Starting to analyze %  /media/data_cifs/MGH/videos/BW46/Xxxxxxx~ Xxxxx_e3d4db02-a6ec-43b8-8d71-2dba03ad2185_0211.mp4\n",
      "Loading  /media/data_cifs/MGH/videos/BW46/Xxxxxxx~ Xxxxx_e3d4db02-a6ec-43b8-8d71-2dba03ad2185_0211.mp4\n"
     ]
    },
    {
     "name": "stderr",
     "output_type": "stream",
     "text": [
      "\r",
      "  0%|          | 0/3580 [00:00<?, ?it/s]"
     ]
    },
    {
     "name": "stdout",
     "output_type": "stream",
     "text": [
      "Duration of video [s]:  119.33 , recorded with  30.0 fps!\n",
      "Overall # of frames:  3580  found with (before cropping) frame dimensions:  640 480\n",
      "Starting to extract posture\n"
     ]
    },
    {
     "name": "stderr",
     "output_type": "stream",
     "text": [
      "3605it [00:38, 85.70it/s]                           \n"
     ]
    },
    {
     "name": "stdout",
     "output_type": "stream",
     "text": [
      "Detected frames:  3580\n",
      "Saving results in /media/data_cifs/MGH/videos/BW46...\n",
      "Saving csv poses!\n",
      "Starting to analyze %  /media/data_cifs/MGH/videos/BW46/Xxxxxxx~ Xxxxx_e3d4db02-a6ec-43b8-8d71-2dba03ad2185_0270.mp4\n",
      "Loading  /media/data_cifs/MGH/videos/BW46/Xxxxxxx~ Xxxxx_e3d4db02-a6ec-43b8-8d71-2dba03ad2185_0270.mp4\n"
     ]
    },
    {
     "name": "stderr",
     "output_type": "stream",
     "text": [
      "\r",
      "  0%|          | 0/3612 [00:00<?, ?it/s]"
     ]
    },
    {
     "name": "stdout",
     "output_type": "stream",
     "text": [
      "Duration of video [s]:  120.4 , recorded with  30.0 fps!\n",
      "Overall # of frames:  3612  found with (before cropping) frame dimensions:  640 480\n",
      "Starting to extract posture\n"
     ]
    },
    {
     "name": "stderr",
     "output_type": "stream",
     "text": [
      "3636it [00:40, 85.03it/s]                           \n"
     ]
    },
    {
     "name": "stdout",
     "output_type": "stream",
     "text": [
      "Detected frames:  3612\n",
      "Saving results in /media/data_cifs/MGH/videos/BW46...\n",
      "Saving csv poses!\n"
     ]
    },
    {
     "name": "stderr",
     "output_type": "stream",
     "text": [
      "\r",
      "  0%|          | 0/3631 [00:00<?, ?it/s]"
     ]
    },
    {
     "name": "stdout",
     "output_type": "stream",
     "text": [
      "Starting to analyze %  /media/data_cifs/MGH/videos/BW46/Xxxxxxx~ Xxxxx_e3d4db02-a6ec-43b8-8d71-2dba03ad2185_0219.mp4\n",
      "Loading  /media/data_cifs/MGH/videos/BW46/Xxxxxxx~ Xxxxx_e3d4db02-a6ec-43b8-8d71-2dba03ad2185_0219.mp4\n",
      "Duration of video [s]:  121.03 , recorded with  30.0 fps!\n",
      "Overall # of frames:  3631  found with (before cropping) frame dimensions:  640 480\n",
      "Starting to extract posture\n"
     ]
    },
    {
     "name": "stderr",
     "output_type": "stream",
     "text": [
      "3636it [00:39, 84.84it/s]                           "
     ]
    },
    {
     "name": "stdout",
     "output_type": "stream",
     "text": [
      "Detected frames:  3631\n"
     ]
    },
    {
     "name": "stderr",
     "output_type": "stream",
     "text": [
      "\n"
     ]
    },
    {
     "name": "stdout",
     "output_type": "stream",
     "text": [
      "Saving results in /media/data_cifs/MGH/videos/BW46...\n",
      "Saving csv poses!\n"
     ]
    },
    {
     "name": "stderr",
     "output_type": "stream",
     "text": [
      "\r",
      "  0%|          | 0/3603 [00:00<?, ?it/s]"
     ]
    },
    {
     "name": "stdout",
     "output_type": "stream",
     "text": [
      "Starting to analyze %  /media/data_cifs/MGH/videos/BW46/Xxxxxxx~ Xxxxx_e3d4db02-a6ec-43b8-8d71-2dba03ad2185_0281.mp4\n",
      "Loading  /media/data_cifs/MGH/videos/BW46/Xxxxxxx~ Xxxxx_e3d4db02-a6ec-43b8-8d71-2dba03ad2185_0281.mp4\n",
      "Duration of video [s]:  120.1 , recorded with  30.0 fps!\n",
      "Overall # of frames:  3603  found with (before cropping) frame dimensions:  640 480\n",
      "Starting to extract posture\n"
     ]
    },
    {
     "name": "stderr",
     "output_type": "stream",
     "text": [
      "3636it [00:39, 78.60it/s]                           \n"
     ]
    },
    {
     "name": "stdout",
     "output_type": "stream",
     "text": [
      "Detected frames:  3603\n",
      "Saving results in /media/data_cifs/MGH/videos/BW46...\n",
      "Saving csv poses!\n"
     ]
    },
    {
     "name": "stderr",
     "output_type": "stream",
     "text": [
      "\r",
      "  0%|          | 0/3639 [00:00<?, ?it/s]"
     ]
    },
    {
     "name": "stdout",
     "output_type": "stream",
     "text": [
      "Starting to analyze %  /media/data_cifs/MGH/videos/BW46/Xxxxxxx~ Xxxxx_e3d4db02-a6ec-43b8-8d71-2dba03ad2185_0181.mp4\n",
      "Loading  /media/data_cifs/MGH/videos/BW46/Xxxxxxx~ Xxxxx_e3d4db02-a6ec-43b8-8d71-2dba03ad2185_0181.mp4\n",
      "Duration of video [s]:  121.3 , recorded with  30.0 fps!\n",
      "Overall # of frames:  3639  found with (before cropping) frame dimensions:  640 480\n",
      "Starting to extract posture\n"
     ]
    },
    {
     "name": "stderr",
     "output_type": "stream",
     "text": [
      "3672it [00:39, 86.23it/s]                           \n"
     ]
    },
    {
     "name": "stdout",
     "output_type": "stream",
     "text": [
      "Detected frames:  3639\n",
      "Saving results in /media/data_cifs/MGH/videos/BW46...\n",
      "Saving csv poses!\n"
     ]
    },
    {
     "name": "stderr",
     "output_type": "stream",
     "text": [
      "\r",
      "  0%|          | 0/3639 [00:00<?, ?it/s]"
     ]
    },
    {
     "name": "stdout",
     "output_type": "stream",
     "text": [
      "Starting to analyze %  /media/data_cifs/MGH/videos/BW46/Xxxxxxx~ Xxxxx_e3d4db02-a6ec-43b8-8d71-2dba03ad2185_0289.mp4\n",
      "Loading  /media/data_cifs/MGH/videos/BW46/Xxxxxxx~ Xxxxx_e3d4db02-a6ec-43b8-8d71-2dba03ad2185_0289.mp4\n",
      "Duration of video [s]:  121.3 , recorded with  30.0 fps!\n",
      "Overall # of frames:  3639  found with (before cropping) frame dimensions:  640 480\n",
      "Starting to extract posture\n"
     ]
    },
    {
     "name": "stderr",
     "output_type": "stream",
     "text": [
      "3672it [00:39, 86.95it/s]                           \n"
     ]
    },
    {
     "name": "stdout",
     "output_type": "stream",
     "text": [
      "Detected frames:  3639\n",
      "Saving results in /media/data_cifs/MGH/videos/BW46...\n",
      "Saving csv poses!\n"
     ]
    },
    {
     "name": "stderr",
     "output_type": "stream",
     "text": [
      "\r",
      "  0%|          | 0/3590 [00:00<?, ?it/s]"
     ]
    },
    {
     "name": "stdout",
     "output_type": "stream",
     "text": [
      "Starting to analyze %  /media/data_cifs/MGH/videos/BW46/Xxxxxxx~ Xxxxx_e3d4db02-a6ec-43b8-8d71-2dba03ad2185_0158.mp4\n",
      "Loading  /media/data_cifs/MGH/videos/BW46/Xxxxxxx~ Xxxxx_e3d4db02-a6ec-43b8-8d71-2dba03ad2185_0158.mp4\n",
      "Duration of video [s]:  119.67 , recorded with  30.0 fps!\n",
      "Overall # of frames:  3590  found with (before cropping) frame dimensions:  640 480\n",
      "Starting to extract posture\n"
     ]
    },
    {
     "name": "stderr",
     "output_type": "stream",
     "text": [
      "3605it [00:39, 85.12it/s]                           "
     ]
    },
    {
     "name": "stdout",
     "output_type": "stream",
     "text": [
      "Detected frames:  3590\n"
     ]
    },
    {
     "name": "stderr",
     "output_type": "stream",
     "text": [
      "\n"
     ]
    },
    {
     "name": "stdout",
     "output_type": "stream",
     "text": [
      "Saving results in /media/data_cifs/MGH/videos/BW46...\n",
      "Saving csv poses!\n"
     ]
    },
    {
     "name": "stderr",
     "output_type": "stream",
     "text": [
      "\r",
      "  0%|          | 0/3576 [00:00<?, ?it/s]"
     ]
    },
    {
     "name": "stdout",
     "output_type": "stream",
     "text": [
      "Starting to analyze %  /media/data_cifs/MGH/videos/BW46/Xxxxxxx~ Xxxxx_e3d4db02-a6ec-43b8-8d71-2dba03ad2185_0179.mp4\n",
      "Loading  /media/data_cifs/MGH/videos/BW46/Xxxxxxx~ Xxxxx_e3d4db02-a6ec-43b8-8d71-2dba03ad2185_0179.mp4\n",
      "Duration of video [s]:  119.2 , recorded with  30.0 fps!\n",
      "Overall # of frames:  3576  found with (before cropping) frame dimensions:  640 480\n",
      "Starting to extract posture\n"
     ]
    },
    {
     "name": "stderr",
     "output_type": "stream",
     "text": [
      "3605it [00:38, 85.21it/s]                           \n"
     ]
    },
    {
     "name": "stdout",
     "output_type": "stream",
     "text": [
      "Detected frames:  3576\n",
      "Saving results in /media/data_cifs/MGH/videos/BW46...\n",
      "Saving csv poses!\n"
     ]
    },
    {
     "name": "stderr",
     "output_type": "stream",
     "text": [
      "\r",
      "  0%|          | 0/3596 [00:00<?, ?it/s]"
     ]
    },
    {
     "name": "stdout",
     "output_type": "stream",
     "text": [
      "Starting to analyze %  /media/data_cifs/MGH/videos/BW46/Xxxxxxx~ Xxxxx_e3d4db02-a6ec-43b8-8d71-2dba03ad2185_0230.mp4\n",
      "Loading  /media/data_cifs/MGH/videos/BW46/Xxxxxxx~ Xxxxx_e3d4db02-a6ec-43b8-8d71-2dba03ad2185_0230.mp4\n",
      "Duration of video [s]:  119.87 , recorded with  30.0 fps!\n",
      "Overall # of frames:  3596  found with (before cropping) frame dimensions:  640 480\n",
      "Starting to extract posture\n"
     ]
    },
    {
     "name": "stderr",
     "output_type": "stream",
     "text": [
      "3605it [00:39, 82.67it/s]                           "
     ]
    },
    {
     "name": "stdout",
     "output_type": "stream",
     "text": [
      "Detected frames:  3596\n"
     ]
    },
    {
     "name": "stderr",
     "output_type": "stream",
     "text": [
      "\n"
     ]
    },
    {
     "name": "stdout",
     "output_type": "stream",
     "text": [
      "Saving results in /media/data_cifs/MGH/videos/BW46...\n",
      "Saving csv poses!\n"
     ]
    },
    {
     "name": "stderr",
     "output_type": "stream",
     "text": [
      "\r",
      "  0%|          | 0/3608 [00:00<?, ?it/s]"
     ]
    },
    {
     "name": "stdout",
     "output_type": "stream",
     "text": [
      "Starting to analyze %  /media/data_cifs/MGH/videos/BW46/Xxxxxxx~ Xxxxx_e3d4db02-a6ec-43b8-8d71-2dba03ad2185_0285.mp4\n",
      "Loading  /media/data_cifs/MGH/videos/BW46/Xxxxxxx~ Xxxxx_e3d4db02-a6ec-43b8-8d71-2dba03ad2185_0285.mp4\n",
      "Duration of video [s]:  120.27 , recorded with  30.0 fps!\n",
      "Overall # of frames:  3608  found with (before cropping) frame dimensions:  640 480\n",
      "Starting to extract posture\n"
     ]
    },
    {
     "name": "stderr",
     "output_type": "stream",
     "text": [
      "3636it [00:40, 80.94it/s]                           \n"
     ]
    },
    {
     "name": "stdout",
     "output_type": "stream",
     "text": [
      "Detected frames:  3608\n",
      "Saving results in /media/data_cifs/MGH/videos/BW46...\n",
      "Saving csv poses!\n"
     ]
    },
    {
     "name": "stderr",
     "output_type": "stream",
     "text": [
      "\r",
      "  0%|          | 0/3539 [00:00<?, ?it/s]"
     ]
    },
    {
     "name": "stdout",
     "output_type": "stream",
     "text": [
      "Starting to analyze %  /media/data_cifs/MGH/videos/BW46/Xxxxxxx~ Xxxxx_e3d4db02-a6ec-43b8-8d71-2dba03ad2185_0295.mp4\n",
      "Loading  /media/data_cifs/MGH/videos/BW46/Xxxxxxx~ Xxxxx_e3d4db02-a6ec-43b8-8d71-2dba03ad2185_0295.mp4\n",
      "Duration of video [s]:  117.97 , recorded with  30.0 fps!\n",
      "Overall # of frames:  3539  found with (before cropping) frame dimensions:  640 480\n",
      "Starting to extract posture\n"
     ]
    },
    {
     "name": "stderr",
     "output_type": "stream",
     "text": [
      "3570it [00:38, 87.93it/s]                           \n"
     ]
    },
    {
     "name": "stdout",
     "output_type": "stream",
     "text": [
      "Detected frames:  3539\n",
      "Saving results in /media/data_cifs/MGH/videos/BW46...\n",
      "Saving csv poses!\n",
      "Starting to analyze %  /media/data_cifs/MGH/videos/BW46/Xxxxxxx~ Xxxxx_e3d4db02-a6ec-43b8-8d71-2dba03ad2185_0213.mp4\n",
      "Loading  /media/data_cifs/MGH/videos/BW46/Xxxxxxx~ Xxxxx_e3d4db02-a6ec-43b8-8d71-2dba03ad2185_0213.mp4\n"
     ]
    },
    {
     "name": "stderr",
     "output_type": "stream",
     "text": [
      "\r",
      "  0%|          | 0/3540 [00:00<?, ?it/s]"
     ]
    },
    {
     "name": "stdout",
     "output_type": "stream",
     "text": [
      "Duration of video [s]:  118.0 , recorded with  30.0 fps!\n",
      "Overall # of frames:  3540  found with (before cropping) frame dimensions:  640 480\n",
      "Starting to extract posture\n"
     ]
    },
    {
     "name": "stderr",
     "output_type": "stream",
     "text": [
      "3570it [00:48, 71.28it/s]                           \n"
     ]
    },
    {
     "name": "stdout",
     "output_type": "stream",
     "text": [
      "Detected frames:  3540\n",
      "Saving results in /media/data_cifs/MGH/videos/BW46...\n",
      "Saving csv poses!\n"
     ]
    },
    {
     "name": "stderr",
     "output_type": "stream",
     "text": [
      "\r",
      "  0%|          | 0/3614 [00:00<?, ?it/s]"
     ]
    },
    {
     "name": "stdout",
     "output_type": "stream",
     "text": [
      "Starting to analyze %  /media/data_cifs/MGH/videos/BW46/Xxxxxxx~ Xxxxx_4c6cb293-aaae-4e47-bb1a-34b771393a41_0204.mp4\n",
      "Loading  /media/data_cifs/MGH/videos/BW46/Xxxxxxx~ Xxxxx_4c6cb293-aaae-4e47-bb1a-34b771393a41_0204.mp4\n",
      "Duration of video [s]:  120.47 , recorded with  30.0 fps!\n",
      "Overall # of frames:  3614  found with (before cropping) frame dimensions:  640 480\n",
      "Starting to extract posture\n"
     ]
    },
    {
     "name": "stderr",
     "output_type": "stream",
     "text": [
      "3636it [00:39, 82.38it/s]                           \n"
     ]
    },
    {
     "name": "stdout",
     "output_type": "stream",
     "text": [
      "Detected frames:  3614\n",
      "Saving results in /media/data_cifs/MGH/videos/BW46...\n",
      "Saving csv poses!\n"
     ]
    },
    {
     "name": "stderr",
     "output_type": "stream",
     "text": [
      "\r",
      "  0%|          | 0/3518 [00:00<?, ?it/s]"
     ]
    },
    {
     "name": "stdout",
     "output_type": "stream",
     "text": [
      "Starting to analyze %  /media/data_cifs/MGH/videos/BW46/Xxxxxxx~ Xxxxx_e3d4db02-a6ec-43b8-8d71-2dba03ad2185_0166.mp4\n",
      "Loading  /media/data_cifs/MGH/videos/BW46/Xxxxxxx~ Xxxxx_e3d4db02-a6ec-43b8-8d71-2dba03ad2185_0166.mp4\n",
      "Duration of video [s]:  117.27 , recorded with  30.0 fps!\n",
      "Overall # of frames:  3518  found with (before cropping) frame dimensions:  640 480\n",
      "Starting to extract posture\n"
     ]
    },
    {
     "name": "stderr",
     "output_type": "stream",
     "text": [
      "3535it [00:40, 87.36it/s]                           "
     ]
    },
    {
     "name": "stdout",
     "output_type": "stream",
     "text": [
      "Detected frames:  3518\n"
     ]
    },
    {
     "name": "stderr",
     "output_type": "stream",
     "text": [
      "\n"
     ]
    },
    {
     "name": "stdout",
     "output_type": "stream",
     "text": [
      "Saving results in /media/data_cifs/MGH/videos/BW46...\n",
      "Saving csv poses!\n"
     ]
    },
    {
     "name": "stderr",
     "output_type": "stream",
     "text": [
      "\r",
      "  0%|          | 0/3615 [00:00<?, ?it/s]"
     ]
    },
    {
     "name": "stdout",
     "output_type": "stream",
     "text": [
      "Starting to analyze %  /media/data_cifs/MGH/videos/BW46/Xxxxxxx~ Xxxxx_e3d4db02-a6ec-43b8-8d71-2dba03ad2185_0229.mp4\n",
      "Loading  /media/data_cifs/MGH/videos/BW46/Xxxxxxx~ Xxxxx_e3d4db02-a6ec-43b8-8d71-2dba03ad2185_0229.mp4\n",
      "Duration of video [s]:  120.5 , recorded with  30.0 fps!\n",
      "Overall # of frames:  3615  found with (before cropping) frame dimensions:  640 480\n",
      "Starting to extract posture\n"
     ]
    },
    {
     "name": "stderr",
     "output_type": "stream",
     "text": [
      "3636it [00:40, 85.02it/s]                           \n"
     ]
    },
    {
     "name": "stdout",
     "output_type": "stream",
     "text": [
      "Detected frames:  3615\n",
      "Saving results in /media/data_cifs/MGH/videos/BW46...\n",
      "Saving csv poses!\n"
     ]
    },
    {
     "name": "stderr",
     "output_type": "stream",
     "text": [
      "\r",
      "  0%|          | 0/3606 [00:00<?, ?it/s]"
     ]
    },
    {
     "name": "stdout",
     "output_type": "stream",
     "text": [
      "Starting to analyze %  /media/data_cifs/MGH/videos/BW46/Xxxxxxx~ Xxxxx_e3d4db02-a6ec-43b8-8d71-2dba03ad2185_0293.mp4\n",
      "Loading  /media/data_cifs/MGH/videos/BW46/Xxxxxxx~ Xxxxx_e3d4db02-a6ec-43b8-8d71-2dba03ad2185_0293.mp4\n",
      "Duration of video [s]:  120.2 , recorded with  30.0 fps!\n",
      "Overall # of frames:  3606  found with (before cropping) frame dimensions:  640 480\n",
      "Starting to extract posture\n"
     ]
    },
    {
     "name": "stderr",
     "output_type": "stream",
     "text": [
      "3636it [00:39, 83.33it/s]                           \n"
     ]
    },
    {
     "name": "stdout",
     "output_type": "stream",
     "text": [
      "Detected frames:  3606\n",
      "Saving results in /media/data_cifs/MGH/videos/BW46...\n",
      "Saving csv poses!\n"
     ]
    },
    {
     "name": "stderr",
     "output_type": "stream",
     "text": [
      "\r",
      "  0%|          | 0/3571 [00:00<?, ?it/s]"
     ]
    },
    {
     "name": "stdout",
     "output_type": "stream",
     "text": [
      "Starting to analyze %  /media/data_cifs/MGH/videos/BW46/Xxxxxxx~ Xxxxx_e3d4db02-a6ec-43b8-8d71-2dba03ad2185_0190.mp4\n",
      "Loading  /media/data_cifs/MGH/videos/BW46/Xxxxxxx~ Xxxxx_e3d4db02-a6ec-43b8-8d71-2dba03ad2185_0190.mp4\n",
      "Duration of video [s]:  119.03 , recorded with  30.0 fps!\n",
      "Overall # of frames:  3571  found with (before cropping) frame dimensions:  640 480\n",
      "Starting to extract posture\n"
     ]
    },
    {
     "name": "stderr",
     "output_type": "stream",
     "text": [
      "3605it [00:39, 78.22it/s]                           \n"
     ]
    },
    {
     "name": "stdout",
     "output_type": "stream",
     "text": [
      "Detected frames:  3571\n",
      "Saving results in /media/data_cifs/MGH/videos/BW46...\n",
      "Saving csv poses!\n"
     ]
    },
    {
     "name": "stderr",
     "output_type": "stream",
     "text": [
      "\r",
      "  0%|          | 0/3546 [00:00<?, ?it/s]"
     ]
    },
    {
     "name": "stdout",
     "output_type": "stream",
     "text": [
      "Starting to analyze %  /media/data_cifs/MGH/videos/BW46/Xxxxxxx~ Xxxxx_e3d4db02-a6ec-43b8-8d71-2dba03ad2185_0265.mp4\n",
      "Loading  /media/data_cifs/MGH/videos/BW46/Xxxxxxx~ Xxxxx_e3d4db02-a6ec-43b8-8d71-2dba03ad2185_0265.mp4\n",
      "Duration of video [s]:  118.2 , recorded with  30.0 fps!\n",
      "Overall # of frames:  3546  found with (before cropping) frame dimensions:  640 480\n",
      "Starting to extract posture\n"
     ]
    },
    {
     "name": "stderr",
     "output_type": "stream",
     "text": [
      "3570it [00:40, 85.65it/s]                           "
     ]
    },
    {
     "name": "stdout",
     "output_type": "stream",
     "text": [
      "Detected frames:  3546\n"
     ]
    },
    {
     "name": "stderr",
     "output_type": "stream",
     "text": [
      "\n"
     ]
    },
    {
     "name": "stdout",
     "output_type": "stream",
     "text": [
      "Saving results in /media/data_cifs/MGH/videos/BW46...\n",
      "Saving csv poses!\n"
     ]
    },
    {
     "name": "stderr",
     "output_type": "stream",
     "text": [
      "\r",
      "  0%|          | 0/3567 [00:00<?, ?it/s]"
     ]
    },
    {
     "name": "stdout",
     "output_type": "stream",
     "text": [
      "Starting to analyze %  /media/data_cifs/MGH/videos/BW46/Xxxxxxx~ Xxxxx_e3d4db02-a6ec-43b8-8d71-2dba03ad2185_0176.mp4\n",
      "Loading  /media/data_cifs/MGH/videos/BW46/Xxxxxxx~ Xxxxx_e3d4db02-a6ec-43b8-8d71-2dba03ad2185_0176.mp4\n",
      "Duration of video [s]:  118.9 , recorded with  30.0 fps!\n",
      "Overall # of frames:  3567  found with (before cropping) frame dimensions:  640 480\n",
      "Starting to extract posture\n"
     ]
    },
    {
     "name": "stderr",
     "output_type": "stream",
     "text": [
      "3570it [00:39, 89.33it/s]                           "
     ]
    },
    {
     "name": "stdout",
     "output_type": "stream",
     "text": [
      "Detected frames:  3567\n"
     ]
    },
    {
     "name": "stderr",
     "output_type": "stream",
     "text": [
      "\n"
     ]
    },
    {
     "name": "stdout",
     "output_type": "stream",
     "text": [
      "Saving results in /media/data_cifs/MGH/videos/BW46...\n",
      "Saving csv poses!\n"
     ]
    },
    {
     "name": "stderr",
     "output_type": "stream",
     "text": [
      "\r",
      "  0%|          | 0/3570 [00:00<?, ?it/s]"
     ]
    },
    {
     "name": "stdout",
     "output_type": "stream",
     "text": [
      "Starting to analyze %  /media/data_cifs/MGH/videos/BW46/Xxxxxxx~ Xxxxx_4c6cb293-aaae-4e47-bb1a-34b771393a41_0205.mp4\n",
      "Loading  /media/data_cifs/MGH/videos/BW46/Xxxxxxx~ Xxxxx_4c6cb293-aaae-4e47-bb1a-34b771393a41_0205.mp4\n",
      "Duration of video [s]:  119.0 , recorded with  30.0 fps!\n",
      "Overall # of frames:  3570  found with (before cropping) frame dimensions:  640 480\n",
      "Starting to extract posture\n"
     ]
    },
    {
     "name": "stderr",
     "output_type": "stream",
     "text": [
      "3605it [00:39, 83.67it/s]                           \n"
     ]
    },
    {
     "name": "stdout",
     "output_type": "stream",
     "text": [
      "Detected frames:  3570\n",
      "Saving results in /media/data_cifs/MGH/videos/BW46...\n",
      "Saving csv poses!\n"
     ]
    },
    {
     "name": "stderr",
     "output_type": "stream",
     "text": [
      "\r",
      "  0%|          | 0/3578 [00:00<?, ?it/s]"
     ]
    },
    {
     "name": "stdout",
     "output_type": "stream",
     "text": [
      "Starting to analyze %  /media/data_cifs/MGH/videos/BW46/Xxxxxxx~ Xxxxx_e3d4db02-a6ec-43b8-8d71-2dba03ad2185_0269.mp4\n",
      "Loading  /media/data_cifs/MGH/videos/BW46/Xxxxxxx~ Xxxxx_e3d4db02-a6ec-43b8-8d71-2dba03ad2185_0269.mp4\n",
      "Duration of video [s]:  119.27 , recorded with  30.0 fps!\n",
      "Overall # of frames:  3578  found with (before cropping) frame dimensions:  640 480\n",
      "Starting to extract posture\n"
     ]
    },
    {
     "name": "stderr",
     "output_type": "stream",
     "text": [
      "3605it [00:41, 81.20it/s]                           \n"
     ]
    },
    {
     "name": "stdout",
     "output_type": "stream",
     "text": [
      "Detected frames:  3578\n",
      "Saving results in /media/data_cifs/MGH/videos/BW46...\n",
      "Saving csv poses!\n"
     ]
    },
    {
     "name": "stderr",
     "output_type": "stream",
     "text": [
      "\r",
      "  0%|          | 0/3653 [00:00<?, ?it/s]"
     ]
    },
    {
     "name": "stdout",
     "output_type": "stream",
     "text": [
      "Starting to analyze %  /media/data_cifs/MGH/videos/BW46/Xxxxxxx~ Xxxxx_e3d4db02-a6ec-43b8-8d71-2dba03ad2185_0266.mp4\n",
      "Loading  /media/data_cifs/MGH/videos/BW46/Xxxxxxx~ Xxxxx_e3d4db02-a6ec-43b8-8d71-2dba03ad2185_0266.mp4\n",
      "Duration of video [s]:  121.77 , recorded with  30.0 fps!\n",
      "Overall # of frames:  3653  found with (before cropping) frame dimensions:  640 480\n",
      "Starting to extract posture\n"
     ]
    },
    {
     "name": "stderr",
     "output_type": "stream",
     "text": [
      "3672it [00:42, 86.33it/s]                          "
     ]
    },
    {
     "name": "stdout",
     "output_type": "stream",
     "text": [
      "Detected frames:  3653\n"
     ]
    },
    {
     "name": "stderr",
     "output_type": "stream",
     "text": [
      "\n"
     ]
    },
    {
     "name": "stdout",
     "output_type": "stream",
     "text": [
      "Saving results in /media/data_cifs/MGH/videos/BW46...\n",
      "Saving csv poses!\n"
     ]
    },
    {
     "name": "stderr",
     "output_type": "stream",
     "text": [
      "\r",
      "  0%|          | 0/3572 [00:00<?, ?it/s]"
     ]
    },
    {
     "name": "stdout",
     "output_type": "stream",
     "text": [
      "Starting to analyze %  /media/data_cifs/MGH/videos/BW46/Xxxxxxx~ Xxxxx_e3d4db02-a6ec-43b8-8d71-2dba03ad2185_0297.mp4\n",
      "Loading  /media/data_cifs/MGH/videos/BW46/Xxxxxxx~ Xxxxx_e3d4db02-a6ec-43b8-8d71-2dba03ad2185_0297.mp4\n",
      "Duration of video [s]:  119.07 , recorded with  30.0 fps!\n",
      "Overall # of frames:  3572  found with (before cropping) frame dimensions:  640 480\n",
      "Starting to extract posture\n"
     ]
    },
    {
     "name": "stderr",
     "output_type": "stream",
     "text": [
      "3605it [00:40, 83.42it/s]                           \n"
     ]
    },
    {
     "name": "stdout",
     "output_type": "stream",
     "text": [
      "Detected frames:  3572\n",
      "Saving results in /media/data_cifs/MGH/videos/BW46...\n",
      "Saving csv poses!\n"
     ]
    },
    {
     "name": "stderr",
     "output_type": "stream",
     "text": [
      "\r",
      "  0%|          | 0/3655 [00:00<?, ?it/s]"
     ]
    },
    {
     "name": "stdout",
     "output_type": "stream",
     "text": [
      "Starting to analyze %  /media/data_cifs/MGH/videos/BW46/Xxxxxxx~ Xxxxx_4c6cb293-aaae-4e47-bb1a-34b771393a41_0196.mp4\n",
      "Loading  /media/data_cifs/MGH/videos/BW46/Xxxxxxx~ Xxxxx_4c6cb293-aaae-4e47-bb1a-34b771393a41_0196.mp4\n",
      "Duration of video [s]:  121.83 , recorded with  30.0 fps!\n",
      "Overall # of frames:  3655  found with (before cropping) frame dimensions:  640 480\n",
      "Starting to extract posture\n"
     ]
    },
    {
     "name": "stderr",
     "output_type": "stream",
     "text": [
      "3672it [00:39, 87.29it/s]                           "
     ]
    },
    {
     "name": "stdout",
     "output_type": "stream",
     "text": [
      "Detected frames:  3655\n"
     ]
    },
    {
     "name": "stderr",
     "output_type": "stream",
     "text": [
      "\n"
     ]
    },
    {
     "name": "stdout",
     "output_type": "stream",
     "text": [
      "Saving results in /media/data_cifs/MGH/videos/BW46...\n",
      "Saving csv poses!\n"
     ]
    },
    {
     "name": "stderr",
     "output_type": "stream",
     "text": [
      "\r",
      "  0%|          | 0/3594 [00:00<?, ?it/s]"
     ]
    },
    {
     "name": "stdout",
     "output_type": "stream",
     "text": [
      "Starting to analyze %  /media/data_cifs/MGH/videos/BW46/Xxxxxxx~ Xxxxx_4c6cb293-aaae-4e47-bb1a-34b771393a41_0248.mp4\n",
      "Loading  /media/data_cifs/MGH/videos/BW46/Xxxxxxx~ Xxxxx_4c6cb293-aaae-4e47-bb1a-34b771393a41_0248.mp4\n",
      "Duration of video [s]:  119.8 , recorded with  30.0 fps!\n",
      "Overall # of frames:  3594  found with (before cropping) frame dimensions:  640 480\n",
      "Starting to extract posture\n"
     ]
    },
    {
     "name": "stderr",
     "output_type": "stream",
     "text": [
      "3605it [00:38, 85.42it/s]                           "
     ]
    },
    {
     "name": "stdout",
     "output_type": "stream",
     "text": [
      "Detected frames:  3594\n"
     ]
    },
    {
     "name": "stderr",
     "output_type": "stream",
     "text": [
      "\n"
     ]
    },
    {
     "name": "stdout",
     "output_type": "stream",
     "text": [
      "Saving results in /media/data_cifs/MGH/videos/BW46...\n",
      "Saving csv poses!\n"
     ]
    },
    {
     "name": "stderr",
     "output_type": "stream",
     "text": [
      "\r",
      "  0%|          | 0/3582 [00:00<?, ?it/s]"
     ]
    },
    {
     "name": "stdout",
     "output_type": "stream",
     "text": [
      "Starting to analyze %  /media/data_cifs/MGH/videos/BW46/Xxxxxxx~ Xxxxx_4c6cb293-aaae-4e47-bb1a-34b771393a41_0192.mp4\n",
      "Loading  /media/data_cifs/MGH/videos/BW46/Xxxxxxx~ Xxxxx_4c6cb293-aaae-4e47-bb1a-34b771393a41_0192.mp4\n",
      "Duration of video [s]:  119.4 , recorded with  30.0 fps!\n",
      "Overall # of frames:  3582  found with (before cropping) frame dimensions:  640 480\n",
      "Starting to extract posture\n"
     ]
    },
    {
     "name": "stderr",
     "output_type": "stream",
     "text": [
      "3605it [00:40, 83.96it/s]                           \n"
     ]
    },
    {
     "name": "stdout",
     "output_type": "stream",
     "text": [
      "Detected frames:  3582\n",
      "Saving results in /media/data_cifs/MGH/videos/BW46...\n",
      "Saving csv poses!\n"
     ]
    },
    {
     "name": "stderr",
     "output_type": "stream",
     "text": [
      "\r",
      "  0%|          | 0/3608 [00:00<?, ?it/s]"
     ]
    },
    {
     "name": "stdout",
     "output_type": "stream",
     "text": [
      "Starting to analyze %  /media/data_cifs/MGH/videos/BW46/Xxxxxxx~ Xxxxx_e3d4db02-a6ec-43b8-8d71-2dba03ad2185_0169.mp4\n",
      "Loading  /media/data_cifs/MGH/videos/BW46/Xxxxxxx~ Xxxxx_e3d4db02-a6ec-43b8-8d71-2dba03ad2185_0169.mp4\n",
      "Duration of video [s]:  120.27 , recorded with  30.0 fps!\n",
      "Overall # of frames:  3608  found with (before cropping) frame dimensions:  640 480\n",
      "Starting to extract posture\n"
     ]
    },
    {
     "name": "stderr",
     "output_type": "stream",
     "text": [
      "3636it [00:39, 84.58it/s]                           \n"
     ]
    },
    {
     "name": "stdout",
     "output_type": "stream",
     "text": [
      "Detected frames:  3608\n",
      "Saving results in /media/data_cifs/MGH/videos/BW46...\n",
      "Saving csv poses!\n"
     ]
    },
    {
     "name": "stderr",
     "output_type": "stream",
     "text": [
      "\r",
      "  0%|          | 0/3645 [00:00<?, ?it/s]"
     ]
    },
    {
     "name": "stdout",
     "output_type": "stream",
     "text": [
      "Starting to analyze %  /media/data_cifs/MGH/videos/BW46/Xxxxxxx~ Xxxxx_e3d4db02-a6ec-43b8-8d71-2dba03ad2185_0244.mp4\n",
      "Loading  /media/data_cifs/MGH/videos/BW46/Xxxxxxx~ Xxxxx_e3d4db02-a6ec-43b8-8d71-2dba03ad2185_0244.mp4\n",
      "Duration of video [s]:  121.5 , recorded with  30.0 fps!\n",
      "Overall # of frames:  3645  found with (before cropping) frame dimensions:  640 480\n",
      "Starting to extract posture\n"
     ]
    },
    {
     "name": "stderr",
     "output_type": "stream",
     "text": [
      "3672it [00:40, 86.88it/s]                           \n"
     ]
    },
    {
     "name": "stdout",
     "output_type": "stream",
     "text": [
      "Detected frames:  3645\n",
      "Saving results in /media/data_cifs/MGH/videos/BW46...\n",
      "Saving csv poses!\n"
     ]
    },
    {
     "name": "stderr",
     "output_type": "stream",
     "text": [
      "\r",
      "  0%|          | 0/3585 [00:00<?, ?it/s]"
     ]
    },
    {
     "name": "stdout",
     "output_type": "stream",
     "text": [
      "Starting to analyze %  /media/data_cifs/MGH/videos/BW46/Xxxxxxx~ Xxxxx_e3d4db02-a6ec-43b8-8d71-2dba03ad2185_0209.mp4\n",
      "Loading  /media/data_cifs/MGH/videos/BW46/Xxxxxxx~ Xxxxx_e3d4db02-a6ec-43b8-8d71-2dba03ad2185_0209.mp4\n",
      "Duration of video [s]:  119.5 , recorded with  30.0 fps!\n",
      "Overall # of frames:  3585  found with (before cropping) frame dimensions:  640 480\n",
      "Starting to extract posture\n"
     ]
    },
    {
     "name": "stderr",
     "output_type": "stream",
     "text": [
      "3605it [00:38, 85.31it/s]                           "
     ]
    },
    {
     "name": "stdout",
     "output_type": "stream",
     "text": [
      "Detected frames:  3585\n"
     ]
    },
    {
     "name": "stderr",
     "output_type": "stream",
     "text": [
      "\n"
     ]
    },
    {
     "name": "stdout",
     "output_type": "stream",
     "text": [
      "Saving results in /media/data_cifs/MGH/videos/BW46...\n",
      "Saving csv poses!\n"
     ]
    },
    {
     "name": "stderr",
     "output_type": "stream",
     "text": [
      "\r",
      "  0%|          | 0/3500 [00:00<?, ?it/s]"
     ]
    },
    {
     "name": "stdout",
     "output_type": "stream",
     "text": [
      "Starting to analyze %  /media/data_cifs/MGH/videos/BW46/Xxxxxxx~ Xxxxx_4c6cb293-aaae-4e47-bb1a-34b771393a41_0250.mp4\n",
      "Loading  /media/data_cifs/MGH/videos/BW46/Xxxxxxx~ Xxxxx_4c6cb293-aaae-4e47-bb1a-34b771393a41_0250.mp4\n",
      "Duration of video [s]:  116.67 , recorded with  30.0 fps!\n",
      "Overall # of frames:  3500  found with (before cropping) frame dimensions:  640 480\n",
      "Starting to extract posture\n"
     ]
    },
    {
     "name": "stderr",
     "output_type": "stream",
     "text": [
      "3535it [00:38, 89.21it/s]                           \n"
     ]
    },
    {
     "name": "stdout",
     "output_type": "stream",
     "text": [
      "Detected frames:  3500\n",
      "Saving results in /media/data_cifs/MGH/videos/BW46...\n",
      "Saving csv poses!\n"
     ]
    },
    {
     "name": "stderr",
     "output_type": "stream",
     "text": [
      "\r",
      "  0%|          | 0/3601 [00:00<?, ?it/s]"
     ]
    },
    {
     "name": "stdout",
     "output_type": "stream",
     "text": [
      "Starting to analyze %  /media/data_cifs/MGH/videos/BW46/Xxxxxxx~ Xxxxx_e3d4db02-a6ec-43b8-8d71-2dba03ad2185_0253.mp4\n",
      "Loading  /media/data_cifs/MGH/videos/BW46/Xxxxxxx~ Xxxxx_e3d4db02-a6ec-43b8-8d71-2dba03ad2185_0253.mp4\n",
      "Duration of video [s]:  120.03 , recorded with  30.0 fps!\n",
      "Overall # of frames:  3601  found with (before cropping) frame dimensions:  640 480\n",
      "Starting to extract posture\n"
     ]
    },
    {
     "name": "stderr",
     "output_type": "stream",
     "text": [
      "3636it [00:39, 82.42it/s]                           \n"
     ]
    },
    {
     "name": "stdout",
     "output_type": "stream",
     "text": [
      "Detected frames:  3601\n",
      "Saving results in /media/data_cifs/MGH/videos/BW46...\n",
      "Saving csv poses!\n"
     ]
    },
    {
     "name": "stderr",
     "output_type": "stream",
     "text": [
      "\r",
      "  0%|          | 0/3596 [00:00<?, ?it/s]"
     ]
    },
    {
     "name": "stdout",
     "output_type": "stream",
     "text": [
      "Starting to analyze %  /media/data_cifs/MGH/videos/BW46/Xxxxxxx~ Xxxxx_e3d4db02-a6ec-43b8-8d71-2dba03ad2185_0186.mp4\n",
      "Loading  /media/data_cifs/MGH/videos/BW46/Xxxxxxx~ Xxxxx_e3d4db02-a6ec-43b8-8d71-2dba03ad2185_0186.mp4\n",
      "Duration of video [s]:  119.87 , recorded with  30.0 fps!\n",
      "Overall # of frames:  3596  found with (before cropping) frame dimensions:  640 480\n",
      "Starting to extract posture\n"
     ]
    },
    {
     "name": "stderr",
     "output_type": "stream",
     "text": [
      "3605it [00:39, 84.58it/s]                           "
     ]
    },
    {
     "name": "stdout",
     "output_type": "stream",
     "text": [
      "Detected frames:  3596\n"
     ]
    },
    {
     "name": "stderr",
     "output_type": "stream",
     "text": [
      "\n"
     ]
    },
    {
     "name": "stdout",
     "output_type": "stream",
     "text": [
      "Saving results in /media/data_cifs/MGH/videos/BW46...\n",
      "Saving csv poses!\n"
     ]
    },
    {
     "name": "stderr",
     "output_type": "stream",
     "text": [
      "\r",
      "  0%|          | 0/3532 [00:00<?, ?it/s]"
     ]
    },
    {
     "name": "stdout",
     "output_type": "stream",
     "text": [
      "Starting to analyze %  /media/data_cifs/MGH/videos/BW46/Xxxxxxx~ Xxxxx_e3d4db02-a6ec-43b8-8d71-2dba03ad2185_0237.mp4\n",
      "Loading  /media/data_cifs/MGH/videos/BW46/Xxxxxxx~ Xxxxx_e3d4db02-a6ec-43b8-8d71-2dba03ad2185_0237.mp4\n",
      "Duration of video [s]:  117.73 , recorded with  30.0 fps!\n",
      "Overall # of frames:  3532  found with (before cropping) frame dimensions:  640 480\n",
      "Starting to extract posture\n"
     ]
    },
    {
     "name": "stderr",
     "output_type": "stream",
     "text": [
      "3535it [00:38, 87.87it/s]                           "
     ]
    },
    {
     "name": "stdout",
     "output_type": "stream",
     "text": [
      "Detected frames:  3532\n"
     ]
    },
    {
     "name": "stderr",
     "output_type": "stream",
     "text": [
      "\n"
     ]
    },
    {
     "name": "stdout",
     "output_type": "stream",
     "text": [
      "Saving results in /media/data_cifs/MGH/videos/BW46...\n",
      "Saving csv poses!\n"
     ]
    },
    {
     "name": "stderr",
     "output_type": "stream",
     "text": [
      "\r",
      "  0%|          | 0/3613 [00:00<?, ?it/s]"
     ]
    },
    {
     "name": "stdout",
     "output_type": "stream",
     "text": [
      "Starting to analyze %  /media/data_cifs/MGH/videos/BW46/Xxxxxxx~ Xxxxx_e3d4db02-a6ec-43b8-8d71-2dba03ad2185_0246.mp4\n",
      "Loading  /media/data_cifs/MGH/videos/BW46/Xxxxxxx~ Xxxxx_e3d4db02-a6ec-43b8-8d71-2dba03ad2185_0246.mp4\n",
      "Duration of video [s]:  120.43 , recorded with  30.0 fps!\n",
      "Overall # of frames:  3613  found with (before cropping) frame dimensions:  640 480\n",
      "Starting to extract posture\n"
     ]
    },
    {
     "name": "stderr",
     "output_type": "stream",
     "text": [
      "3636it [00:39, 83.91it/s]                           \n"
     ]
    },
    {
     "name": "stdout",
     "output_type": "stream",
     "text": [
      "Detected frames:  3613\n",
      "Saving results in /media/data_cifs/MGH/videos/BW46...\n",
      "Saving csv poses!\n"
     ]
    },
    {
     "name": "stderr",
     "output_type": "stream",
     "text": [
      "\r",
      "  0%|          | 0/3591 [00:00<?, ?it/s]"
     ]
    },
    {
     "name": "stdout",
     "output_type": "stream",
     "text": [
      "Starting to analyze %  /media/data_cifs/MGH/videos/BW46/Xxxxxxx~ Xxxxx_e3d4db02-a6ec-43b8-8d71-2dba03ad2185_0185.mp4\n",
      "Loading  /media/data_cifs/MGH/videos/BW46/Xxxxxxx~ Xxxxx_e3d4db02-a6ec-43b8-8d71-2dba03ad2185_0185.mp4\n",
      "Duration of video [s]:  119.7 , recorded with  30.0 fps!\n",
      "Overall # of frames:  3591  found with (before cropping) frame dimensions:  640 480\n",
      "Starting to extract posture\n"
     ]
    },
    {
     "name": "stderr",
     "output_type": "stream",
     "text": [
      "3605it [00:39, 84.58it/s]                           "
     ]
    },
    {
     "name": "stdout",
     "output_type": "stream",
     "text": [
      "Detected frames:  3591\n"
     ]
    },
    {
     "name": "stderr",
     "output_type": "stream",
     "text": [
      "\n"
     ]
    },
    {
     "name": "stdout",
     "output_type": "stream",
     "text": [
      "Saving results in /media/data_cifs/MGH/videos/BW46...\n",
      "Saving csv poses!\n"
     ]
    },
    {
     "name": "stderr",
     "output_type": "stream",
     "text": [
      "\r",
      "  0%|          | 0/4259 [00:00<?, ?it/s]"
     ]
    },
    {
     "name": "stdout",
     "output_type": "stream",
     "text": [
      "Starting to analyze %  /media/data_cifs/MGH/videos/BW46/Xxxxxxx~ Xxxxx_e3d4db02-a6ec-43b8-8d71-2dba03ad2185_0199.mp4\n",
      "Loading  /media/data_cifs/MGH/videos/BW46/Xxxxxxx~ Xxxxx_e3d4db02-a6ec-43b8-8d71-2dba03ad2185_0199.mp4\n",
      "Duration of video [s]:  141.97 , recorded with  30.0 fps!\n",
      "Overall # of frames:  4259  found with (before cropping) frame dimensions:  640 480\n",
      "Starting to extract posture\n"
     ]
    },
    {
     "name": "stderr",
     "output_type": "stream",
     "text": [
      "4284it [00:48, 84.42it/s]                           "
     ]
    },
    {
     "name": "stdout",
     "output_type": "stream",
     "text": [
      "Detected frames:  4259\n"
     ]
    },
    {
     "name": "stderr",
     "output_type": "stream",
     "text": [
      "\n"
     ]
    },
    {
     "name": "stdout",
     "output_type": "stream",
     "text": [
      "Saving results in /media/data_cifs/MGH/videos/BW46...\n",
      "Saving csv poses!\n"
     ]
    },
    {
     "name": "stderr",
     "output_type": "stream",
     "text": [
      "\r",
      "  0%|          | 0/3617 [00:00<?, ?it/s]"
     ]
    },
    {
     "name": "stdout",
     "output_type": "stream",
     "text": [
      "Starting to analyze %  /media/data_cifs/MGH/videos/BW46/Xxxxxxx~ Xxxxx_e3d4db02-a6ec-43b8-8d71-2dba03ad2185_0227.mp4\n",
      "Loading  /media/data_cifs/MGH/videos/BW46/Xxxxxxx~ Xxxxx_e3d4db02-a6ec-43b8-8d71-2dba03ad2185_0227.mp4\n",
      "Duration of video [s]:  120.57 , recorded with  30.0 fps!\n",
      "Overall # of frames:  3617  found with (before cropping) frame dimensions:  640 480\n",
      "Starting to extract posture\n"
     ]
    },
    {
     "name": "stderr",
     "output_type": "stream",
     "text": [
      "3636it [00:39, 83.32it/s]                           "
     ]
    },
    {
     "name": "stdout",
     "output_type": "stream",
     "text": [
      "Detected frames:  3617\n"
     ]
    },
    {
     "name": "stderr",
     "output_type": "stream",
     "text": [
      "\n"
     ]
    },
    {
     "name": "stdout",
     "output_type": "stream",
     "text": [
      "Saving results in /media/data_cifs/MGH/videos/BW46...\n",
      "Saving csv poses!\n"
     ]
    },
    {
     "name": "stderr",
     "output_type": "stream",
     "text": [
      "\r",
      "  0%|          | 0/3621 [00:00<?, ?it/s]"
     ]
    },
    {
     "name": "stdout",
     "output_type": "stream",
     "text": [
      "Starting to analyze %  /media/data_cifs/MGH/videos/BW46/Xxxxxxx~ Xxxxx_e3d4db02-a6ec-43b8-8d71-2dba03ad2185_0163.mp4\n",
      "Loading  /media/data_cifs/MGH/videos/BW46/Xxxxxxx~ Xxxxx_e3d4db02-a6ec-43b8-8d71-2dba03ad2185_0163.mp4\n",
      "Duration of video [s]:  120.7 , recorded with  30.0 fps!\n",
      "Overall # of frames:  3621  found with (before cropping) frame dimensions:  640 480\n",
      "Starting to extract posture\n"
     ]
    },
    {
     "name": "stderr",
     "output_type": "stream",
     "text": [
      "3636it [00:39, 78.54it/s]                           "
     ]
    },
    {
     "name": "stdout",
     "output_type": "stream",
     "text": [
      "Detected frames:  3621\n"
     ]
    },
    {
     "name": "stderr",
     "output_type": "stream",
     "text": [
      "\n"
     ]
    },
    {
     "name": "stdout",
     "output_type": "stream",
     "text": [
      "Saving results in /media/data_cifs/MGH/videos/BW46...\n",
      "Saving csv poses!\n"
     ]
    },
    {
     "name": "stderr",
     "output_type": "stream",
     "text": [
      "\r",
      "  0%|          | 0/3608 [00:00<?, ?it/s]"
     ]
    },
    {
     "name": "stdout",
     "output_type": "stream",
     "text": [
      "Starting to analyze %  /media/data_cifs/MGH/videos/BW46/Xxxxxxx~ Xxxxx_e3d4db02-a6ec-43b8-8d71-2dba03ad2185_0177.mp4\n",
      "Loading  /media/data_cifs/MGH/videos/BW46/Xxxxxxx~ Xxxxx_e3d4db02-a6ec-43b8-8d71-2dba03ad2185_0177.mp4\n",
      "Duration of video [s]:  120.27 , recorded with  30.0 fps!\n",
      "Overall # of frames:  3608  found with (before cropping) frame dimensions:  640 480\n",
      "Starting to extract posture\n"
     ]
    },
    {
     "name": "stderr",
     "output_type": "stream",
     "text": [
      "3636it [00:39, 83.41it/s]                           \n"
     ]
    },
    {
     "name": "stdout",
     "output_type": "stream",
     "text": [
      "Detected frames:  3608\n",
      "Saving results in /media/data_cifs/MGH/videos/BW46...\n",
      "Saving csv poses!\n"
     ]
    },
    {
     "name": "stderr",
     "output_type": "stream",
     "text": [
      "\r",
      "  0%|          | 0/3607 [00:00<?, ?it/s]"
     ]
    },
    {
     "name": "stdout",
     "output_type": "stream",
     "text": [
      "Starting to analyze %  /media/data_cifs/MGH/videos/BW46/Xxxxxxx~ Xxxxx_e3d4db02-a6ec-43b8-8d71-2dba03ad2185_0291.mp4\n",
      "Loading  /media/data_cifs/MGH/videos/BW46/Xxxxxxx~ Xxxxx_e3d4db02-a6ec-43b8-8d71-2dba03ad2185_0291.mp4\n",
      "Duration of video [s]:  120.23 , recorded with  30.0 fps!\n",
      "Overall # of frames:  3607  found with (before cropping) frame dimensions:  640 480\n",
      "Starting to extract posture\n"
     ]
    },
    {
     "name": "stderr",
     "output_type": "stream",
     "text": [
      "3636it [00:39, 83.78it/s]                           \n"
     ]
    },
    {
     "name": "stdout",
     "output_type": "stream",
     "text": [
      "Detected frames:  3607\n",
      "Saving results in /media/data_cifs/MGH/videos/BW46...\n",
      "Saving csv poses!\n"
     ]
    },
    {
     "name": "stderr",
     "output_type": "stream",
     "text": [
      "\r",
      "  0%|          | 0/3522 [00:00<?, ?it/s]"
     ]
    },
    {
     "name": "stdout",
     "output_type": "stream",
     "text": [
      "Starting to analyze %  /media/data_cifs/MGH/videos/BW46/Xxxxxxx~ Xxxxx_4c6cb293-aaae-4e47-bb1a-34b771393a41_0210.mp4\n",
      "Loading  /media/data_cifs/MGH/videos/BW46/Xxxxxxx~ Xxxxx_4c6cb293-aaae-4e47-bb1a-34b771393a41_0210.mp4\n",
      "Duration of video [s]:  117.4 , recorded with  30.0 fps!\n",
      "Overall # of frames:  3522  found with (before cropping) frame dimensions:  640 480\n",
      "Starting to extract posture\n"
     ]
    },
    {
     "name": "stderr",
     "output_type": "stream",
     "text": [
      "3535it [00:39, 76.94it/s]                           "
     ]
    },
    {
     "name": "stdout",
     "output_type": "stream",
     "text": [
      "Detected frames:  3522\n"
     ]
    },
    {
     "name": "stderr",
     "output_type": "stream",
     "text": [
      "\n"
     ]
    },
    {
     "name": "stdout",
     "output_type": "stream",
     "text": [
      "Saving results in /media/data_cifs/MGH/videos/BW46...\n",
      "Saving csv poses!\n"
     ]
    },
    {
     "name": "stderr",
     "output_type": "stream",
     "text": [
      "\r",
      "  0%|          | 0/3603 [00:00<?, ?it/s]"
     ]
    },
    {
     "name": "stdout",
     "output_type": "stream",
     "text": [
      "Starting to analyze %  /media/data_cifs/MGH/videos/BW46/Xxxxxxx~ Xxxxx_e3d4db02-a6ec-43b8-8d71-2dba03ad2185_0173.mp4\n",
      "Loading  /media/data_cifs/MGH/videos/BW46/Xxxxxxx~ Xxxxx_e3d4db02-a6ec-43b8-8d71-2dba03ad2185_0173.mp4\n",
      "Duration of video [s]:  120.1 , recorded with  30.0 fps!\n",
      "Overall # of frames:  3603  found with (before cropping) frame dimensions:  640 480\n",
      "Starting to extract posture\n"
     ]
    },
    {
     "name": "stderr",
     "output_type": "stream",
     "text": [
      "3636it [00:40, 84.06it/s]                           \n"
     ]
    },
    {
     "name": "stdout",
     "output_type": "stream",
     "text": [
      "Detected frames:  3603\n",
      "Saving results in /media/data_cifs/MGH/videos/BW46...\n",
      "Saving csv poses!\n"
     ]
    },
    {
     "name": "stderr",
     "output_type": "stream",
     "text": [
      "\r",
      "  0%|          | 0/3625 [00:00<?, ?it/s]"
     ]
    },
    {
     "name": "stdout",
     "output_type": "stream",
     "text": [
      "Starting to analyze %  /media/data_cifs/MGH/videos/BW46/Xxxxxxx~ Xxxxx_4c6cb293-aaae-4e47-bb1a-34b771393a41_0212.mp4\n",
      "Loading  /media/data_cifs/MGH/videos/BW46/Xxxxxxx~ Xxxxx_4c6cb293-aaae-4e47-bb1a-34b771393a41_0212.mp4\n",
      "Duration of video [s]:  120.83 , recorded with  30.0 fps!\n",
      "Overall # of frames:  3625  found with (before cropping) frame dimensions:  640 480\n",
      "Starting to extract posture\n"
     ]
    },
    {
     "name": "stderr",
     "output_type": "stream",
     "text": [
      "3636it [00:40, 84.57it/s]                           "
     ]
    },
    {
     "name": "stdout",
     "output_type": "stream",
     "text": [
      "Detected frames:  3625\n"
     ]
    },
    {
     "name": "stderr",
     "output_type": "stream",
     "text": [
      "\n"
     ]
    },
    {
     "name": "stdout",
     "output_type": "stream",
     "text": [
      "Saving results in /media/data_cifs/MGH/videos/BW46...\n",
      "Saving csv poses!\n"
     ]
    },
    {
     "name": "stderr",
     "output_type": "stream",
     "text": [
      "\r",
      "  0%|          | 0/3612 [00:00<?, ?it/s]"
     ]
    },
    {
     "name": "stdout",
     "output_type": "stream",
     "text": [
      "Starting to analyze %  /media/data_cifs/MGH/videos/BW46/Xxxxxxx~ Xxxxx_e3d4db02-a6ec-43b8-8d71-2dba03ad2185_0170.mp4\n",
      "Loading  /media/data_cifs/MGH/videos/BW46/Xxxxxxx~ Xxxxx_e3d4db02-a6ec-43b8-8d71-2dba03ad2185_0170.mp4\n",
      "Duration of video [s]:  120.4 , recorded with  30.0 fps!\n",
      "Overall # of frames:  3612  found with (before cropping) frame dimensions:  640 480\n",
      "Starting to extract posture\n"
     ]
    },
    {
     "name": "stderr",
     "output_type": "stream",
     "text": [
      "3636it [00:40, 80.26it/s]                           \n"
     ]
    },
    {
     "name": "stdout",
     "output_type": "stream",
     "text": [
      "Detected frames:  3612\n",
      "Saving results in /media/data_cifs/MGH/videos/BW46...\n",
      "Saving csv poses!\n"
     ]
    },
    {
     "name": "stderr",
     "output_type": "stream",
     "text": [
      "\r",
      "  0%|          | 0/3576 [00:00<?, ?it/s]"
     ]
    },
    {
     "name": "stdout",
     "output_type": "stream",
     "text": [
      "Starting to analyze %  /media/data_cifs/MGH/videos/BW46/Xxxxxxx~ Xxxxx_e3d4db02-a6ec-43b8-8d71-2dba03ad2185_0280.mp4\n",
      "Loading  /media/data_cifs/MGH/videos/BW46/Xxxxxxx~ Xxxxx_e3d4db02-a6ec-43b8-8d71-2dba03ad2185_0280.mp4\n",
      "Duration of video [s]:  119.2 , recorded with  30.0 fps!\n",
      "Overall # of frames:  3576  found with (before cropping) frame dimensions:  640 480\n",
      "Starting to extract posture\n"
     ]
    },
    {
     "name": "stderr",
     "output_type": "stream",
     "text": [
      "3605it [00:39, 84.96it/s]                           \n"
     ]
    },
    {
     "name": "stdout",
     "output_type": "stream",
     "text": [
      "Detected frames:  3576\n",
      "Saving results in /media/data_cifs/MGH/videos/BW46...\n",
      "Saving csv poses!\n"
     ]
    },
    {
     "name": "stderr",
     "output_type": "stream",
     "text": [
      "\r",
      "  0%|          | 0/3618 [00:00<?, ?it/s]"
     ]
    },
    {
     "name": "stdout",
     "output_type": "stream",
     "text": [
      "Starting to analyze %  /media/data_cifs/MGH/videos/BW46/Xxxxxxx~ Xxxxx_e3d4db02-a6ec-43b8-8d71-2dba03ad2185_0157.mp4\n",
      "Loading  /media/data_cifs/MGH/videos/BW46/Xxxxxxx~ Xxxxx_e3d4db02-a6ec-43b8-8d71-2dba03ad2185_0157.mp4\n",
      "Duration of video [s]:  120.6 , recorded with  30.0 fps!\n",
      "Overall # of frames:  3618  found with (before cropping) frame dimensions:  640 480\n",
      "Starting to extract posture\n"
     ]
    },
    {
     "name": "stderr",
     "output_type": "stream",
     "text": [
      "3636it [00:39, 83.84it/s]                           "
     ]
    },
    {
     "name": "stdout",
     "output_type": "stream",
     "text": [
      "Detected frames:  3618\n"
     ]
    },
    {
     "name": "stderr",
     "output_type": "stream",
     "text": [
      "\n"
     ]
    },
    {
     "name": "stdout",
     "output_type": "stream",
     "text": [
      "Saving results in /media/data_cifs/MGH/videos/BW46...\n",
      "Saving csv poses!\n"
     ]
    },
    {
     "name": "stderr",
     "output_type": "stream",
     "text": [
      "\r",
      "  0%|          | 0/3599 [00:00<?, ?it/s]"
     ]
    },
    {
     "name": "stdout",
     "output_type": "stream",
     "text": [
      "Starting to analyze %  /media/data_cifs/MGH/videos/BW46/Xxxxxxx~ Xxxxx_4c6cb293-aaae-4e47-bb1a-34b771393a41_0206.mp4\n",
      "Loading  /media/data_cifs/MGH/videos/BW46/Xxxxxxx~ Xxxxx_4c6cb293-aaae-4e47-bb1a-34b771393a41_0206.mp4\n",
      "Duration of video [s]:  119.97 , recorded with  30.0 fps!\n",
      "Overall # of frames:  3599  found with (before cropping) frame dimensions:  640 480\n",
      "Starting to extract posture\n"
     ]
    },
    {
     "name": "stderr",
     "output_type": "stream",
     "text": [
      "3605it [00:38, 81.10it/s]                           "
     ]
    },
    {
     "name": "stdout",
     "output_type": "stream",
     "text": [
      "Detected frames:  3599\n"
     ]
    },
    {
     "name": "stderr",
     "output_type": "stream",
     "text": [
      "\n"
     ]
    },
    {
     "name": "stdout",
     "output_type": "stream",
     "text": [
      "Saving results in /media/data_cifs/MGH/videos/BW46...\n",
      "Saving csv poses!\n"
     ]
    },
    {
     "name": "stderr",
     "output_type": "stream",
     "text": [
      "\r",
      "  0%|          | 0/3659 [00:00<?, ?it/s]"
     ]
    },
    {
     "name": "stdout",
     "output_type": "stream",
     "text": [
      "Starting to analyze %  /media/data_cifs/MGH/videos/BW46/Xxxxxxx~ Xxxxx_e3d4db02-a6ec-43b8-8d71-2dba03ad2185_0249.mp4\n",
      "Loading  /media/data_cifs/MGH/videos/BW46/Xxxxxxx~ Xxxxx_e3d4db02-a6ec-43b8-8d71-2dba03ad2185_0249.mp4\n",
      "Duration of video [s]:  121.97 , recorded with  30.0 fps!\n",
      "Overall # of frames:  3659  found with (before cropping) frame dimensions:  640 480\n",
      "Starting to extract posture\n"
     ]
    },
    {
     "name": "stderr",
     "output_type": "stream",
     "text": [
      "3672it [00:41, 84.66it/s]                           "
     ]
    },
    {
     "name": "stdout",
     "output_type": "stream",
     "text": [
      "Detected frames:  3659\n"
     ]
    },
    {
     "name": "stderr",
     "output_type": "stream",
     "text": [
      "\n"
     ]
    },
    {
     "name": "stdout",
     "output_type": "stream",
     "text": [
      "Saving results in /media/data_cifs/MGH/videos/BW46...\n",
      "Saving csv poses!\n",
      "Starting to analyze %  /media/data_cifs/MGH/videos/BW46/Xxxxxxx~ Xxxxx_4c6cb293-aaae-4e47-bb1a-34b771393a41_0202.mp4\n",
      "Loading  /media/data_cifs/MGH/videos/BW46/Xxxxxxx~ Xxxxx_4c6cb293-aaae-4e47-bb1a-34b771393a41_0202.mp4\n"
     ]
    },
    {
     "name": "stderr",
     "output_type": "stream",
     "text": [
      "\r",
      "  0%|          | 0/3594 [00:00<?, ?it/s]"
     ]
    },
    {
     "name": "stdout",
     "output_type": "stream",
     "text": [
      "Duration of video [s]:  119.8 , recorded with  30.0 fps!\n",
      "Overall # of frames:  3594  found with (before cropping) frame dimensions:  640 480\n",
      "Starting to extract posture\n"
     ]
    },
    {
     "name": "stderr",
     "output_type": "stream",
     "text": [
      "3605it [00:54, 80.70it/s]                          "
     ]
    },
    {
     "name": "stdout",
     "output_type": "stream",
     "text": [
      "Detected frames:  3594\n"
     ]
    },
    {
     "name": "stderr",
     "output_type": "stream",
     "text": [
      "\n"
     ]
    },
    {
     "name": "stdout",
     "output_type": "stream",
     "text": [
      "Saving results in /media/data_cifs/MGH/videos/BW46...\n",
      "Saving csv poses!\n"
     ]
    },
    {
     "name": "stderr",
     "output_type": "stream",
     "text": [
      "\r",
      "  0%|          | 0/3739 [00:00<?, ?it/s]"
     ]
    },
    {
     "name": "stdout",
     "output_type": "stream",
     "text": [
      "Starting to analyze %  /media/data_cifs/MGH/videos/BW46/Xxxxxxx~ Xxxxx_e3d4db02-a6ec-43b8-8d71-2dba03ad2185_0271.mp4\n",
      "Loading  /media/data_cifs/MGH/videos/BW46/Xxxxxxx~ Xxxxx_e3d4db02-a6ec-43b8-8d71-2dba03ad2185_0271.mp4\n",
      "Duration of video [s]:  124.63 , recorded with  30.0 fps!\n",
      "Overall # of frames:  3739  found with (before cropping) frame dimensions:  640 480\n",
      "Starting to extract posture\n"
     ]
    },
    {
     "name": "stderr",
     "output_type": "stream",
     "text": [
      "3774it [00:42, 82.93it/s]                           \n"
     ]
    },
    {
     "name": "stdout",
     "output_type": "stream",
     "text": [
      "Detected frames:  3739\n",
      "Saving results in /media/data_cifs/MGH/videos/BW46...\n",
      "Saving csv poses!\n"
     ]
    },
    {
     "name": "stderr",
     "output_type": "stream",
     "text": [
      "\r",
      "  0%|          | 0/3560 [00:00<?, ?it/s]"
     ]
    },
    {
     "name": "stdout",
     "output_type": "stream",
     "text": [
      "Starting to analyze %  /media/data_cifs/MGH/videos/BW46/Xxxxxxx~ Xxxxx_e3d4db02-a6ec-43b8-8d71-2dba03ad2185_0160.mp4\n",
      "Loading  /media/data_cifs/MGH/videos/BW46/Xxxxxxx~ Xxxxx_e3d4db02-a6ec-43b8-8d71-2dba03ad2185_0160.mp4\n",
      "Duration of video [s]:  118.67 , recorded with  30.0 fps!\n",
      "Overall # of frames:  3560  found with (before cropping) frame dimensions:  640 480\n",
      "Starting to extract posture\n"
     ]
    },
    {
     "name": "stderr",
     "output_type": "stream",
     "text": [
      "3570it [00:39, 90.06it/s]                           "
     ]
    },
    {
     "name": "stdout",
     "output_type": "stream",
     "text": [
      "Detected frames:  3560\n"
     ]
    },
    {
     "name": "stderr",
     "output_type": "stream",
     "text": [
      "\n"
     ]
    },
    {
     "name": "stdout",
     "output_type": "stream",
     "text": [
      "Saving results in /media/data_cifs/MGH/videos/BW46...\n",
      "Saving csv poses!\n",
      "The videos are analyzed. Now your research can truly start! \n",
      " You can create labeled videos with 'create_labeled_video'.\n",
      "If the tracking is not satisfactory for some videos, consider expanding the training set. You can use the function 'extract_outlier_frames' to extract any outlier frames!\n"
     ]
    },
    {
     "data": {
      "text/plain": [
       "'DeepCut_resnet50_mgh_pose_dlc_BW46_2Aug14shuffle1_800000'"
      ]
     },
     "execution_count": 5,
     "metadata": {},
     "output_type": "execute_result"
    }
   ],
   "source": [
    "config_path = config_path_bw46\n",
    "# Analyze videos (generate predictions) and plot the predictions on the videos (this takes a long time)\n",
    "# Note that, config_path is set in the previous cell already so it will use that subject here\n",
    "vpath = '/media/data_cifs/MGH/videos/'\n",
    "#videos = glob.glob(os.path.join(vpath, 'BW46', '*.avi'))\n",
    "videos = glob.glob(os.path.join(vpath, 'BW46', '*.mp4'))\n",
    "deeplabcut.analyze_videos(config_path, videos, save_as_csv=True)\n",
    "#deeplabcut.create_labeled_video(config_path, videos, save_frames=True)"
   ]
  },
  {
   "cell_type": "code",
   "execution_count": null,
   "metadata": {},
   "outputs": [],
   "source": [
    "config_path = config_path_bw46\n",
    "vpath = '/media/data_cifs/lakshmi/MGH/mgh-pose/test_videos/v3_DLC/BW46'\n",
    "videos = glob.glob(os.path.join(vpath, '*.avi'))\n",
    "deeplabcut.analyze_videos(config_path, videos, save_as_csv=True)\n",
    "#deeplabcut.create_labeled_video(config_path, videos, save_frames=True)\n",
    "\n",
    "config_path = config_path_mg51b\n",
    "vpath = '/media/data_cifs/lakshmi/MGH/mgh-pose/test_videos/v3_DLC/MG51b'\n",
    "videos = glob.glob(os.path.join(vpath, '*.avi'))\n",
    "deeplabcut.analyze_videos(config_path, videos, save_as_csv=True)\n",
    "\n",
    "config_path = config_path_mg117\n",
    "vpath = '/media/data_cifs/lakshmi/MGH/mgh-pose/test_videos/v3_DLC/MG117'\n",
    "videos = glob.glob(os.path.join(vpath, '*.avi'))\n",
    "deeplabcut.analyze_videos(config_path, videos, save_as_csv=True)\n",
    "\n",
    "config_path = config_path_mg118\n",
    "vpath = '/media/data_cifs/lakshmi/MGH/mgh-pose/test_videos/v3_DLC/MG118'\n",
    "videos = glob.glob(os.path.join(vpath, '*.avi'))\n",
    "deeplabcut.analyze_videos(config_path, videos, save_as_csv=True)\n",
    "\n",
    "config_path = config_path_mg120b\n",
    "vpath = '/media/data_cifs/lakshmi/MGH/mgh-pose/test_videos/v3_DLC/MG120b'\n",
    "videos = glob.glob(os.path.join(vpath, '*.avi'))\n",
    "deeplabcut.analyze_videos(config_path, videos, save_as_csv=True)"
   ]
  },
  {
   "cell_type": "code",
   "execution_count": null,
   "metadata": {},
   "outputs": [],
   "source": []
  }
 ],
 "metadata": {
  "kernelspec": {
   "display_name": "Python 3",
   "language": "python",
   "name": "python3"
  },
  "language_info": {
   "codemirror_mode": {
    "name": "ipython",
    "version": 3
   },
   "file_extension": ".py",
   "mimetype": "text/x-python",
   "name": "python",
   "nbconvert_exporter": "python",
   "pygments_lexer": "ipython3",
   "version": "3.6.8"
  }
 },
 "nbformat": 4,
 "nbformat_minor": 2
}
