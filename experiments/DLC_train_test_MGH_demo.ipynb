{
 "cells": [
  {
   "cell_type": "code",
   "execution_count": null,
   "metadata": {},
   "outputs": [],
   "source": [
    "import sys\n",
    "sys.path.append('..')\n",
    "import deeplabcut\n",
    "import tensorflow as tf\n",
    "print(tf.__version__)"
   ]
  },
  {
   "cell_type": "code",
   "execution_count": null,
   "metadata": {},
   "outputs": [],
   "source": [
    "import glob, os\n",
    "# Hard-coded here: Can import from a config file\n",
    "base_path = '/media/data_cifs/MGH/deeplabcut/bootstrap_round2_2019_07_29_videos'\n",
    "videos_bw46 = glob.glob(os.path.join(base_path, 'BW46', '*.avi'))\n",
    "videos_mg51b = glob.glob(os.path.join(base_path, 'MG51b', '*.avi'))\n",
    "videos_mg117 = glob.glob(os.path.join(base_path, 'MG117', '*.avi'))\n",
    "videos_mg118 = glob.glob(os.path.join(base_path, 'MG118', '*.avi'))\n",
    "videos_mg120b = glob.glob(os.path.join(base_path, 'MG120b', '*.avi'))\n",
    "\n",
    "curr_dir = os.getcwd()\n",
    "config_path_bw46 = deeplabcut.create_new_project(\n",
    "    project='mgh_pose_dlc_BW46',\n",
    "    experimenter='Kalpit',\n",
    "    videos=videos_bw46,\n",
    "    working_directory=os.path.join(curr_dir, 'experiments'),\n",
    "    copy_videos=True\n",
    ")\n",
    "config_path_mg51b = deeplabcut.create_new_project(\n",
    "    project='mgh_pose_dlc_MG51b',\n",
    "    experimenter='Kalpit',\n",
    "    videos=videos_mg51b,\n",
    "    working_directory=os.path.join(curr_dir, 'experiments'),\n",
    "    copy_videos=True\n",
    ")\n",
    "config_path_mg117 = deeplabcut.create_new_project(\n",
    "    project='mgh_pose_dlc_MG117',\n",
    "    experimenter='Kalpit',\n",
    "    videos=videos_mg117,\n",
    "    working_directory=os.path.join(curr_dir, 'experiments'),\n",
    "    copy_videos=True\n",
    ")\n",
    "config_path_mg118 = deeplabcut.create_new_project(\n",
    "    project='mgh_pose_dlc_MG118',\n",
    "    experimenter='Kalpit',\n",
    "    videos=videos_mg118,\n",
    "    working_directory=os.path.join(curr_dir, 'experiments'),\n",
    "    copy_videos=True\n",
    ")\n",
    "config_path_mg120b = deeplabcut.create_new_project(\n",
    "    project='mgh_pose_dlc_MG120b',\n",
    "    experimenter='Kalpit',\n",
    "    videos=videos_mg120b,\n",
    "    working_directory=os.path.join(curr_dir, 'experiments'),\n",
    "    copy_videos=True\n",
    ")"
   ]
  },
  {
   "cell_type": "code",
   "execution_count": null,
   "metadata": {},
   "outputs": [],
   "source": [
    "# Extract frames from the videos mentioned in the YAML at config_path and check if they are labeled (I generated\n",
    "# labels by hand as we had already annotated them).\n",
    "# deeplabcut.extract_frames(config_path, 'automatic', 'uniform', crop=False)\n",
    "# deeplabcut.check_labels(config_path)"
   ]
  },
  {
   "cell_type": "code",
   "execution_count": null,
   "metadata": {},
   "outputs": [],
   "source": [
    "# Run this function to create the training dataset for different subjects\n",
    "deeplabcut.create_training_dataset(config_path_bw46)\n",
    "deeplabcut.create_training_dataset(config_path_mg51b)\n",
    "deeplabcut.create_training_dataset(config_path_mg117)\n",
    "deeplabcut.create_training_dataset(config_path_mg118)\n",
    "deeplabcut.create_training_dataset(config_path_mg120b)"
   ]
  },
  {
   "cell_type": "code",
   "execution_count": null,
   "metadata": {},
   "outputs": [],
   "source": [
    "# Train the network for different subjects one by one (the parameters to the train_network are good I think.\n",
    "# You can add something by referring the deeplabcut readme if you want to)\n",
    "config_path = config_path_mg120b   # Change this value for different subject training\n",
    "deeplabcut.train_network(config_path,\n",
    "                         shuffle=1,\n",
    "                         trainingsetindex=0,\n",
    "                         max_snapshots_to_keep=5,\n",
    "                         autotune=False,\n",
    "                         displayiters=100,\n",
    "                         saveiters=20000,\n",
    "                         maxiters=200000)"
   ]
  },
  {
   "cell_type": "code",
   "execution_count": null,
   "metadata": {},
   "outputs": [],
   "source": [
    "config_path = config_path_bw46\n",
    "# Analyze videos (generate predictions) and plot the predictions on the videos (this takes a long time)\n",
    "# Note that, config_path is set in the previous cell already so it will use that subject here\n",
    "vpath = '/media/data_cifs/lakshmi/MGH/mgh-pose/test_videos/dlc_bw46/'\n",
    "videos = glob.glob(os.path.join(vpath, '*.avi'))\n",
    "deeplabcut.analyze_videos(config_path, videos, save_as_csv=True)\n",
    "deeplabcut.create_labeled_video(config_path, videos, save_frames=True)"
   ]
  },
  {
   "cell_type": "code",
   "execution_count": null,
   "metadata": {},
   "outputs": [],
   "source": [
    "config_path = config_path_bw46\n",
    "vpath = '/media/data_cifs/lakshmi/MGH/mgh-pose/test_videos/v3_DLC/BW46'\n",
    "videos = glob.glob(os.path.join(vpath, '*.avi'))\n",
    "deeplabcut.analyze_videos(config_path, videos, save_as_csv=True)\n",
    "#deeplabcut.create_labeled_video(config_path, videos, save_frames=True)\n",
    "\n",
    "config_path = config_path_mg51b\n",
    "vpath = '/media/data_cifs/lakshmi/MGH/mgh-pose/test_videos/v3_DLC/MG51b'\n",
    "videos = glob.glob(os.path.join(vpath, '*.avi'))\n",
    "deeplabcut.analyze_videos(config_path, videos, save_as_csv=True)\n",
    "\n",
    "config_path = config_path_mg117\n",
    "vpath = '/media/data_cifs/lakshmi/MGH/mgh-pose/test_videos/v3_DLC/MG117'\n",
    "videos = glob.glob(os.path.join(vpath, '*.avi'))\n",
    "deeplabcut.analyze_videos(config_path, videos, save_as_csv=True)\n",
    "\n",
    "config_path = config_path_mg118\n",
    "vpath = '/media/data_cifs/lakshmi/MGH/mgh-pose/test_videos/v3_DLC/MG118'\n",
    "videos = glob.glob(os.path.join(vpath, '*.avi'))\n",
    "deeplabcut.analyze_videos(config_path, videos, save_as_csv=True)\n",
    "\n",
    "config_path = config_path_mg120b\n",
    "vpath = '/media/data_cifs/lakshmi/MGH/mgh-pose/test_videos/v3_DLC/MG120b'\n",
    "videos = glob.glob(os.path.join(vpath, '*.avi'))\n",
    "deeplabcut.analyze_videos(config_path, videos, save_as_csv=True)"
   ]
  }
 ],
 "metadata": {
  "kernelspec": {
   "display_name": "Python 3",
   "language": "python",
   "name": "python3"
  },
  "language_info": {
   "codemirror_mode": {
    "name": "ipython",
    "version": 3
   },
   "file_extension": ".py",
   "mimetype": "text/x-python",
   "name": "python",
   "nbconvert_exporter": "python",
   "pygments_lexer": "ipython3",
   "version": "3.6.8"
  }
 },
 "nbformat": 4,
 "nbformat_minor": 2
}
